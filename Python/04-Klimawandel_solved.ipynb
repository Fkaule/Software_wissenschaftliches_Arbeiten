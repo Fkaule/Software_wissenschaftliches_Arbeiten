{
 "cells": [
  {
   "cell_type": "markdown",
   "id": "31542f27",
   "metadata": {},
   "source": [
    "# Plots zum Klimawandel"
   ]
  },
  {
   "cell_type": "markdown",
   "id": "58da4d24",
   "metadata": {},
   "source": [
    "## Global: Durchschnittstemperatur (Land und Ozean zusammen)\n",
    "\n",
    "Wir wollen nun die globalen Temperaturen visualisieren und greifen dazu auf die Daten der [NASA](https://data.giss.nasa.gov/gistemp/graphs_v4/) zurück.\n",
    "\n",
    "Es werden somit Daten von Dateien (online oder offline) eingelesen mit der Python Bilbiothek `pandas`"
   ]
  },
  {
   "cell_type": "markdown",
   "id": "c76757c4",
   "metadata": {},
   "source": [
    "### Daten importieren"
   ]
  },
  {
   "cell_type": "code",
   "execution_count": null,
   "id": "a523b8bd",
   "metadata": {},
   "outputs": [],
   "source": [
    "import pandas as pd\n",
    "link = \"https://data.giss.nasa.gov/gistemp/graphs_v4/graph_data/Global_Mean_Estimates_based_on_Land_and_Ocean_Data/graph.csv\"\n",
    "\n",
    "Temp_NASA = pd.read_csv(link, header=1) # einlesen\n",
    "Temp_NASA # Ausgabe"
   ]
  },
  {
   "cell_type": "markdown",
   "id": "4355392d",
   "metadata": {},
   "source": [
    "Die Spalten können nun über den Namen des DataFrames und die jeweilige Spalte in eckigen Klammern mit Hochkommas verwendet werden, z.B.:"
   ]
  },
  {
   "cell_type": "code",
   "execution_count": null,
   "id": "18fa7715",
   "metadata": {},
   "outputs": [],
   "source": [
    "Temp_NASA[\"Year\"]"
   ]
  },
  {
   "cell_type": "markdown",
   "id": "2a4e49fa",
   "metadata": {},
   "source": [
    "### Daten plotten\n",
    "\n",
    "**Aufgabe a)** Plotten Sie die Spalte `No_Smoothing` (Werte) und `Lowess(5)` (Glättung) über die (Jahre) mit der Spalte `Year`"
   ]
  },
  {
   "cell_type": "code",
   "execution_count": null,
   "id": "940ed530",
   "metadata": {},
   "outputs": [],
   "source": [
    "import matplotlib.pyplot as plt\n",
    "\n",
    "plt.style.use('default')\n",
    "plt.figure(figsize=(10,4))\n",
    "plt.rcParams['font.size'] = 14;\n",
    "plt.ylabel(\"Jahresmitteltemperaturabweichung [°C]\")\n",
    "plt.plot(Temp_NASA[\"Year\"],Temp_NASA[\"No_Smoothing\"], ls=\"-\", lw=1, marker=\"s\", ms=3, color=\"tab:blue\", alpha=0.5, label=\"Werte\");\n",
    "plt.plot(Temp_NASA[\"Year\"],Temp_NASA[\"Lowess(5)\"], lw=3,  color=\"tab:blue\", label=\"geglättet\");\n",
    "plt.legend();\n",
    "plt.grid();"
   ]
  },
  {
   "cell_type": "markdown",
   "id": "f47368fb",
   "metadata": {},
   "source": [
    "### Datenverarbeitung\n",
    "\n",
    "Die Bibliothek `pandas` ist sehr umfangreich und wird viel zur Datenverarbeitung genutzt. Im folgenden dazu einige Beispiele"
   ]
  },
  {
   "cell_type": "markdown",
   "id": "e028a211",
   "metadata": {},
   "source": [
    "**alle Spalten analysieren (Anzahl/Mittelwert/Min/Max/Percentile)**"
   ]
  },
  {
   "cell_type": "code",
   "execution_count": null,
   "id": "834b85aa",
   "metadata": {},
   "outputs": [],
   "source": [
    "Temp_NASA.describe()"
   ]
  },
  {
   "cell_type": "markdown",
   "id": "dd9af1c1",
   "metadata": {},
   "source": [
    "**Maximum bestimmen** (Beispiel: stärkster Tempetaturunterschied)"
   ]
  },
  {
   "cell_type": "code",
   "execution_count": null,
   "id": "f8563705",
   "metadata": {},
   "outputs": [],
   "source": [
    "Temp_NASA[\"No_Smoothing\"].max()"
   ]
  },
  {
   "cell_type": "markdown",
   "id": "6be9b775",
   "metadata": {},
   "source": [
    "**index zum Maximum bestimmen** (Beispiel: Jahr des stärksten Tempetaturunterschieds)\n",
    "\n",
    "- Es wird ein `index` (entspricht meistens Zeilennummer) ausgegeben"
   ]
  },
  {
   "cell_type": "code",
   "execution_count": null,
   "id": "742d13b9",
   "metadata": {},
   "outputs": [],
   "source": [
    "index_max = Temp_NASA[\"No_Smoothing\"].idxmax()\n",
    "print(index_max)"
   ]
  },
  {
   "cell_type": "markdown",
   "id": "a3854f40",
   "metadata": {},
   "source": [
    "mit dem `.loc` Befehl wird die Tabelle mit nun gefunden `index` ausgegeben werden"
   ]
  },
  {
   "cell_type": "code",
   "execution_count": null,
   "id": "20982e00",
   "metadata": {},
   "outputs": [],
   "source": [
    "Temp_NASA.loc[index_max]"
   ]
  },
  {
   "cell_type": "markdown",
   "id": "9b11dbaa",
   "metadata": {},
   "source": [
    "Mit `.sort_values(\"Spaltenname\")` können wir auch die Tabelle nach dem definierten Spaltennamen sortieren (standardmäßig in **ansteigender** Reihenfolge)"
   ]
  },
  {
   "cell_type": "code",
   "execution_count": null,
   "id": "1e332d41",
   "metadata": {},
   "outputs": [],
   "source": [
    "Temp_NASA.sort_values(\"No_Smoothing\")"
   ]
  },
  {
   "cell_type": "markdown",
   "id": "e2bb0fa0",
   "metadata": {},
   "source": [
    "mit `ascending=False` wird absteigend sortiert"
   ]
  },
  {
   "cell_type": "code",
   "execution_count": null,
   "id": "eb0af2b3",
   "metadata": {},
   "outputs": [],
   "source": [
    "Temp_NASA.sort_values(\"No_Smoothing\",ascending=False)"
   ]
  },
  {
   "cell_type": "markdown",
   "id": "b62c8803",
   "metadata": {},
   "source": [
    "mit `.head(Anzahl)` können wir angeben wieviele Zeilen (vom **Kopf** beginnend) **angezeigt** werden. Mit `.tail(Anzahl)` erfolgt die ausgabe der letzten Werte mit der jeweiligen Anzahl\n",
    "\n",
    "**WICHTIG**: Der Dataframe `Temp_NASA` wird dadurch nicht verändert, es handelt sich nur um eine Anzeige!"
   ]
  },
  {
   "cell_type": "code",
   "execution_count": null,
   "id": "9cebb829",
   "metadata": {},
   "outputs": [],
   "source": [
    "Temp_NASA.sort_values(\"No_Smoothing\",ascending=False).head(10)"
   ]
  },
  {
   "cell_type": "markdown",
   "id": "e0034e6d",
   "metadata": {},
   "source": [
    "**Aufgabe**: Wie viele 10 stärksten (positiven) Abweichungen lagen in den letzten 10 Jahren?\n",
    "\n",
    "Ein möglicher Weg:\n",
    "1. Neue Dataframe `top10` erzeugen mit den 10 stärksten positiven Abweichungen\n",
    "2. Prüfen welche Jahre davor in den letzten 10 Jahren sind und dies als neue Spalte `last 10 years?` speichern\n",
    "3. Ausgabe des Dataframes mit der neuen Spalte"
   ]
  },
  {
   "cell_type": "code",
   "execution_count": null,
   "id": "b119b01b",
   "metadata": {},
   "outputs": [],
   "source": [
    "top10 = Temp_NASA.sort_values(\"No_Smoothing\",ascending=False)[0:10] # mit [0:10] nehmen wir Spalten von 0 bis ausschließlich 10 (Anzahl=10)\n",
    "top10[\"last 10 years?\"] = top10[\"Year\"]>=(2021-10) # Neue Spalte \"last 10 years?\" erstellt > geprüft ob die Spalte \"Year\" Einträge hat die größer gleich 2021-10 sind\n",
    "top10 #Ausgabe"
   ]
  },
  {
   "cell_type": "markdown",
   "id": "07173ad5",
   "metadata": {},
   "source": [
    "In den NASA Originaldaten gibt es bereits eine Glättung. Diese können wir z.B. durch einen rollenden Mittelwert selbst erzeugen.\n",
    "\n",
    "Dazu benutzen wir die Funktion `.rolling(Anzahl, center=True).mean()` (mit `center=true` wird das Label auf die Mitte gesetzt)\n",
    "\n",
    "**Wichtig**: Die Tabelle muss in dem Fall nach den Jahren sortiert sein, deshalb prüfen wir dies erneut:"
   ]
  },
  {
   "cell_type": "code",
   "execution_count": null,
   "id": "668df13c",
   "metadata": {},
   "outputs": [],
   "source": [
    "Temp_NASA"
   ]
  },
  {
   "cell_type": "code",
   "execution_count": null,
   "id": "fcb8f179",
   "metadata": {},
   "outputs": [],
   "source": [
    "Temp_NASA[\"Rollender Mittelwert (5)\"] = Temp_NASA[\"No_Smoothing\"].rolling(5,center=True).mean()\n",
    "Temp_NASA"
   ]
  },
  {
   "cell_type": "markdown",
   "id": "dd685206",
   "metadata": {},
   "source": [
    "Eine weitere Variante der Glättung ist die **LO**cally **WE**ighted **S**catter-plot **S**moother (LOWESS). Diese wurde scheinbar auch von der NASA verwendet. Eine genauere Erklärung zur Methode findet ihr [hier](https://youtu.be/b7oryuMP3r8)."
   ]
  },
  {
   "cell_type": "code",
   "execution_count": null,
   "id": "b1bb2208",
   "metadata": {},
   "outputs": [],
   "source": [
    "from statsmodels.nonparametric.smoothers_lowess import lowess\n",
    "Temp_NASA[\"Lowess(own)\"] = lowess(Temp_NASA[\"No_Smoothing\"],Temp_NASA[\"Year\"], frac=1/14)[:,1]"
   ]
  },
  {
   "cell_type": "code",
   "execution_count": null,
   "id": "4682804e",
   "metadata": {},
   "outputs": [],
   "source": [
    "Temp_NASA"
   ]
  },
  {
   "cell_type": "code",
   "execution_count": null,
   "id": "ff9c2066",
   "metadata": {},
   "outputs": [],
   "source": [
    "import matplotlib.pyplot as plt\n",
    "\n",
    "plt.style.use('default')\n",
    "\n",
    "plt.figure(figsize=(10,4))\n",
    "plt.rcParams['font.size'] = 14;\n",
    "plt.ylabel(\"Jahresmitteltemperaturabweichung [°C]\")\n",
    "plt.plot(Temp_NASA[\"Year\"],Temp_NASA[\"No_Smoothing\"], ls=\"-\", lw=1, marker=\"s\", ms=3, color=\"tab:gray\", alpha=0.5, label=\"Werte\");\n",
    "plt.plot(Temp_NASA[\"Year\"],Temp_NASA[\"Lowess(5)\"], lw=4,  color=\"tab:blue\", label=\"Glättung (NASA)\");\n",
    "plt.plot(Temp_NASA[\"Year\"],Temp_NASA[\"Rollender Mittelwert (5)\"], lw=2,  color=\"tab:red\", label=\"eigene Glättung (Rollender Mittelwert 5 , zentriert)\");\n",
    "plt.plot(Temp_NASA[\"Year\"],Temp_NASA[\"Lowess(own)\"],ls=\"--\",lw=2,  color=\"orange\", label=\"eigene Glättung (LOWESS f=1/14)\");\n",
    "\n",
    "plt.legend();\n",
    "plt.grid();"
   ]
  },
  {
   "cell_type": "markdown",
   "id": "a91811ac",
   "metadata": {},
   "source": [
    "Die Verwendung des rollenden Mittelwertes hat das Problem, dass dabei immer Werte fehlen (Anfang/Ende). Die gewählten Mit den gewählten Parametern für das LOWESS sind die Ergebnisse ähnlich zur Original Glättung"
   ]
  },
  {
   "cell_type": "markdown",
   "id": "eba6c524",
   "metadata": {},
   "source": [
    "## Global: Durchschnittstemperatur (Land + Ozean getrennt)\n",
    "\n",
    "**Aufgabe b)** Stellen Sie die Kurven für die Erwärmung an Landoberfläche und an der Ozeanoberfläche grafisch dar und beschriften Sie das Diagramm entsprechend"
   ]
  },
  {
   "cell_type": "markdown",
   "id": "b324beaa",
   "metadata": {},
   "source": [
    "### Daten importieren"
   ]
  },
  {
   "cell_type": "code",
   "execution_count": null,
   "id": "62ed39ad",
   "metadata": {},
   "outputs": [],
   "source": [
    "link = \"https://data.giss.nasa.gov/gistemp/graphs_v4/graph_data/Temperature_Anomalies_over_Land_and_over_Ocean/graph.csv\""
   ]
  },
  {
   "cell_type": "code",
   "execution_count": null,
   "id": "6e8f3926",
   "metadata": {},
   "outputs": [],
   "source": [
    "Temp_NASA2 = pd.read_csv(link, header=1) # einlesen\n",
    "Temp_NASA2 # Ausgabe"
   ]
  },
  {
   "cell_type": "markdown",
   "id": "06c857bf",
   "metadata": {},
   "source": [
    "### Daten plotten"
   ]
  },
  {
   "cell_type": "code",
   "execution_count": null,
   "id": "0ddcb5ff",
   "metadata": {},
   "outputs": [],
   "source": [
    "plt.style.use('default')\n",
    "\n",
    "plt.figure(figsize=(10,4))\n",
    "plt.rcParams['font.size'] = 14;\n",
    "plt.ylabel(\"Jahresmitteltemperaturabweichung [°C]\")\n",
    "plt.plot(Temp_NASA2[\"Year\"],Temp_NASA2[\"Land_Annual\"], ls=\"-\", lw=1, marker=\"s\", ms=3, color=\"tab:red\", alpha=0.5, label=\"Land\");\n",
    "plt.plot(Temp_NASA2[\"Year\"],Temp_NASA2[\"Lowess(5)\"], lw=3,  color=\"tab:red\", label=\"Land (geglättet)\");\n",
    "plt.plot(Temp_NASA2[\"Year\"],Temp_NASA2[\"Ocean_Annual\"], ls=\"-\", lw=1, marker=\"s\", ms=3, color=\"tab:blue\", alpha=0.5, label=\"Ozean\");\n",
    "plt.plot(Temp_NASA2[\"Year\"],Temp_NASA2[\"Lowess(5).1\"], lw=3,  color=\"tab:blue\", label=\"Ozean (geglättet)\");\n",
    "plt.legend();\n",
    "plt.grid();"
   ]
  },
  {
   "cell_type": "markdown",
   "id": "6d2d6bea",
   "metadata": {},
   "source": [
    "## Deutschland: Durchschnittstemperatur (Land)\n",
    "\n",
    "Beim [Umweltbundesamt](https://www.umweltbundesamt.de/daten/klima/trends-der-lufttemperatur#2020-bisher-zweitwarmstes-jahr-in-deutschland) gibt es aktuelle Zahlen zur Erwärmung der Luftemperatur in Deutschland. Die Werte befinden sich in [dieser Exceltabelle](https://www.umweltbundesamt.de/sites/default/files/medien/384/bilder/dateien/3-bis-8_abb-tab_tmt_2021-05-12.xlsx), welche mit dem Befehl `pd.read_excel()` eingelesen werden kann, wobei hierbei der Name des ExcelSheets und die verwendenten Spaltennummern angegeben werden können."
   ]
  },
  {
   "cell_type": "markdown",
   "id": "e48c430e",
   "metadata": {},
   "source": [
    "### Daten importieren"
   ]
  },
  {
   "cell_type": "code",
   "execution_count": null,
   "id": "66555cad",
   "metadata": {},
   "outputs": [],
   "source": [
    "# Einlesen\n",
    "link = \"https://www.umweltbundesamt.de/sites/default/files/medien/384/bilder/dateien/3-bis-8_abb-tab_tmt_2021-05-12.xlsx\"\n",
    "\n",
    "Temp_GER = pd.read_excel(link,sheet_name=\"3_DWD\",usecols=[1,19]) # einlesen\n",
    "Temp_GER.columns=[\"Jahr\",\"Jahresmitteltemperatur [°C]\"]\n",
    "Temp_GER.to_csv(\"data/Temp_Deutschland.csv\", index=False)"
   ]
  },
  {
   "cell_type": "markdown",
   "id": "f1a04c0f",
   "metadata": {},
   "source": [
    "### Daten aufbereiten"
   ]
  },
  {
   "cell_type": "code",
   "execution_count": null,
   "id": "81d60607",
   "metadata": {},
   "outputs": [],
   "source": [
    "# Daten aufbereiten\n",
    "Temp_GER.dropna(inplace=True) # Zeilen mit \"NaN\" Werte rausschmeissen und dataframe speichern \n",
    "Temp_GER[\"Jahr\"] = Temp_GER[\"Jahr\"].astype(int) # Spalte \"Jahr\" als integer definieren\n",
    "Temp_GER"
   ]
  },
  {
   "cell_type": "code",
   "execution_count": null,
   "id": "13c729db",
   "metadata": {},
   "outputs": [],
   "source": [
    "# Temperaturabweichung berechnen (Abweichung von Mittelwert der Temperatur zwischen 1881 und 1900)\n",
    "mean_GER1881_1910 = Temp_GER.loc[Temp_GER[\"Jahr\"] <= 1910,\"Jahresmitteltemperatur [°C]\"].mean()\n",
    "Temp_GER[\"Jahresmitteltemperaturabweichung [°C]\"] = Temp_GER[\"Jahresmitteltemperatur [°C]\"] - mean_GER1881_1910\n",
    "Temp_GER"
   ]
  },
  {
   "cell_type": "code",
   "execution_count": null,
   "id": "ad4cfbd6",
   "metadata": {},
   "outputs": [],
   "source": [
    "# Glättung\n",
    "from statsmodels.nonparametric.smoothers_lowess import lowess\n",
    "Temp_GER[\"Lowess(own)\"] = lowess(Temp_GER[\"Jahresmitteltemperaturabweichung [°C]\"],Temp_GER[\"Jahr\"], frac=1/14)[:,1]\n",
    "Temp_GER"
   ]
  },
  {
   "cell_type": "markdown",
   "id": "07234d3a",
   "metadata": {},
   "source": [
    "### Daten plotten"
   ]
  },
  {
   "cell_type": "markdown",
   "id": "cf1b67ce",
   "metadata": {},
   "source": [
    "**Aufgabe c)** Stellen Sie folgende Daten zusammen dar:\n",
    "- global: Land+Ozean (geglättet) <- NASA\n",
    "- global: Land (geglättet) <- NASA\n",
    "- Deutschland: Land (Werte) <- DWD\n",
    "- Deutschland: Land (geglättet) <- DWD"
   ]
  },
  {
   "cell_type": "code",
   "execution_count": null,
   "id": "c690e8f5",
   "metadata": {},
   "outputs": [],
   "source": [
    "plt.style.use('default')\n",
    "\n",
    "plt.figure(figsize=(10,4))\n",
    "plt.rcParams['font.size'] = 14;\n",
    "plt.ylabel(\"Jahresmitteltemperaturabweichung [°C]\")\n",
    "plt.plot(Temp_NASA[\"Year\"],Temp_NASA[\"Lowess(5)\"], lw=3,  color=\"tab:blue\", label=\"global: Land+Ozean (5 Jahre geglättet) [NASA]\");\n",
    "plt.plot(Temp_NASA2[\"Year\"],Temp_NASA2[\"Lowess(5)\"], lw=3,  color=\"tab:red\", label=\"global: Land (5 Jahre geglättet) [NASA]\");\n",
    "plt.plot(Temp_GER[\"Jahr\"],Temp_GER[\"Jahresmitteltemperaturabweichung [°C]\"], ls=\"-\", lw=1,marker=\"s\", ms=3, color=\"gray\",alpha=0.5, label=\"Deutschland Land (Werte) [DWD]\");\n",
    "plt.plot(Temp_GER[\"Jahr\"],Temp_GER[\"Lowess(own)\"], ls=\"-\", lw=2, color=\"black\", label=\"Deutschland Land (LOWESS) [DWD]\");\n",
    "\n",
    "plt.legend(fontsize=12);\n",
    "plt.grid();"
   ]
  },
  {
   "cell_type": "markdown",
   "id": "b0ebe91f",
   "metadata": {},
   "source": [
    "### Vergleich mit Abbildung aus Leoplodina Factsheet"
   ]
  },
  {
   "cell_type": "markdown",
   "id": "6b3f9f8d",
   "metadata": {},
   "source": [
    "Vergleichen wir diese Darstellung nun mal mit einer aus dem [Factsheet der Leopoldina](https://doi.org/10.26164/leopoldina_03_00327):\n",
    "\n",
    "Nationale Akademie der Wissenschaften Leopoldina (2021): Klimawandel: Ursachen,\n",
    "Folgen und Handlungsmöglichkeiten. Halle (Saale).\n",
    "\n",
    "![](images/FactSheetLeopoldina_TempGer.png)"
   ]
  },
  {
   "cell_type": "markdown",
   "id": "d28550d9",
   "metadata": {},
   "source": [
    "Hierbei wurde scheinbar eine sehr starke Glättung der Messdaten verwendet, wir erhöhen also den Wert `frac` für die LOWESS Methode und prüfen ob wir in ähnliche Bereiche kommen"
   ]
  },
  {
   "cell_type": "code",
   "execution_count": null,
   "id": "8e1cd6ba",
   "metadata": {},
   "outputs": [],
   "source": [
    "# Glättung\n",
    "from statsmodels.nonparametric.smoothers_lowess import lowess\n",
    "Temp_GER[\"Lowess(own2)\"] = lowess(Temp_GER[\"Jahresmitteltemperaturabweichung [°C]\"],Temp_GER[\"Jahr\"], frac=1/3)[:,1]\n",
    "Temp_GER_Lowess_own2_mean_untill_1910 = Temp_GER.loc[Temp_GER[\"Jahr\"] <= 1910,\"Lowess(own2)\"].mean()\n",
    "Temp_GER[\"Lowess(own2)\"] = Temp_GER[\"Lowess(own2)\"] - Temp_GER_Lowess_own2_mean_untill_1910\n",
    "\n",
    "Temp_NASA[\"Lowess(own3)\"] = lowess(Temp_NASA[\"No_Smoothing\"],Temp_NASA[\"Year\"], frac=1/3)[:,1]\n",
    "Temp_NASA_Lowess_own3_mean_untill_1910 = Temp_NASA.loc[Temp_NASA[\"Year\"] <= 1910,\"Lowess(own3)\"].mean()\n",
    "Temp_NASA[\"Lowess(own3)\"] = Temp_NASA[\"Lowess(own3)\"] - Temp_NASA_Lowess_own3_mean_untill_1910\n",
    "\n",
    "\n",
    "plt.style.use('default')\n",
    "\n",
    "plt.figure(figsize=(10,4))\n",
    "plt.rcParams['font.size'] = 14;\n",
    "plt.ylabel(\"Jahresmitteltemperaturabweichung [°C]\")\n",
    "plt.plot(Temp_NASA[\"Year\"],Temp_NASA[\"Lowess(own3)\"], lw=3,  color=\"tab:red\", label=\"global: Land+Ozean (eigene Glättung) [NASA]\");\n",
    "plt.plot(Temp_GER[\"Jahr\"],Temp_GER[\"Lowess(own2)\"], ls=\"-\", lw=2, color=\"gray\", label=\"Deutschland Land (LOWESS) [DWD]\");\n",
    "\n",
    "plt.legend(fontsize=12);\n",
    "plt.grid();"
   ]
  },
  {
   "cell_type": "markdown",
   "id": "a9582b27",
   "metadata": {},
   "source": [
    "Ausgabe der Temperaturdifferenz im Jahr 2020"
   ]
  },
  {
   "cell_type": "code",
   "execution_count": null,
   "id": "e6a2e5df",
   "metadata": {},
   "outputs": [],
   "source": [
    "Temp_NASA.loc[Temp_NASA[\"Year\"] == 2020]"
   ]
  },
  {
   "cell_type": "code",
   "execution_count": null,
   "id": "caf3e300",
   "metadata": {},
   "outputs": [],
   "source": [
    "Temp_GER.loc[Temp_GER[\"Jahr\"] == 2020]"
   ]
  },
  {
   "cell_type": "markdown",
   "id": "2ff9ee76",
   "metadata": {},
   "source": [
    "**Zusatzaufgabe** : Bestimmen Sie den linearen Anstieg für die Temperaturwerte  von Deutschland (LOWESS mit frac=1)"
   ]
  },
  {
   "cell_type": "code",
   "execution_count": null,
   "id": "e6b93e5e",
   "metadata": {},
   "outputs": [],
   "source": [
    "import numpy as np\n",
    "import pandas as pd\n",
    "\n",
    "x=Temp_GER[\"Jahr\"]\n",
    "y=Temp_GER[\"Jahresmitteltemperatur [°C]\"]\n",
    "model = np.polyfit(x, y, 1) # 1. Wert = Anstieg , 2. Wert = Schnittpunkt mit y-Achse\n",
    "y_model = model[0]*x+model[1]\n",
    "\n",
    "plt.style.use('default')\n",
    "plt.figure(figsize=(10,4))\n",
    "plt.rcParams['font.size'] = 14;\n",
    "plt.ylabel(\"Jahresmitteltemperaturabweichung [°C]\")\n",
    "plt.plot(Temp_GER[\"Jahr\"],Temp_GER[\"Jahresmitteltemperatur [°C]\"], ls=\"-\", lw=1,marker=\"s\", ms=3, color=\"gray\",alpha=0.5, label=\"Deutschland Land (Werte) [DWD]\");\n",
    "plt.plot(x,y_model, ls=\"-\", lw=3, color=\"tab:blue\",alpha=0.5, label=f\"lineare Regression (y={model[0]:.3f}*x+{model[1]:.3f})\");\n",
    "plt.legend(fontsize=12);\n",
    "plt.grid();"
   ]
  },
  {
   "cell_type": "code",
   "execution_count": null,
   "id": "f545e745",
   "metadata": {},
   "outputs": [],
   "source": [
    "print(f\"Temperaturanstieg pro Jahr (von 1981 bis 2020): {model[0]:.3f}°C/Jahr\")\n",
    "print(f\"Temperaturanstieg seit Beginn der Messung: {(y_model.iloc[-1]-y_model.iloc[0]):.3f}°C\")"
   ]
  },
  {
   "cell_type": "markdown",
   "id": "f1087ed0",
   "metadata": {},
   "source": [
    "**Vorsicht**: Die lineare Regression bezieht hier den ganzen Zeitraum mit ein, betrachten wir für den Temperaturgradienten nur die Daten von 1980 bis 2020:"
   ]
  },
  {
   "cell_type": "code",
   "execution_count": null,
   "id": "ec1d61d8",
   "metadata": {},
   "outputs": [],
   "source": [
    "x=Temp_GER.loc[Temp_GER[\"Jahr\"] >= 1980,\"Jahr\"]\n",
    "y=Temp_GER.loc[Temp_GER[\"Jahr\"] >= 1980,\"Jahresmitteltemperatur [°C]\"]\n",
    "model = np.polyfit(x, y, 1) # 1. Wert = Anstieg , 2. Wert = Schnittpunkt mit y-Achse\n",
    "y_model = model[0]*x+model[1]\n",
    "print(f\"Temperaturanstieg pro Jahr (von 1980 bis 2020): {model[0]:.3f}°C/Jahr\")"
   ]
  },
  {
   "cell_type": "code",
   "execution_count": null,
   "id": "1f718f8b",
   "metadata": {},
   "outputs": [],
   "source": [
    "plt.style.use('default')\n",
    "plt.figure(figsize=(10,4))\n",
    "plt.rcParams['font.size'] = 14;\n",
    "plt.ylabel(\"Jahresmitteltemperaturabweichung [°C]\")\n",
    "plt.plot(Temp_GER[\"Jahr\"],Temp_GER[\"Jahresmitteltemperatur [°C]\"], ls=\"-\", lw=1,marker=\"s\", ms=3, color=\"gray\",alpha=0.5, label=\"Deutschland Land (Werte) [DWD]\");\n",
    "plt.plot(x,y_model, ls=\"-\", lw=3, color=\"tab:blue\",alpha=0.5, label=f\"lineare Regression (y={model[0]:.3f}*x+{model[1]:.3f})\");\n",
    "plt.legend(fontsize=12);\n",
    "plt.grid();"
   ]
  },
  {
   "cell_type": "markdown",
   "id": "fdbb3b6a",
   "metadata": {},
   "source": [
    "## Treibhausgasemissionen\n",
    "\n",
    "Zunächst stellen wir die Treibhausgas-Konzentrationen dar <br>\n",
    "Quelle : [Umweltbundesamt](https://www.umweltbundesamt.de/daten/klima/atmosphaerische-treibhausgas-konzentrationen#beitrag-langlebiger-treibhausgase-zum-treibhauseffekt)"
   ]
  },
  {
   "cell_type": "markdown",
   "id": "6a6a4e9d",
   "metadata": {},
   "source": [
    "### Daten imortieren"
   ]
  },
  {
   "cell_type": "code",
   "execution_count": null,
   "id": "337e2994",
   "metadata": {},
   "outputs": [],
   "source": [
    "link = \"https://www.umweltbundesamt.de/sites/default/files/medien/384/bilder/dateien/6_abb_treibhausgas-gesamt-konz_2020-06-03.xlsx\"\n",
    "\n",
    "THG_Emission_UBA = pd.read_excel(link,sheet_name=\"Daten\",usecols=[1,2],header=8) # einlesen\n",
    "THG_Emission_UBA.to_csv(\"data/THG_Emission_UBA.csv\")"
   ]
  },
  {
   "cell_type": "markdown",
   "id": "f7aca7c4",
   "metadata": {},
   "source": [
    "### Daten Plotten"
   ]
  },
  {
   "cell_type": "markdown",
   "id": "3f0d97f1",
   "metadata": {},
   "source": [
    "**Aufgabe d)** Stellen Sie die Treibhausgasemissionen über die Jahre dar"
   ]
  },
  {
   "cell_type": "code",
   "execution_count": null,
   "id": "b5639c73",
   "metadata": {},
   "outputs": [],
   "source": [
    "plt.style.use('default')\n",
    "\n",
    "plt.figure(figsize=(10,4))\n",
    "plt.rcParams['font.size'] = 14;\n",
    "plt.ylabel(\"CO2-Äquivalent [ppm]\")\n",
    "plt.plot(THG_Emission_UBA[\"Jahr\"],THG_Emission_UBA[\"CO2-eq\\n(ppm)\"], lw=3,  color=\"tab:red\");\n",
    "plt.grid();"
   ]
  },
  {
   "cell_type": "markdown",
   "id": "9d835dc6",
   "metadata": {},
   "source": [
    "## Vergleich zweier CO2 Messtationen \n",
    "\n",
    "Auf der Seite vom Umweltbundesamt findet man auch CO2 Messwerte verschiedener Messtationen: <br>\n",
    "Quelle : [Umweltbundesamt](https://www.umweltbundesamt.de/daten/klima/atmosphaerische-treibhausgas-konzentrationen#kohlendioxid-)\n",
    "\n",
    "[Quelle Welttrend WMO](https://gaw.kishou.go.jp/publications/global_mean_mole_fractions#content2) <br>\n",
    "[Quelle Mauna Loa](https://www.esrl.noaa.gov/gmd/ccgg/trends/data.html) <br>\n",
    "[Quelle Schauinsland  und Zugspitze](http://www.uba.de/gaw)"
   ]
  },
  {
   "cell_type": "code",
   "execution_count": null,
   "id": "cd4d95a7",
   "metadata": {},
   "outputs": [],
   "source": [
    "link=\"https://www.umweltbundesamt.de/sites/default/files/medien/384/bilder/dateien/2-4_abb_langzeitreihen-konz_2021-05-26.xlsx\"\n",
    "\n",
    "CO2_Emission_UBA = pd.read_excel(link,sheet_name=\"Kohlendioxid-Daten\",usecols=[0,1,2,3,4]) # einlesen\n",
    "CO2_Emission_UBA.columns = [\"Jahr\",\"Mauna Loa, Hawaii\",\"Schauinsland\",\"Zugspitze\",\"Welttrend WMO\"]\n",
    "CO2_Emission_UBA.to_csv(\"data/CO2_Emission_UBA.csv\")\n",
    "CO2_Emission_UBA.head()\n"
   ]
  },
  {
   "cell_type": "code",
   "execution_count": null,
   "id": "a56fc761",
   "metadata": {},
   "outputs": [],
   "source": [
    "plt.style.use('default')\n",
    "\n",
    "plt.figure(figsize=(10,4))\n",
    "plt.rcParams['font.size'] = 14;\n",
    "plt.ylabel(\"$\\mathrm{CO_2}$-Konzentration in der Atmosphäre [ppm]\")\n",
    "plt.plot(CO2_Emission_UBA[\"Jahr\"],CO2_Emission_UBA[\"Mauna Loa, Hawaii\"], lw=2,  label=\"Mauna Loa, Hawaii\", c=\"tab:orange\");\n",
    "plt.plot(CO2_Emission_UBA[\"Jahr\"],CO2_Emission_UBA[\"Schauinsland\"], lw=2,  label=\"Schauinsland\", c=\"tab:green\");\n",
    "plt.plot(CO2_Emission_UBA[\"Jahr\"],CO2_Emission_UBA[\"Zugspitze\"], lw=2,  label=\"Zugspitze\", c=\"tab:blue\");\n",
    "plt.plot(CO2_Emission_UBA[\"Jahr\"],CO2_Emission_UBA[\"Welttrend WMO\"], lw=2,  label=\"Welttrend WMO\", c=\"tab:red\");\n",
    "\n",
    "plt.legend();\n",
    "plt.grid();"
   ]
  },
  {
   "cell_type": "markdown",
   "id": "3ad5b532",
   "metadata": {},
   "source": [
    "## Übersicht Treibhausgase\n",
    "\n",
    "[Quelle: Umweltbundesamt](https://www.umweltbundesamt.de/daten/klima/atmosphaerische-treibhausgas-konzentrationen#beitrag-langlebiger-treibhausgase-zum-treibhauseffekt)\n",
    "\n",
    "Excel-Tabelle: https://www.umweltbundesamt.de/sites/default/files/medien/384/bilder/dateien/5_abb_beitrag-treibhauseffekt-co2-thg_2021-05-26.xlsx\n",
    "\n",
    "Quelle Daten: NOAA Earth System Research Laboratory, The NOAA annual greenhouse gas index (AGGI), https://www.esrl.noaa.gov/gmd/aggi/aggi.html"
   ]
  },
  {
   "cell_type": "code",
   "execution_count": null,
   "id": "9c00f180",
   "metadata": {},
   "outputs": [],
   "source": [
    "# Daten\n",
    "Beitrag = np.array([2076,516,202,161,57,129])\n",
    "Beitrag_Prozent = Beitrag/Beitrag.sum()*100\n",
    "Bezeichnung = np.array([\"Kohlendioxid (CO₂)\",\"Methan (CH₄)\",\"Lachgas (N₂O)\",\"Dichlordifluormethan (CFC-12)\",\"Trichlorfluormethan (CFC-11)\",\"15 weitere Treibhausgase\"])\n",
    "\n",
    "# Plot\n",
    "plt.figure(figsize=(6,4));\n",
    "plt.rcParams['font.size'] = 14;\n",
    "plt.bar(Bezeichnung,Beitrag_Prozent);\n",
    "plt.ylabel('Anteil [%]');\n",
    "plt.title('Beitrag zum Treibhauseffekt durch verschiedene Treibhausgase', fontsize=12);\n",
    "plt.xticks(rotation=30, ha='right', fontsize=12);\n",
    "plt.grid(axis='y');\n",
    "plt.gca().set_axisbelow(True);"
   ]
  },
  {
   "cell_type": "code",
   "execution_count": null,
   "id": "c0352a23",
   "metadata": {},
   "outputs": [],
   "source": [
    "# Daten\n",
    "Beitrag = np.array([2076,516,202,161,57,129])\n",
    "Beitrag_Prozent = Beitrag/Beitrag.sum()*100\n",
    "Bezeichnung = np.array([\"Kohlendioxid (CO₂)\",\"Methan (CH₄)\",\"Lachgas (N₂O)\",\"Dichlordifluormethan (CFC-12)\",\"Trichlorfluormethan (CFC-11)\",\"15 weitere Treibhausgase\"])\n",
    "\n",
    "# Plot\n",
    "plt.figure(figsize=(6,4))\n",
    "plt.rcParams['font.size'] = 14;\n",
    "plt.barh(Bezeichnung,Beitrag_Prozent)\n",
    "plt.ylabel('Anteil [%]')\n",
    "plt.title('Beitrag zum Treibhauseffekt durch verschiedene Treibhausgase', fontsize=12);\n",
    "plt.grid(axis='x');\n",
    "plt.gca().set_axisbelow(True);"
   ]
  },
  {
   "cell_type": "markdown",
   "id": "5705060f",
   "metadata": {},
   "source": [
    "Wenn wir die Einträge sortieren möchten, müssen wir die Listen in ein `pandas` `dataframe` einfügen"
   ]
  },
  {
   "cell_type": "code",
   "execution_count": null,
   "id": "478d7159",
   "metadata": {},
   "outputs": [],
   "source": [
    "THG_Anteil = pd.DataFrame(data=([Bezeichnung,Beitrag,Beitrag_Prozent])).T\n",
    "THG_Anteil.columns=[\"Name\",\"Anteil\",\"Anteil [%]\"]\n",
    "THG_Anteil"
   ]
  },
  {
   "cell_type": "code",
   "execution_count": null,
   "id": "4126f9bd",
   "metadata": {},
   "outputs": [],
   "source": [
    "THG_Anteil.sort_values(\"Anteil [%]\",ascending=False, inplace=True)\n",
    "THG_Anteil"
   ]
  },
  {
   "cell_type": "code",
   "execution_count": null,
   "id": "57e714ff",
   "metadata": {},
   "outputs": [],
   "source": [
    "# Plot\n",
    "plt.figure(figsize=(6,4))\n",
    "plt.rcParams['font.size'] = 14;\n",
    "plt.barh(THG_Anteil[\"Name\"],THG_Anteil[\"Anteil [%]\"])\n",
    "plt.ylabel('Anteil [%]')\n",
    "plt.title('Beitrag zum Treibhauseffekt durch verschiedene Treibhausgase', fontsize=12);\n",
    "plt.grid(axis='x');\n",
    "plt.gca().set_axisbelow(True);"
   ]
  }
 ],
 "metadata": {
  "kernelspec": {
   "display_name": "Python 3",
   "language": "python",
   "name": "python3"
  },
  "language_info": {
   "codemirror_mode": {
    "name": "ipython",
    "version": 3
   },
   "file_extension": ".py",
   "mimetype": "text/x-python",
   "name": "python",
   "nbconvert_exporter": "python",
   "pygments_lexer": "ipython3",
   "version": "3.8.5"
  }
 },
 "nbformat": 4,
 "nbformat_minor": 5
}
