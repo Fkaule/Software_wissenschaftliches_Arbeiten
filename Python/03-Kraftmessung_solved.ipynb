{
 "cells": [
  {
   "cell_type": "markdown",
   "id": "8938a5b1",
   "metadata": {},
   "source": [
    "Darunter liegende Zeile ausführen (für Kontrolle der Lösung + Hinweise + Lösung )"
   ]
  },
  {
   "cell_type": "code",
   "execution_count": 1,
   "id": "f807e915",
   "metadata": {},
   "outputs": [],
   "source": [
    "import os\n",
    "import sys\n",
    "sys.path.insert(0, os.path.abspath('../'))\n",
    "from learntools.core import binder;binder.bind(globals())\n",
    "from learntools import *\n",
    "from learntools_HTWK.python.ex2 import *"
   ]
  },
  {
   "cell_type": "code",
   "execution_count": 15,
   "id": "3dc87ed5",
   "metadata": {},
   "outputs": [
    {
     "name": "stdout",
     "output_type": "stream",
     "text": [
      "|    |   Weg [mm] |   Kraft (Probe1) [N] |   Kraft (Probe2) [N] |\n",
      "|---:|-----------:|---------------------:|---------------------:|\n",
      "|  0 |          0 |                   10 |                    0 |\n",
      "|  1 |         10 |                   18 |                   10 |\n",
      "|  2 |         20 |                   24 |                   20 |\n",
      "|  3 |         30 |                   28 |                   30 |\n",
      "|  4 |         40 |                   30 |                   40 |\n"
     ]
    }
   ],
   "source": [
    "#create table\n",
    "import pandas as pd\n",
    "x = [0,10,20,30,40]\n",
    "y1 = [10,18,24,28,30]\n",
    "y2 = [0,10,20,30,40]\n",
    "df = pd.DataFrame({'Weg [mm]':x, 'Kraft (Probe1) [N]':y1, 'Kraft (Probe2) [N]':y2})\n",
    "mdtext = df.to_markdown()\n",
    "print(mdtext)"
   ]
  },
  {
   "cell_type": "markdown",
   "id": "836a34a3",
   "metadata": {},
   "source": [
    "# Kraft-Weg Messungen \n",
    "\n",
    "## `q1`) Kraft-Weg-Verlauf Daten\n",
    "\n",
    "Erstellen Sie jeweils einen `numpy array` aus den in der Tabelle dargestellten Werten:\n",
    "- Weg\n",
    "- Kraft_Probe1\n",
    "- Kraft_Probe2\n",
    "\n",
    "\n",
    "|    |   Weg [mm] |   Kraft (Probe1) [N] |   Kraft (Probe2) [N] |\n",
    "|---:|-----------:|---------------------:|---------------------:|\n",
    "|  0 |          0 |                   10 |                    0 |\n",
    "|  1 |         10 |                   18 |                   10 |\n",
    "|  2 |         20 |                   24 |                   20 |\n",
    "|  3 |         30 |                   28 |                   30 |\n",
    "|  4 |         40 |                   30 |                   40 |\n"
   ]
  },
  {
   "cell_type": "code",
   "execution_count": 2,
   "id": "31debfd4",
   "metadata": {},
   "outputs": [
    {
     "data": {
      "application/javascript": [
       "parent.postMessage({\"jupyterEvent\": \"custom.exercise_interaction\", \"data\": {\"outcomeType\": 2, \"failureMessage\": \"Incorrect value for `Weg`: `array([], dtype=float64)`\", \"interactionType\": 1, \"questionType\": 1, \"questionId\": \"1_Daten\", \"learnToolsVersion\": \"0.3.4\", \"valueTowardsCompletion\": 0.0, \"exceptionClass\": \"\", \"trace\": \"\"}}, \"*\")"
      ],
      "text/plain": [
       "<IPython.core.display.Javascript object>"
      ]
     },
     "metadata": {},
     "output_type": "display_data"
    },
    {
     "data": {
      "text/markdown": [
       "<span style=\"color:#cc3333\">Incorrect:</span> Incorrect value for `Weg`: `array([], dtype=float64)`"
      ],
      "text/plain": [
       "Incorrect: Incorrect value for `Weg`: `array([], dtype=float64)`"
      ]
     },
     "metadata": {},
     "output_type": "display_data"
    }
   ],
   "source": [
    "import numpy as np\n",
    "\n",
    "# Lösung hier\n",
    "Weg = np.array([])\n",
    "Kraft_Probe1 = np.array([])\n",
    "Kraft_Probe2 = np.array([])\n",
    "\n",
    "# Kontrolle der Lösung\n",
    "q1.check()\n",
    "#q1.hint()\n",
    "#q1.solution()"
   ]
  },
  {
   "cell_type": "code",
   "execution_count": 3,
   "id": "9f9446c5",
   "metadata": {},
   "outputs": [
    {
     "data": {
      "application/javascript": [
       "parent.postMessage({\"jupyterEvent\": \"custom.exercise_interaction\", \"data\": {\"outcomeType\": 1, \"valueTowardsCompletion\": 0.25, \"interactionType\": 1, \"questionType\": 1, \"questionId\": \"1_Daten\", \"learnToolsVersion\": \"0.3.4\", \"failureMessage\": \"\", \"exceptionClass\": \"\", \"trace\": \"\"}}, \"*\")"
      ],
      "text/plain": [
       "<IPython.core.display.Javascript object>"
      ]
     },
     "metadata": {},
     "output_type": "display_data"
    },
    {
     "data": {
      "text/markdown": [
       "<span style=\"color:#33cc33\">Correct</span>"
      ],
      "text/plain": [
       "Correct"
      ]
     },
     "metadata": {},
     "output_type": "display_data"
    }
   ],
   "source": [
    "import numpy as np\n",
    "\n",
    "# Lösung hier\n",
    "Weg = np.array([0,10,20,30,40])\n",
    "Kraft_Probe1 = np.array([10,18,24,28,30])\n",
    "Kraft_Probe2 = np.array([0,10,20,30,40])\n",
    "\n",
    "# Kontrolle der Lösung\n",
    "q1.check()\n",
    "#q1.hint()\n",
    "#q1.solution()"
   ]
  },
  {
   "cell_type": "markdown",
   "id": "e5f3ec6f",
   "metadata": {},
   "source": [
    "## `q2`) Kraft-Weg-Verlauf Plot\n",
    "\n",
    "Stellen Sie die beiden Kraftverläufe als Liniendiagramm mit `plt.plot()` dar. Beschriften Sie die Achsen (mit Einheiten!) und verwenden Sie eine Legende"
   ]
  },
  {
   "cell_type": "code",
   "execution_count": 4,
   "id": "dbe1f75e",
   "metadata": {},
   "outputs": [
    {
     "data": {
      "application/javascript": [
       "parent.postMessage({\"jupyterEvent\": \"custom.exercise_interaction\", \"data\": {\"outcomeType\": 2, \"failureMessage\": \"F\\u00fcgen Sie den Code zum erstellen des plots hinzu. Danach k\\u00f6nnen Sie mit `check()` pr\\u00fcfen ob das Ergebnis korrekt ist\", \"interactionType\": 1, \"questionType\": 2, \"questionId\": \"2_Plot_1\", \"learnToolsVersion\": \"0.3.4\", \"valueTowardsCompletion\": 0.0, \"exceptionClass\": \"\", \"trace\": \"\"}}, \"*\")"
      ],
      "text/plain": [
       "<IPython.core.display.Javascript object>"
      ]
     },
     "metadata": {},
     "output_type": "display_data"
    },
    {
     "data": {
      "text/markdown": [
       "<span style=\"color:#cc3333\">Incorrect:</span> Fügen Sie den Code zum erstellen des plots hinzu. Danach können Sie mit `check()` prüfen ob das Ergebnis korrekt ist"
      ],
      "text/plain": [
       "Incorrect: Fügen Sie den Code zum erstellen des plots hinzu. Danach können Sie mit `check()` prüfen ob das Ergebnis korrekt ist"
      ]
     },
     "metadata": {},
     "output_type": "display_data"
    },
    {
     "data": {
      "text/plain": [
       "<Figure size 432x288 with 0 Axes>"
      ]
     },
     "metadata": {},
     "output_type": "display_data"
    }
   ],
   "source": [
    "import matplotlib.pyplot as plt\n",
    "\n",
    "# Lösung hier\n",
    "\n",
    "\n",
    "# Kontrolle der Lösung\n",
    "q2.check()\n",
    "#q2.hint()\n",
    "#q2.solution()"
   ]
  },
  {
   "cell_type": "code",
   "execution_count": 5,
   "id": "3380fb56",
   "metadata": {},
   "outputs": [
    {
     "data": {
      "application/javascript": [
       "parent.postMessage({\"jupyterEvent\": \"custom.exercise_interaction\", \"data\": {\"outcomeType\": 1, \"valueTowardsCompletion\": 0.25, \"interactionType\": 1, \"questionType\": 2, \"questionId\": \"2_Plot_1\", \"learnToolsVersion\": \"0.3.4\", \"failureMessage\": \"\", \"exceptionClass\": \"\", \"trace\": \"\"}}, \"*\")"
      ],
      "text/plain": [
       "<IPython.core.display.Javascript object>"
      ]
     },
     "metadata": {},
     "output_type": "display_data"
    },
    {
     "data": {
      "text/markdown": [
       "<span style=\"color:#33cc33\">Correct</span>"
      ],
      "text/plain": [
       "Correct"
      ]
     },
     "metadata": {},
     "output_type": "display_data"
    },
    {
     "data": {
      "image/png": "[encoded data removed]",
      "text/plain": [
       "<Figure size 432x288 with 1 Axes>"
      ]
     },
     "metadata": {
      "needs_background": "light"
     },
     "output_type": "display_data"
    }
   ],
   "source": [
    "import matplotlib.pyplot as plt\n",
    "\n",
    "# Lösung hier\n",
    "plt.plot(Weg,Kraft_Probe1,marker=\"s\",label=\"Probe1\");\n",
    "plt.plot(Weg,Kraft_Probe2,marker=\"s\",label=\"Probe2\");\n",
    "plt.legend()\n",
    "plt.xlabel(\"Weg [mm]\");\n",
    "plt.ylabel(\"Kraft [N]\");\n",
    "\n",
    "# Kontrolle der Lösung\n",
    "q2.check()\n",
    "#q2.hint()\n",
    "#q2.solution()"
   ]
  },
  {
   "cell_type": "markdown",
   "id": "086598f8",
   "metadata": {},
   "source": [
    "## `q3`) Kraft-Weg-Verlauf Plot Differenz [N]\n",
    "Stellen Sie nun die Differenz der Kraft aus Probe1 zu Probe2 in **N** dar"
   ]
  },
  {
   "cell_type": "code",
   "execution_count": 6,
   "id": "cd3fc33b",
   "metadata": {},
   "outputs": [
    {
     "data": {
      "application/javascript": [
       "parent.postMessage({\"jupyterEvent\": \"custom.exercise_interaction\", \"data\": {\"outcomeType\": 2, \"failureMessage\": \"F\\u00fcgen Sie den Code zum erstellen des plots hinzu. Danach k\\u00f6nnen Sie mit `check()` pr\\u00fcfen ob das Ergebnis korrekt ist\", \"interactionType\": 1, \"questionType\": 2, \"questionId\": \"3_Plot_2\", \"learnToolsVersion\": \"0.3.4\", \"valueTowardsCompletion\": 0.0, \"exceptionClass\": \"\", \"trace\": \"\"}}, \"*\")"
      ],
      "text/plain": [
       "<IPython.core.display.Javascript object>"
      ]
     },
     "metadata": {},
     "output_type": "display_data"
    },
    {
     "data": {
      "text/markdown": [
       "<span style=\"color:#cc3333\">Incorrect:</span> Fügen Sie den Code zum erstellen des plots hinzu. Danach können Sie mit `check()` prüfen ob das Ergebnis korrekt ist"
      ],
      "text/plain": [
       "Incorrect: Fügen Sie den Code zum erstellen des plots hinzu. Danach können Sie mit `check()` prüfen ob das Ergebnis korrekt ist"
      ]
     },
     "metadata": {},
     "output_type": "display_data"
    },
    {
     "data": {
      "text/plain": [
       "<Figure size 432x288 with 0 Axes>"
      ]
     },
     "metadata": {},
     "output_type": "display_data"
    }
   ],
   "source": [
    "import matplotlib.pyplot as plt\n",
    "\n",
    "# Lösung hier\n",
    "\n",
    "\n",
    "# Kontrolle der Lösung\n",
    "q3.check()\n",
    "#q3.hint()\n",
    "#q3.solution()\n"
   ]
  },
  {
   "cell_type": "code",
   "execution_count": 7,
   "id": "41a9fcf3",
   "metadata": {},
   "outputs": [
    {
     "data": {
      "application/javascript": [
       "parent.postMessage({\"jupyterEvent\": \"custom.exercise_interaction\", \"data\": {\"outcomeType\": 1, \"valueTowardsCompletion\": 0.25, \"interactionType\": 1, \"questionType\": 2, \"questionId\": \"3_Plot_2\", \"learnToolsVersion\": \"0.3.4\", \"failureMessage\": \"\", \"exceptionClass\": \"\", \"trace\": \"\"}}, \"*\")"
      ],
      "text/plain": [
       "<IPython.core.display.Javascript object>"
      ]
     },
     "metadata": {},
     "output_type": "display_data"
    },
    {
     "data": {
      "text/markdown": [
       "<span style=\"color:#33cc33\">Correct</span>"
      ],
      "text/plain": [
       "Correct"
      ]
     },
     "metadata": {},
     "output_type": "display_data"
    },
    {
     "data": {
      "image/png": "[encoded data removed]",
      "text/plain": [
       "<Figure size 432x288 with 1 Axes>"
      ]
     },
     "metadata": {
      "needs_background": "light"
     },
     "output_type": "display_data"
    }
   ],
   "source": [
    "import matplotlib.pyplot as plt\n",
    "\n",
    "# Lösung hier\n",
    "plt.plot(Weg,Kraft_Probe1-Kraft_Probe2,marker=\"s\",label=\"Differenz Probe1-Probe2\");\n",
    "plt.legend();\n",
    "plt.xlabel(\"Weg [mm]\");\n",
    "plt.ylabel(\"Kraftdifferenz [N]\");\n",
    "\n",
    "# Kontrolle der Lösung\n",
    "q3.check()\n",
    "#q3.hint()\n",
    "#q3.solution()\n"
   ]
  },
  {
   "cell_type": "markdown",
   "id": "dfd10187",
   "metadata": {},
   "source": [
    "## `q4`) Kraft-Weg-Verlauf Plot Differenz [%]\n",
    "Stellen Sie nun die Differenz der Kraft aus Probe1 zu Probe2 in **%** dar"
   ]
  },
  {
   "cell_type": "code",
   "execution_count": 13,
   "id": "a5220c54",
   "metadata": {},
   "outputs": [
    {
     "data": {
      "application/javascript": [
       "parent.postMessage({\"jupyterEvent\": \"custom.exercise_interaction\", \"data\": {\"outcomeType\": 1, \"valueTowardsCompletion\": 0.25, \"interactionType\": 1, \"questionType\": 2, \"questionId\": \"4_Plot_3\", \"learnToolsVersion\": \"0.3.4\", \"failureMessage\": \"\", \"exceptionClass\": \"\", \"trace\": \"\"}}, \"*\")"
      ],
      "text/plain": [
       "<IPython.core.display.Javascript object>"
      ]
     },
     "metadata": {},
     "output_type": "display_data"
    },
    {
     "data": {
      "text/markdown": [
       "<span style=\"color:#33cc33\">Correct</span>"
      ],
      "text/plain": [
       "Correct"
      ]
     },
     "metadata": {},
     "output_type": "display_data"
    },
    {
     "data": {
      "image/png": "[encoded data removed]",
      "text/plain": [
       "<Figure size 432x288 with 1 Axes>"
      ]
     },
     "metadata": {
      "needs_background": "light"
     },
     "output_type": "display_data"
    }
   ],
   "source": [
    "import matplotlib.pyplot as plt\n",
    "\n",
    "# Lösung hier\n",
    "\n",
    "\n",
    "# Kontrolle der Lösung\n",
    "q4.check()\n",
    "#q4.hint()\n",
    "#q4.solution()\n"
   ]
  },
  {
   "cell_type": "code",
   "execution_count": null,
   "id": "ee5339f8",
   "metadata": {},
   "outputs": [],
   "source": [
    "import matplotlib.pyplot as plt\n",
    "\n",
    "# Lösung hier\n",
    "plt.plot(Weg,(Kraft_Probe1-Kraft_Probe2)/Kraft_Probe1*100,marker=\"s\",label=\"Differenz Probe1-Probe2\");\n",
    "plt.legend();\n",
    "plt.xlabel(\"Weg [mm]\");\n",
    "plt.ylabel(\"Kraftdifferenz [%]\");\n",
    "\n",
    "# Kontrolle der Lösung\n",
    "q4.check()\n",
    "#q4.hint()\n",
    "#q4.solution()\n"
   ]
  }
 ],
 "metadata": {
  "kernelspec": {
   "display_name": "Python 3",
   "language": "python",
   "name": "python3"
  },
  "language_info": {
   "codemirror_mode": {
    "name": "ipython",
    "version": 3
   },
   "file_extension": ".py",
   "mimetype": "text/x-python",
   "name": "python",
   "nbconvert_exporter": "python",
   "pygments_lexer": "ipython3",
   "version": "3.8.5"
  }
 },
 "nbformat": 4,
 "nbformat_minor": 5
}
