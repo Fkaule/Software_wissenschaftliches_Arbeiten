{
 "cells": [
  {
   "cell_type": "markdown",
   "id": "ead85f31",
   "metadata": {},
   "source": [
    "Darunter liegende Zeile ausführen (für Kontrolle der Lösung + Hinweise + Lösung )"
   ]
  },
  {
   "cell_type": "code",
   "execution_count": null,
   "id": "f6795d56",
   "metadata": {},
   "outputs": [],
   "source": [
    "import os\n",
    "import sys\n",
    "sys.path.insert(0, os.path.abspath('../'))\n",
    "from learntools.core import binder;binder.bind(globals())\n",
    "from learntools import *\n",
    "from learntools_HTWK.python.ex3 import *"
   ]
  },
  {
   "cell_type": "markdown",
   "id": "31c2d97e",
   "metadata": {},
   "source": [
    "# Daten einlesen und verarbeiten\n",
    "\n",
    "*In diesem Teil geht es darum Daten aus Dateien einzulesen, diese zu verarbeiten und dann zu visualisieren*\n",
    "<br><br>\n",
    "**verwendete Bibliotheken**: \n",
    "- `pandas` (Datenverarbeitung) \n",
    "- `matplotlib` (Datenvisualisierung)"
   ]
  },
  {
   "cell_type": "markdown",
   "id": "5c6fa89f",
   "metadata": {},
   "source": [
    "## Global: Durchschnittstemperatur (Land und Ozean zusammen)\n",
    "\n",
    "Wir wollen nun die globalen Temperaturen visualisieren und greifen dazu auf die Daten der [NASA](https://data.giss.nasa.gov/gistemp/graphs_v4/) zurück.\n",
    "\n",
    "Es werden somit Daten von Dateien (online oder offline) eingelesen mit der Python Bilbiothek `pandas`"
   ]
  },
  {
   "cell_type": "markdown",
   "id": "8e975d9c",
   "metadata": {},
   "source": [
    "### Daten importieren"
   ]
  },
  {
   "cell_type": "code",
   "execution_count": null,
   "id": "c76de9f1",
   "metadata": {},
   "outputs": [],
   "source": [
    "import pandas as pd\n",
    "link = \"https://data.giss.nasa.gov/gistemp/graphs_v4/graph_data/Global_Mean_Estimates_based_on_Land_and_Ocean_Data/graph.csv\"\n",
    "\n",
    "Temp_NASA = pd.read_csv(link, header=1) # einlesen\n",
    "Temp_NASA # Ausgabe"
   ]
  },
  {
   "cell_type": "markdown",
   "id": "c5f64a22",
   "metadata": {},
   "source": [
    "Die Spalten können nun über den Namen des DataFrames und die jeweilige Spalte in eckigen Klammern mit Hochkommas verwendet werden, z.B.:"
   ]
  },
  {
   "cell_type": "code",
   "execution_count": null,
   "id": "5cdcde8a",
   "metadata": {},
   "outputs": [],
   "source": [
    "Temp_NASA[\"Year\"]"
   ]
  },
  {
   "cell_type": "markdown",
   "id": "dc157fba",
   "metadata": {},
   "source": [
    "### Daten plotten\n"
   ]
  },
  {
   "cell_type": "markdown",
   "id": "dacdadc0",
   "metadata": {},
   "source": [
    "#### `q1`) Aufgabe\n",
    "\n",
    "- Plotten Sie die Spalte `No_Smoothing` (Werte) und `Lowess(5)` (Glättung) über die (Jahre) mit der Spalte `Year`. \n",
    "- Passen Sie ihren Plot mit Hilfe der Einstellungen für Linien und Marker soweit an, dass die Kurve der Glättung (`Lowess(5)`) von den Jahresdaten gut zu unterscheiden ist.\n",
    "\n",
    "Hinweis: [Einstellungen für Linien und Punkte](03b-Ploteinstellungen.html#LinienPunkteFarben)"
   ]
  },
  {
   "cell_type": "code",
   "execution_count": null,
   "id": "6ac1da84",
   "metadata": {},
   "outputs": [],
   "source": [
    "import matplotlib.pyplot as plt\n",
    "\n",
    "# Lösung hier\n",
    "\n",
    "\n",
    "# Kontrolle der Lösung\n",
    "q1.check()\n",
    "#q1.hint()\n",
    "#q1.solution()"
   ]
  },
  {
   "cell_type": "markdown",
   "id": "3cf79cd4",
   "metadata": {},
   "source": [
    "### Datenverarbeitung\n",
    "\n",
    "Die Bibliothek `pandas` ist sehr umfangreich und wird viel zur Datenverarbeitung genutzt. Im folgenden dazu einige Beispiele"
   ]
  },
  {
   "cell_type": "markdown",
   "id": "e85a0446",
   "metadata": {},
   "source": [
    "**alle Spalten analysieren (Anzahl/Mittelwert/Min/Max/Percentile)**"
   ]
  },
  {
   "cell_type": "code",
   "execution_count": null,
   "id": "fef203dc",
   "metadata": {},
   "outputs": [],
   "source": [
    "Temp_NASA.describe()"
   ]
  },
  {
   "cell_type": "markdown",
   "id": "62215753",
   "metadata": {},
   "source": [
    "**Maximum bestimmen** (Beispiel: stärkster Tempetaturunterschied)"
   ]
  },
  {
   "cell_type": "code",
   "execution_count": null,
   "id": "224408b8",
   "metadata": {},
   "outputs": [],
   "source": [
    "Temp_NASA[\"No_Smoothing\"].max()"
   ]
  },
  {
   "cell_type": "markdown",
   "id": "68e9d8bd",
   "metadata": {},
   "source": [
    "**index zum Maximum bestimmen** (Beispiel: Jahr des stärksten Tempetaturunterschieds)\n",
    "\n",
    "- Es wird ein `index` (entspricht meistens Zeilennummer) ausgegeben"
   ]
  },
  {
   "cell_type": "code",
   "execution_count": null,
   "id": "279716db",
   "metadata": {},
   "outputs": [],
   "source": [
    "index_max = Temp_NASA[\"No_Smoothing\"].idxmax()\n",
    "print(index_max)"
   ]
  },
  {
   "cell_type": "markdown",
   "id": "663ecfd1",
   "metadata": {},
   "source": [
    "mit dem `.loc` Befehl wird die Tabelle mit nun gefunden `index` ausgegeben werden"
   ]
  },
  {
   "cell_type": "code",
   "execution_count": null,
   "id": "9cd56a71",
   "metadata": {},
   "outputs": [],
   "source": [
    "Temp_NASA.loc[index_max]"
   ]
  },
  {
   "cell_type": "markdown",
   "id": "5b711e52",
   "metadata": {},
   "source": [
    "Mit `.sort_values(\"Spaltenname\")` können wir auch die Tabelle nach dem definierten Spaltennamen sortieren (standardmäßig in **ansteigender** Reihenfolge)"
   ]
  },
  {
   "cell_type": "code",
   "execution_count": null,
   "id": "d145a485",
   "metadata": {},
   "outputs": [],
   "source": [
    "Temp_NASA.sort_values(\"No_Smoothing\")"
   ]
  },
  {
   "cell_type": "markdown",
   "id": "ae5ca7c9",
   "metadata": {},
   "source": [
    "mit `ascending=False` wird absteigend sortiert"
   ]
  },
  {
   "cell_type": "code",
   "execution_count": null,
   "id": "30e65ade",
   "metadata": {},
   "outputs": [],
   "source": [
    "Temp_NASA.sort_values(\"No_Smoothing\",ascending=False)"
   ]
  },
  {
   "cell_type": "markdown",
   "id": "d9f4e54d",
   "metadata": {},
   "source": [
    "mit `.head(Anzahl)` können wir angeben wieviele Zeilen (vom **Kopf** beginnend) **angezeigt** werden. Mit `.tail(Anzahl)` erfolgt die ausgabe der letzten Werte mit der jeweiligen Anzahl\n",
    "\n",
    "**WICHTIG**: Der Dataframe `Temp_NASA` wird dadurch nicht verändert, es handelt sich nur um eine Anzeige!"
   ]
  },
  {
   "cell_type": "markdown",
   "id": "744ffbde",
   "metadata": {},
   "source": [
    "### Glättung"
   ]
  },
  {
   "cell_type": "markdown",
   "id": "35b2b1ab",
   "metadata": {},
   "source": [
    "Die von der NASA verwendete Glättung ist die **LO**cally **WE**ighted **S**catter-plot **S**moother (LOWESS). Dabei wird in einem lokal zu definierenden Bereich eine lineare Regression durchgeführt. Eine genauere Erklärung zur Methode findet ihr [hier](https://youtu.be/b7oryuMP3r8)."
   ]
  },
  {
   "cell_type": "markdown",
   "id": "6570b857",
   "metadata": {},
   "source": [
    "Wir benutzen nun diese Methode und erstellen eine neue Spalte `Lowess(own)`"
   ]
  },
  {
   "cell_type": "code",
   "execution_count": null,
   "id": "b81317b1",
   "metadata": {},
   "outputs": [],
   "source": [
    "from statsmodels.nonparametric.smoothers_lowess import lowess\n",
    "Temp_NASA[\"Lowess(own)\"] = lowess(Temp_NASA[\"No_Smoothing\"],Temp_NASA[\"Year\"], frac=1/14)[:,1]"
   ]
  },
  {
   "cell_type": "markdown",
   "id": "1cb5117b",
   "metadata": {},
   "source": [
    "Ausgabe der Tabelle (`Temp_NASA`) mit der neuen Spalte `Lowess(own)`"
   ]
  },
  {
   "cell_type": "code",
   "execution_count": null,
   "id": "9dda2fc4",
   "metadata": {},
   "outputs": [],
   "source": [
    "Temp_NASA"
   ]
  },
  {
   "cell_type": "markdown",
   "id": "ec8ce562",
   "metadata": {},
   "source": [
    "Wir plotten nun unsere eigene Glättung gegenüber der bereits vorhandenen"
   ]
  },
  {
   "cell_type": "code",
   "execution_count": null,
   "id": "0ccae0f0",
   "metadata": {},
   "outputs": [],
   "source": [
    "import matplotlib.pyplot as plt\n",
    "\n",
    "plt.style.use('default')\n",
    "\n",
    "plt.figure(figsize=(10,4))\n",
    "plt.rcParams['font.size'] = 14;\n",
    "plt.ylabel(\"Jahresmitteltemperaturabweichung [K]\")\n",
    "plt.plot(Temp_NASA[\"Year\"],Temp_NASA[\"No_Smoothing\"], ls=\"-\", lw=1, marker=\"s\", ms=3, color=\"tab:gray\", alpha=0.5, label=\"Werte\");\n",
    "plt.plot(Temp_NASA[\"Year\"],Temp_NASA[\"Lowess(5)\"], lw=4,  color=\"tab:blue\", label=\"Glättung (NASA)\");\n",
    "plt.plot(Temp_NASA[\"Year\"],Temp_NASA[\"Lowess(own)\"],ls=\"--\",lw=2,  color=\"orange\", label=\"eigene Glättung (LOWESS f=1/14)\");\n",
    "\n",
    "plt.legend();\n",
    "plt.grid();"
   ]
  },
  {
   "cell_type": "markdown",
   "id": "61de5a0c",
   "metadata": {},
   "source": [
    "Die Glättung scheint gut mit der von NASA durchgeführten übereinzustimmen"
   ]
  },
  {
   "cell_type": "markdown",
   "id": "320505cf",
   "metadata": {},
   "source": [
    "## Global: Durchschnittstemperatur (Land + Ozean getrennt)\n",
    "\n",
    "Nun schauen wir uns die Daten an in denen die Temperaturen für die Landmasse und den Ozean getrennt ausgegeben werden"
   ]
  },
  {
   "cell_type": "markdown",
   "id": "646bb7f0",
   "metadata": {},
   "source": [
    "### Daten importieren"
   ]
  },
  {
   "cell_type": "code",
   "execution_count": null,
   "id": "d2383e34",
   "metadata": {},
   "outputs": [],
   "source": [
    "link = \"https://data.giss.nasa.gov/gistemp/graphs_v4/graph_data/Temperature_Anomalies_over_Land_and_over_Ocean/graph.csv\""
   ]
  },
  {
   "cell_type": "code",
   "execution_count": null,
   "id": "5323965d",
   "metadata": {},
   "outputs": [],
   "source": [
    "Temp_NASA2 = pd.read_csv(link, header=1) # einlesen\n",
    "Temp_NASA2 # Ausgabe"
   ]
  },
  {
   "cell_type": "markdown",
   "id": "9d491809",
   "metadata": {},
   "source": [
    "### Daten plotten"
   ]
  },
  {
   "cell_type": "markdown",
   "id": "951b1c97",
   "metadata": {},
   "source": [
    "#### `q2`) Aufgabe\n",
    "\n",
    "- Stellen Sie die Kurven für die Erwärmung an Landoberfläche und an der Ozeanoberfläche mit jeweils den Jahreswerten und den geglätteten Werten grafisch dar\n",
    "- Tipp: Verwenden Sie für Land und Ozean jeweils die gleiche Farbe und reduzieren Sie die Sichtbarkeit der nicht geglätteten Werte zur besseren Übersicht\n",
    "- Beschriften Sie das Diagramm entsprechend"
   ]
  },
  {
   "cell_type": "code",
   "execution_count": null,
   "id": "7d1ec969",
   "metadata": {},
   "outputs": [],
   "source": [
    "# Lösung hier\n",
    "\n",
    "\n",
    "# Kontrolle der Lösung\n",
    "q2.check()\n",
    "#q2.solution()"
   ]
  },
  {
   "cell_type": "markdown",
   "id": "5e6c1775",
   "metadata": {},
   "source": [
    "## Deutschland: Durchschnittstemperatur (Land)\n",
    "\n",
    "Beim [Umweltbundesamt](https://www.umweltbundesamt.de/daten/klima/trends-der-lufttemperatur#2020-bisher-zweitwarmstes-jahr-in-deutschland) gibt es aktuelle Zahlen zur Erwärmung der Luftemperatur in Deutschland. Die Werte befinden sich in [dieser Exceltabelle](https://www.umweltbundesamt.de/sites/default/files/medien/384/bilder/dateien/3-bis-8_abb-tab_tmt_2021-05-12.xlsx), welche mit dem Befehl `pd.read_excel()` eingelesen werden kann, wobei hierbei der Name des ExcelSheets und die verwendenten Spaltennummern angegeben werden können."
   ]
  },
  {
   "cell_type": "markdown",
   "id": "a3a65c56",
   "metadata": {},
   "source": [
    "### Daten importieren"
   ]
  },
  {
   "cell_type": "code",
   "execution_count": null,
   "id": "f47cee2e",
   "metadata": {},
   "outputs": [],
   "source": [
    "# Einlesen\n",
    "link = \"https://www.umweltbundesamt.de/sites/default/files/medien/384/bilder/dateien/3-bis-8_abb-tab_tmt_2021-05-12.xlsx\"\n",
    "\n",
    "Temp_GER = pd.read_excel(link,sheet_name=\"3_DWD\",usecols=[1,19]) # einlesen\n",
    "Temp_GER.columns=[\"Jahr\",\"Jahresmitteltemperatur [°C]\"]\n",
    "Temp_GER"
   ]
  },
  {
   "cell_type": "markdown",
   "id": "df5f404a",
   "metadata": {},
   "source": [
    "### Daten aufbereiten"
   ]
  },
  {
   "cell_type": "markdown",
   "id": "7dea4913",
   "metadata": {},
   "source": [
    "In den Daten befindet sich einige `NaN` Werte (**N**ot **a** **N**umber), die wir mit der Funktion `.dropna(inplace=True)` entfernen"
   ]
  },
  {
   "cell_type": "code",
   "execution_count": null,
   "id": "70e2e310",
   "metadata": {},
   "outputs": [],
   "source": [
    "# Daten aufbereiten\n",
    "Temp_GER.dropna(inplace=True) # Zeilen mit \"NaN\" Werte rausschmeissen und dataframe speichern "
   ]
  },
  {
   "cell_type": "markdown",
   "id": "ba6ae93b",
   "metadata": {},
   "source": [
    "Als nächstes definieren wir die Spalte \"Jahr\" als integer"
   ]
  },
  {
   "cell_type": "code",
   "execution_count": null,
   "id": "9fb7d76f",
   "metadata": {},
   "outputs": [],
   "source": [
    "Temp_GER[\"Jahr\"] = Temp_GER[\"Jahr\"].astype(int) # Spalte \"Jahr\" als integer definieren\n",
    "Temp_GER.head()"
   ]
  },
  {
   "cell_type": "markdown",
   "id": "1207c379",
   "metadata": {},
   "source": [
    "Nun berechnen wir die Temperaturabweichung. Dafür verwenden wir die Abweichung von **Mittelwert der Temperatur zwischen 1881 und 1900** welche wir zunächst bestimmen. Dafür verwenden wir die Funktion `.loc()` und können damit angeben welche Zeilen wir haben haben wollen (die zwischen 1910 und 1985) und können dann von der Spalte `Jahresmitteltemperatur [°C]` den Mittelwert bestimmen mit `.mean()`"
   ]
  },
  {
   "cell_type": "code",
   "execution_count": null,
   "id": "894071b7",
   "metadata": {},
   "outputs": [],
   "source": [
    "mean_GER1881_1910 = Temp_GER.loc[Temp_GER[\"Jahr\"] <= 1910,\"Jahresmitteltemperatur [°C]\"].mean()\n",
    "mean_GER1881_1910"
   ]
  },
  {
   "cell_type": "markdown",
   "id": "4a3f87de",
   "metadata": {},
   "source": [
    "Wir ziehen von der Spalte `Jahresmitteltemperatur [°C]` den nun berechneten Wert `mean_GER1881_1910` und nennen diese neue Spalte `Jahresmitteltemperaturabweichung [K]`"
   ]
  },
  {
   "cell_type": "code",
   "execution_count": null,
   "id": "b04fcd1b",
   "metadata": {},
   "outputs": [],
   "source": [
    "Temp_GER[\"Jahresmitteltemperaturabweichung [K]\"] = Temp_GER[\"Jahresmitteltemperatur [°C]\"] - mean_GER1881_1910\n",
    "Temp_GER"
   ]
  },
  {
   "cell_type": "markdown",
   "id": "c514e26a",
   "metadata": {},
   "source": [
    "als nächstes verwenden wir nun wieder die lowess Glättung die wir bereits bei den NASA Daten verwenden haben. Die neue Spalte nennen wir `Lowess(own)`"
   ]
  },
  {
   "cell_type": "code",
   "execution_count": null,
   "id": "366ed1d6",
   "metadata": {},
   "outputs": [],
   "source": [
    "# Glättung\n",
    "from statsmodels.nonparametric.smoothers_lowess import lowess\n",
    "Temp_GER[\"Lowess(own)\"] = lowess(Temp_GER[\"Jahresmitteltemperaturabweichung [K]\"],Temp_GER[\"Jahr\"], frac=1/14)[:,1]\n",
    "Temp_GER"
   ]
  },
  {
   "cell_type": "markdown",
   "id": "f2804801",
   "metadata": {},
   "source": [
    "### Daten plotten"
   ]
  },
  {
   "cell_type": "markdown",
   "id": "009041b8",
   "metadata": {},
   "source": [
    "#### `q3`) Aufgabe\n",
    "\n",
    "- Stellen Sie folgende Daten zusammen dar:\n",
    "    1. global: Land (geglättet) <- NASA\n",
    "    2. Deutschland: Land (Werte) <- DWD\n",
    "    3. Deutschland: Land (geglättet) <- DWD\n",
    "- Verwenden Sie eine entsprechende Formatierung und beschriften Sie das Diagramm"
   ]
  },
  {
   "cell_type": "code",
   "execution_count": null,
   "id": "80b4f90d",
   "metadata": {},
   "outputs": [],
   "source": [
    "# Lösung hier\n",
    "\n",
    "\n",
    "# Kontrolle der Lösung\n",
    "q3.check()\n",
    "#q3.solution()"
   ]
  },
  {
   "cell_type": "markdown",
   "id": "e8db804c",
   "metadata": {},
   "source": [
    "### Vergleich mit Abbildung aus Leoplodina Factsheet"
   ]
  },
  {
   "cell_type": "markdown",
   "id": "dccec3f5",
   "metadata": {},
   "source": [
    "Vergleichen wir diese Darstellung nun mal mit einer aus dem [Factsheet der Leopoldina](https://doi.org/10.26164/leopoldina_03_00327):\n",
    "\n",
    "Nationale Akademie der Wissenschaften Leopoldina (2021): Klimawandel: Ursachen,\n",
    "Folgen und Handlungsmöglichkeiten. Halle (Saale).\n",
    "\n",
    "![](images/FactSheetLeopoldina_TempGer.png)"
   ]
  },
  {
   "cell_type": "markdown",
   "id": "1988a439",
   "metadata": {},
   "source": [
    "Hierbei wurde scheinbar eine sehr starke Glättung der Messdaten verwendet, wir erhöhen also den Wert `frac` für die LOWESS Methode und prüfen ob wir in ähnliche Bereiche kommen"
   ]
  },
  {
   "cell_type": "code",
   "execution_count": null,
   "id": "80015d13",
   "metadata": {},
   "outputs": [],
   "source": [
    "# Glättung\n",
    "from statsmodels.nonparametric.smoothers_lowess import lowess\n",
    "Temp_GER[\"Lowess(own2)\"] = lowess(Temp_GER[\"Jahresmitteltemperaturabweichung [K]\"],Temp_GER[\"Jahr\"], frac=1/3)[:,1]\n",
    "Temp_GER_Lowess_own2_mean_untill_1910 = Temp_GER.loc[Temp_GER[\"Jahr\"] <= 1910,\"Lowess(own2)\"].mean()\n",
    "Temp_GER[\"Lowess(own2)\"] = Temp_GER[\"Lowess(own2)\"] - Temp_GER_Lowess_own2_mean_untill_1910\n",
    "\n",
    "Temp_NASA[\"Lowess(own3)\"] = lowess(Temp_NASA[\"No_Smoothing\"],Temp_NASA[\"Year\"], frac=1/3)[:,1]\n",
    "Temp_NASA_Lowess_own3_mean_untill_1910 = Temp_NASA.loc[Temp_NASA[\"Year\"] <= 1910,\"Lowess(own3)\"].mean()\n",
    "Temp_NASA[\"Lowess(own3)\"] = Temp_NASA[\"Lowess(own3)\"] - Temp_NASA_Lowess_own3_mean_untill_1910\n",
    "\n",
    "\n",
    "plt.style.use('default')\n",
    "\n",
    "plt.figure(figsize=(10,4))\n",
    "plt.rcParams['font.size'] = 14;\n",
    "plt.ylabel(\"Jahresmitteltemperaturabweichung [K]\")\n",
    "plt.plot(Temp_NASA[\"Year\"],Temp_NASA[\"Lowess(own3)\"], lw=3,  color=\"tab:red\", label=\"global: Land+Ozean (eigene Glättung frac=1/3) [NASA]\");\n",
    "plt.plot(Temp_GER[\"Jahr\"],Temp_GER[\"Lowess(own2)\"], ls=\"-\", lw=2, color=\"gray\", label=\"Deutschland Land (Glättung frac=1/3) [DWD]\");\n",
    "\n",
    "plt.legend(fontsize=12);\n",
    "plt.grid();"
   ]
  },
  {
   "cell_type": "markdown",
   "id": "c3340d39",
   "metadata": {},
   "source": [
    "Ausgabe der Temperaturdifferenz im Jahr 2020"
   ]
  },
  {
   "cell_type": "code",
   "execution_count": null,
   "id": "c4723396",
   "metadata": {},
   "outputs": [],
   "source": [
    "Temp_NASA.loc[Temp_NASA[\"Year\"] == 2020]"
   ]
  },
  {
   "cell_type": "code",
   "execution_count": null,
   "id": "f93a37e7",
   "metadata": {},
   "outputs": [],
   "source": [
    "Temp_GER.loc[Temp_GER[\"Jahr\"] == 2020]"
   ]
  },
  {
   "cell_type": "markdown",
   "id": "3afe9208",
   "metadata": {},
   "source": [
    "Eine weitere Variante den Temperaturanstieg zu berechnen wäre eine einfache lineare Regression. Dafür verwenden wir die `numpy` Funtion `np.polyfit`."
   ]
  },
  {
   "cell_type": "code",
   "execution_count": null,
   "id": "727b5be2",
   "metadata": {},
   "outputs": [],
   "source": [
    "import numpy as np\n",
    "\n",
    "x=Temp_GER[\"Jahr\"]\n",
    "y=Temp_GER[\"Jahresmitteltemperatur [°C]\"]\n",
    "model = np.polyfit(x, y, 1) # 1. Wert = Anstieg , 2. Wert = Schnittpunkt mit y-Achse\n",
    "model"
   ]
  },
  {
   "cell_type": "markdown",
   "id": "d5a872d3",
   "metadata": {},
   "source": [
    "Die Werte werden als Array gespeichert. Mit eckigen Klammern können wir auf das erste Element model[0] (Python Zählweise beginnt immer bei 0) und das zweite Element mit model[1]. \n",
    "Mit den Werten können wir nun eine Geradengleichung erstellen"
   ]
  },
  {
   "cell_type": "code",
   "execution_count": null,
   "id": "b4afa920",
   "metadata": {},
   "outputs": [],
   "source": [
    "y_model = model[0]*x+model[1]"
   ]
  },
  {
   "cell_type": "markdown",
   "id": "74b3d3e0",
   "metadata": {},
   "source": [
    "Nun stellen wir dies grafisch dar:"
   ]
  },
  {
   "cell_type": "code",
   "execution_count": null,
   "id": "b4df9949",
   "metadata": {},
   "outputs": [],
   "source": [
    "plt.plot(Temp_GER[\"Jahr\"],Temp_GER[\"Jahresmitteltemperatur [°C]\"], ls=\"-\", lw=1,marker=\"s\", ms=3, color=\"gray\",alpha=0.5, label=\"Deutschland Land (Werte) [DWD]\");\n",
    "plt.plot(x,y_model, ls=\"-\", lw=3, color=\"tab:blue\",alpha=0.5, label=f\"lineare Regression (y={model[0]:.3f}*x+{model[1]:.3f})\");\n",
    "plt.ylabel(\"Jahresmitteltemperaturabweichung [K]\")\n",
    "\n",
    "plt.legend(fontsize=12);\n",
    "plt.grid();"
   ]
  },
  {
   "cell_type": "code",
   "execution_count": null,
   "id": "68e3c3e5",
   "metadata": {},
   "outputs": [],
   "source": [
    "print(f\"Temperaturanstieg pro Jahr (von 1981 bis 2020): {model[0]:.3f}°C/Jahr\")\n",
    "print(f\"Temperaturanstieg seit Beginn der Messung: {(y_model.iloc[-1]-y_model.iloc[0]):.3f}°C\")"
   ]
  },
  {
   "cell_type": "markdown",
   "id": "af55e4c7",
   "metadata": {},
   "source": [
    "**Vorsicht**: Die lineare Regression bezieht hier den ganzen Zeitraum mit ein, betrachten wir für den Temperaturgradienten nur die Daten von 1980 bis 2020:"
   ]
  },
  {
   "cell_type": "markdown",
   "id": "dfac1b8b",
   "metadata": {},
   "source": [
    "Wir machen dies also erneut, aber nur mit den Daten ab 1980:"
   ]
  },
  {
   "cell_type": "code",
   "execution_count": null,
   "id": "9a739471",
   "metadata": {},
   "outputs": [],
   "source": [
    "x=Temp_GER.loc[Temp_GER[\"Jahr\"] >= 1980,\"Jahr\"]\n",
    "y=Temp_GER.loc[Temp_GER[\"Jahr\"] >= 1980,\"Jahresmitteltemperatur [°C]\"]\n",
    "model = np.polyfit(x, y, 1) # 1. Wert = Anstieg , 2. Wert = Schnittpunkt mit y-Achse\n",
    "y_model = model[0]*x+model[1]\n",
    "print(f\"Temperaturanstieg pro Jahr (von 1980 bis 2020): {model[0]:.3f}°C/Jahr\")"
   ]
  },
  {
   "cell_type": "markdown",
   "id": "6e27c7cf",
   "metadata": {},
   "source": [
    "Visualisierung:"
   ]
  },
  {
   "cell_type": "code",
   "execution_count": null,
   "id": "1311be86",
   "metadata": {},
   "outputs": [],
   "source": [
    "plt.plot(Temp_GER[\"Jahr\"],Temp_GER[\"Jahresmitteltemperatur [°C]\"], ls=\"-\", lw=1,marker=\"s\", ms=3, color=\"gray\",alpha=0.5, label=\"Deutschland Land (Werte) [DWD]\");\n",
    "plt.plot(x,y_model, ls=\"-\", lw=3, color=\"tab:blue\",alpha=0.5, label=f\"lineare Regression (y={model[0]:.3f}*x+{model[1]:.3f})\");\n",
    "plt.ylabel(\"Jahresmitteltemperaturabweichung [K]\")\n",
    "plt.legend(fontsize=12);\n",
    "plt.grid();"
   ]
  },
  {
   "cell_type": "markdown",
   "id": "165e692c",
   "metadata": {},
   "source": [
    "## Treibhausgasemissionen\n",
    "\n",
    "Zunächst stellen wir die Treibhausgas-Konzentrationen dar <br>\n",
    "Quelle : [Umweltbundesamt](https://www.umweltbundesamt.de/daten/klima/atmosphaerische-treibhausgas-konzentrationen#beitrag-langlebiger-treibhausgase-zum-treibhauseffekt)"
   ]
  },
  {
   "cell_type": "markdown",
   "id": "8549aa23",
   "metadata": {},
   "source": [
    "### Daten imortieren"
   ]
  },
  {
   "cell_type": "code",
   "execution_count": null,
   "id": "2da95ecb",
   "metadata": {},
   "outputs": [],
   "source": [
    "link = \"https://www.umweltbundesamt.de/sites/default/files/medien/384/bilder/dateien/6_abb_treibhausgas-gesamt-konz_2020-06-03.xlsx\"\n",
    "\n",
    "THG_Emission_UBA = pd.read_excel(link,sheet_name=\"Daten\",usecols=[1,2],header=8) # einlesen\n",
    "THG_Emission_UBA.head()"
   ]
  },
  {
   "cell_type": "markdown",
   "id": "afeb1cea",
   "metadata": {},
   "source": [
    "### Daten Plotten"
   ]
  },
  {
   "cell_type": "markdown",
   "id": "7a17addc",
   "metadata": {},
   "source": [
    "#### `q4`) Aufgabe\n",
    "\n",
    "- Stellen Sie die Treibhausgasemissionen über die Jahre dar\n",
    "- Verwenden Sie eine entsprechende Formatierung und beschriften Sie das Diagramm"
   ]
  },
  {
   "cell_type": "code",
   "execution_count": null,
   "id": "4d40e024",
   "metadata": {},
   "outputs": [],
   "source": [
    "# Lösung hier\n",
    "\n",
    "\n",
    "# Kontrolle der Lösung\n",
    "q4.check()\n",
    "#q4.hint()\n",
    "#q4.solution()"
   ]
  },
  {
   "cell_type": "markdown",
   "id": "b8af3a77",
   "metadata": {},
   "source": [
    "## Vergleich zweier CO2 Messtationen \n",
    "\n",
    "Auf der Seite vom Umweltbundesamt findet man auch CO2 Messwerte verschiedener Messtationen: <br>\n",
    "Quelle : [Umweltbundesamt](https://www.umweltbundesamt.de/daten/klima/atmosphaerische-treibhausgas-konzentrationen#kohlendioxid-)\n",
    "\n",
    "[Quelle Welttrend WMO](https://gaw.kishou.go.jp/publications/global_mean_mole_fractions#content2) <br>\n",
    "[Quelle Mauna Loa](https://www.esrl.noaa.gov/gmd/ccgg/trends/data.html) <br>\n",
    "[Quelle Schauinsland  und Zugspitze](http://www.uba.de/gaw)"
   ]
  },
  {
   "cell_type": "code",
   "execution_count": null,
   "id": "60f1bc8e",
   "metadata": {},
   "outputs": [],
   "source": [
    "link=\"https://www.umweltbundesamt.de/sites/default/files/medien/384/bilder/dateien/2-4_abb_langzeitreihen-konz_2021-05-26.xlsx\"\n",
    "\n",
    "CO2_Emission_UBA = pd.read_excel(link,sheet_name=\"Kohlendioxid-Daten\",usecols=[0,1,2,3,4]) # einlesen\n",
    "CO2_Emission_UBA.columns = [\"Jahr\",\"Mauna Loa, Hawaii\",\"Schauinsland\",\"Zugspitze\",\"Welttrend WMO\"]\n",
    "CO2_Emission_UBA.head()"
   ]
  },
  {
   "cell_type": "markdown",
   "id": "28850ba2",
   "metadata": {},
   "source": [
    "#### `q5`) Aufgabe\n",
    "\n",
    "- Stellen Sie die CO2 Werte aller Messtationen und dem WMO Trend zusammen dar"
   ]
  },
  {
   "cell_type": "code",
   "execution_count": null,
   "id": "87a131fc",
   "metadata": {},
   "outputs": [],
   "source": [
    "# Lösung hier\n",
    "\n",
    "\n",
    "# Kontrolle der Lösung\n",
    "q5.check()\n",
    "#q5.hint()\n",
    "#q5.solution()"
   ]
  },
  {
   "cell_type": "markdown",
   "id": "cd5d3903",
   "metadata": {},
   "source": [
    "## Übersicht Treibhausgase\n",
    "\n",
    "[Quelle: Umweltbundesamt](https://www.umweltbundesamt.de/daten/klima/atmosphaerische-treibhausgas-konzentrationen#beitrag-langlebiger-treibhausgase-zum-treibhauseffekt)\n",
    "\n",
    "Excel-Tabelle: https://www.umweltbundesamt.de/sites/default/files/medien/384/bilder/dateien/5_abb_beitrag-treibhauseffekt-co2-thg_2021-05-26.xlsx\n",
    "\n",
    "Quelle Daten: NOAA Earth System Research Laboratory, The NOAA annual greenhouse gas index (AGGI), https://www.esrl.noaa.gov/gmd/aggi/aggi.html\n",
    "\n",
    "Wir stellen die Daten nun als **Balkendiagramm** mit `plt.bar()` dar"
   ]
  },
  {
   "cell_type": "code",
   "execution_count": null,
   "id": "765cfcb0",
   "metadata": {},
   "outputs": [],
   "source": [
    "# Daten\n",
    "Beitrag = np.array([2076,516,202,161,57,129])\n",
    "Beitrag_Prozent = Beitrag/Beitrag.sum()*100\n",
    "Bezeichnung = np.array([\"Kohlendioxid (CO₂)\",\"Methan (CH₄)\",\"Lachgas (N₂O)\",\"Dichlordifluormethan (CFC-12)\",\"Trichlorfluormethan (CFC-11)\",\"15 weitere Treibhausgase\"])\n",
    "\n",
    "# Plot\n",
    "plt.bar(Bezeichnung,Beitrag_Prozent);\n",
    "plt.ylabel('Anteil [%]');\n",
    "plt.title('Beitrag zum Treibhauseffekt durch verschiedene Treibhausgase', fontsize=12);"
   ]
  },
  {
   "cell_type": "markdown",
   "id": "26821fd8",
   "metadata": {},
   "source": [
    "Da die Beschriftung so nicht lesbar ist können wir Sie über die Funktion `plt.xticks(rotation=30, ha='right')` um 30° drehen. Weiterhin fügen wir ein Grid für die y-Achse ein und setzen dies hinter den plot.\n"
   ]
  },
  {
   "cell_type": "code",
   "execution_count": null,
   "id": "2d0bd28e",
   "metadata": {},
   "outputs": [],
   "source": [
    "# Plot\n",
    "plt.bar(Bezeichnung,Beitrag_Prozent);\n",
    "plt.ylabel('Anteil [%]');\n",
    "plt.title('Beitrag zum Treibhauseffekt durch verschiedene Treibhausgase', fontsize=12);\n",
    "\n",
    "# Beschriftung x Ticks um 30° drehen\n",
    "plt.xticks(rotation=30, ha='right', fontsize=12);\n",
    "\n",
    "# Grid für y-Achse einstellen\n",
    "plt.grid(axis='y');\n",
    "\n",
    "# Grid hinter Balkendiagramm\n",
    "plt.gca().set_axisbelow(True);"
   ]
  },
  {
   "cell_type": "markdown",
   "id": "7c11db93",
   "metadata": {},
   "source": [
    "Mit `plt.hbar()` wird das Balkendiagramm horizontal ausgerichtet"
   ]
  },
  {
   "cell_type": "code",
   "execution_count": null,
   "id": "eb81b716",
   "metadata": {},
   "outputs": [],
   "source": [
    "# Plot\n",
    "plt.barh(Bezeichnung,Beitrag_Prozent)\n",
    "plt.ylabel('Anteil [%]')\n",
    "plt.title('Beitrag zum Treibhauseffekt durch verschiedene Treibhausgase', fontsize=12);\n",
    "plt.grid(axis='x');\n",
    "plt.gca().set_axisbelow(True);"
   ]
  },
  {
   "cell_type": "markdown",
   "id": "0affb2a0",
   "metadata": {},
   "source": [
    "Wenn wir die Einträge sortieren möchten, müssen wir die Listen in ein `pandas` `dataframe` einfügen"
   ]
  },
  {
   "cell_type": "code",
   "execution_count": null,
   "id": "7de114ce",
   "metadata": {},
   "outputs": [],
   "source": [
    "THG_Anteil = pd.DataFrame(data=([Bezeichnung,Beitrag,Beitrag_Prozent])).T\n",
    "THG_Anteil.columns=[\"Name\",\"Anteil\",\"Anteil [%]\"]\n",
    "THG_Anteil"
   ]
  },
  {
   "cell_type": "markdown",
   "id": "97b3cd97",
   "metadata": {},
   "source": [
    "Wenn wir den Dataframe jetzt so einfach ausführen ist die Sortiertung wieder weg:"
   ]
  },
  {
   "cell_type": "code",
   "execution_count": null,
   "id": "df373c00",
   "metadata": {},
   "outputs": [],
   "source": [
    "THG_Anteil"
   ]
  },
  {
   "cell_type": "markdown",
   "id": "f00345b6",
   "metadata": {},
   "source": [
    "Deshalb müssen wir den Dataframe neu speichern wenn wir die Sortierung dauerhaft in der Tabelle haben wollen"
   ]
  },
  {
   "cell_type": "code",
   "execution_count": null,
   "id": "421df48d",
   "metadata": {},
   "outputs": [],
   "source": [
    "THG_Anteil = THG_Anteil.sort_values(\"Anteil [%]\",ascending=False)\n",
    "THG_Anteil"
   ]
  },
  {
   "cell_type": "markdown",
   "id": "764023f4",
   "metadata": {},
   "source": [
    "Beim erneuten Ausführen des plots hat sich dadurch jetzt auch die Reihenfolge geändert:"
   ]
  },
  {
   "cell_type": "code",
   "execution_count": null,
   "id": "79915020",
   "metadata": {},
   "outputs": [],
   "source": [
    "# Plot\n",
    "plt.barh(THG_Anteil[\"Name\"],THG_Anteil[\"Anteil [%]\"])\n",
    "plt.ylabel('Anteil [%]')\n",
    "plt.title('Beitrag zum Treibhauseffekt durch verschiedene Treibhausgase', fontsize=12);\n",
    "plt.grid(axis='x');\n",
    "plt.gca().set_axisbelow(True);"
   ]
  }
 ],
 "metadata": {
  "kernelspec": {
   "display_name": "Python 3",
   "language": "python",
   "name": "python3"
  },
  "language_info": {
   "codemirror_mode": {
    "name": "ipython",
    "version": 3
   },
   "file_extension": ".py",
   "mimetype": "text/x-python",
   "name": "python",
   "nbconvert_exporter": "python",
   "pygments_lexer": "ipython3",
   "version": "3.8.5"
  }
 },
 "nbformat": 4,
 "nbformat_minor": 5
}
