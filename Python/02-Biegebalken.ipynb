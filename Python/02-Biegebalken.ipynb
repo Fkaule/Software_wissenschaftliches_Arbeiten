{
 "cells": [
  {
   "cell_type": "markdown",
   "id": "fc178b4f",
   "metadata": {},
   "source": [
    "# Berechnungen und erste grafische Darstellung am Beispiel von zwei verschiedenen Biegebalken"
   ]
  },
  {
   "cell_type": "markdown",
   "id": "6e658e0b",
   "metadata": {},
   "source": [
    "## Beispiel 1: zweiseitig gelagerter Balken mit Linienlast\n",
    "\n",
    "**Aufgabe**: Berechnen Sie die maximale Durchbiegung"
   ]
  },
  {
   "cell_type": "markdown",
   "id": "182e5507",
   "metadata": {},
   "source": [
    "![](images/Balkenbiegung1.png)\n",
    "\n",
    "- Länge: $L = 1000\\,\\mathrm{mm}$\n",
    "- Breite: $b = 30\\,\\mathrm{mm}$\n",
    "- Höhe: $h = 30\\,\\mathrm{mm}$\n",
    "- Linienlast: $q_0=1000\\,\\mathrm{N}$\n",
    "- E-Modul: $E=200000\\,\\mathrm{MPa}$"
   ]
  },
  {
   "cell_type": "code",
   "execution_count": null,
   "id": "17772e2f",
   "metadata": {},
   "outputs": [],
   "source": [
    "# Variablen\n",
    "# Beispiel1: zweiseitig gelagerter Balken mit Linienlast\n",
    "L = 1000.0 # mm\n",
    "b = 30.0 # mm\n",
    "h = 30.0 # mm\n",
    "q0 = 1000.0 # N\n",
    "E = 200000.0 # MPa -> N/mm^2"
   ]
  },
  {
   "cell_type": "markdown",
   "id": "046049fc",
   "metadata": {},
   "source": [
    "**Berechnung des Flächenträgheitsmoments**:\n",
    "\n",
    "$$I=\\frac{b\\,h^3}{12}$$"
   ]
  },
  {
   "cell_type": "code",
   "execution_count": null,
   "id": "6cf85028",
   "metadata": {},
   "outputs": [],
   "source": [
    "I = \n",
    "print(I)"
   ]
  },
  {
   "cell_type": "markdown",
   "id": "0d239a0c",
   "metadata": {},
   "source": [
    "**Berechnung der maximalen Durchbiegung**\n",
    "\n",
    "$$ u_{max}=\\frac{5\\,q\\,L^3}{384\\,E\\,I} $$"
   ]
  },
  {
   "cell_type": "code",
   "execution_count": null,
   "id": "04149490",
   "metadata": {},
   "outputs": [],
   "source": [
    "umax = \n",
    "print(umax)"
   ]
  },
  {
   "cell_type": "markdown",
   "id": "8b9e80f1",
   "metadata": {},
   "source": [
    "## Beispiel 2: einseitig eingespannter Balken mit Einzelkraft"
   ]
  },
  {
   "cell_type": "markdown",
   "id": "e6717f66",
   "metadata": {},
   "source": [
    "**Aufgabe**: Berechnen Sie die maximale Durchbiegung\n",
    "\n",
    "![](images/Balkenbiegung2.png)\n",
    "\n",
    "\n",
    "- Länge: $L = 1000\\,\\mathrm{mm}$\n",
    "- Breite: $b = 30\\,\\mathrm{mm}$\n",
    "- Höhe: $h = 60\\,\\mathrm{mm}$  *Wert anders als im ersten Beispiel*\n",
    "- Kraft: $F=1000\\,\\mathrm{N}$ *neuer Parameter*\n",
    "- E-Modul: $E=70000\\,\\mathrm{MPa}$ *Wert anders als im ersten Beispiel*"
   ]
  },
  {
   "cell_type": "code",
   "execution_count": null,
   "id": "7a98df78",
   "metadata": {},
   "outputs": [],
   "source": [
    "# Variablen\n",
    "# Beispiel2: einseitig7 eingespannter Balken mit Einzelkraft\n",
    "L = 1000.0 # mm\n",
    "b = 30.0 # mm\n",
    "h = 60.0 # mm\n",
    "F = 1000.0 # N\n",
    "E = 70000.0 # MPa -> N/mm^2"
   ]
  },
  {
   "cell_type": "markdown",
   "id": "a1309035",
   "metadata": {},
   "source": [
    "**Berechnung des Flächenträgheitsmoments**:\n",
    "\n",
    "$$I=\\frac{b\\,h^3}{12}$$"
   ]
  },
  {
   "cell_type": "code",
   "execution_count": null,
   "id": "6ae7a3c5",
   "metadata": {},
   "outputs": [],
   "source": [
    "I = \n",
    "print(I)"
   ]
  },
  {
   "cell_type": "markdown",
   "id": "588c974c",
   "metadata": {},
   "source": [
    "**Berechnung der maximalen Durchbiegung**\n",
    "\n",
    "$$ u_{max}=\\frac{F\\,L^3}{3\\,E\\,I} $$"
   ]
  },
  {
   "cell_type": "code",
   "execution_count": null,
   "id": "503dd3ce",
   "metadata": {},
   "outputs": [],
   "source": [
    "umax=\n",
    "print(umax)"
   ]
  },
  {
   "cell_type": "markdown",
   "id": "a44085ab",
   "metadata": {},
   "source": [
    "## Darstellung der Durchbiegung in Abhängigkeit der Länge\n",
    "\n",
    "**Aufgabe**: Stellen Sie die maximale Durchbiegung in Abhängigkeit der Länge für beide Beispiele dar"
   ]
  },
  {
   "cell_type": "markdown",
   "id": "919327aa",
   "metadata": {},
   "source": [
    "### Beispiel 1: zweiseitig gelagerter Balken mit Linienlast"
   ]
  },
  {
   "cell_type": "code",
   "execution_count": null,
   "id": "6ded2ef4",
   "metadata": {},
   "outputs": [],
   "source": [
    "# Variablen\n",
    "# Beispiel1: zweiseitig gelagerter Balken mit Linienlast\n",
    "L = 1000.0 # mm\n",
    "b = 30.0 # mm\n",
    "h1 = 30.0 # mm\n",
    "q0 = 1000.0 # N\n",
    "E1 = 200000.0 # MPa -> N/mm^2\n",
    "I1 = b*h1**3/12\n",
    "umax1 = (5*q0*L**3)/(384*E1*I1)\n",
    "print(umax1)"
   ]
  },
  {
   "cell_type": "markdown",
   "id": "0a02bd1d",
   "metadata": {},
   "source": [
    "Definition der Länge `L` als `np.array` (Liste aus Werten)"
   ]
  },
  {
   "cell_type": "code",
   "execution_count": null,
   "id": "bd67fb00",
   "metadata": {},
   "outputs": [],
   "source": [
    "import numpy as np\n",
    "L = np.array([0,250,500,750,1000]) # mm\n",
    "print(L)"
   ]
  },
  {
   "cell_type": "markdown",
   "id": "ffb0350e",
   "metadata": {},
   "source": [
    "Das Ergebnis ist dann automatisch ebenfalls eine Liste"
   ]
  },
  {
   "cell_type": "code",
   "execution_count": null,
   "id": "2513166f",
   "metadata": {},
   "outputs": [],
   "source": [
    "umax1 = (5*q0*L**3)/(384*E1*I1)\n",
    "print(umax1)"
   ]
  },
  {
   "cell_type": "markdown",
   "id": "3251a71d",
   "metadata": {},
   "source": [
    "mit `import matplotlib.pyplot as plt` wird das `pyplot` Modul der `matplotlib` Bibliothek importiert mit dem wir die ersten Plots erstellen"
   ]
  },
  {
   "cell_type": "code",
   "execution_count": null,
   "id": "a999214e",
   "metadata": {},
   "outputs": [],
   "source": [
    "import matplotlib.pyplot as plt\n",
    "plt.plot(L,umax1);\n",
    "plt.xlabel(\"Länge [mm]\");\n",
    "plt.ylabel(\"maximale Verschiebung [mm]\");"
   ]
  },
  {
   "cell_type": "markdown",
   "id": "36752b83",
   "metadata": {},
   "source": [
    "Um die Werte zusätzlich als Punkte einzublenden kann:\n",
    "\n",
    "`plt.plot(marker=\"s\",ms=10)`\n",
    "- marker: \"s\" = square\n",
    "- ms = markersize (Größe der Punkte)\n",
    "\n",
    "[Übersicht über alle Stile (matplotlib Cheat Sheet)](https://github.com/matplotlib/cheatsheets/blob/master/cheatsheets.pdf)\n"
   ]
  },
  {
   "cell_type": "code",
   "execution_count": null,
   "id": "d15de5dd",
   "metadata": {},
   "outputs": [],
   "source": [
    "plt.plot(L,umax1, marker=\"s\",ms=10);\n",
    "plt.xlabel(\"Länge [mm]\");\n",
    "plt.ylabel(\"maximale Verschiebung [mm]\");"
   ]
  },
  {
   "cell_type": "markdown",
   "id": "4d800a3f",
   "metadata": {},
   "source": [
    "Um den Verlauf zu glätten sind mehr Punkte einzugeben, dafür ist `np.linspace()` sehr praktisch (wieder ohne die Punkte)"
   ]
  },
  {
   "cell_type": "code",
   "execution_count": null,
   "id": "7200aa8b",
   "metadata": {},
   "outputs": [],
   "source": [
    "L = np.linspace(0,1000,20) # mm\n",
    "print(L)"
   ]
  },
  {
   "cell_type": "code",
   "execution_count": null,
   "id": "3ff54c45",
   "metadata": {},
   "outputs": [],
   "source": [
    "L = np.linspace(0,1000,100) # mm\n",
    "umax1 = (5*q0*L**3)/(384*E1*I1)\n",
    "plt.plot(L,umax1);\n",
    "plt.xlabel(\"Länge [mm]\");\n",
    "plt.ylabel(\"maximale Verschiebung [mm]\");"
   ]
  },
  {
   "cell_type": "markdown",
   "id": "208242d4",
   "metadata": {},
   "source": [
    "### Beispiel 2: einseitig eingespannter Balken mit Einzelkraft"
   ]
  },
  {
   "cell_type": "code",
   "execution_count": null,
   "id": "8969f07d",
   "metadata": {},
   "outputs": [],
   "source": [
    "# Variablen\n",
    "# Beispiel2: einseitig eingespannter Balken mit Einzelkraft\n",
    "L = np.linspace(0,1000,100) # mm\n",
    "b = 30.0 # mm\n",
    "h2 = 60.0 # mm\n",
    "F = 1000.0 # N\n",
    "E2 = 70000.0 # MPa -> N/mm^2\n",
    "I2 = (b*h2**3)/12\n",
    "umax2= (F*L**3)/(3*E2*I2)"
   ]
  },
  {
   "cell_type": "code",
   "execution_count": null,
   "id": "fbf55a56",
   "metadata": {},
   "outputs": [],
   "source": [
    "plt.plot(L,umax2);\n",
    "plt.xlabel(\"Länge [mm]\");\n",
    "plt.ylabel(\"maximale Verschiebung [mm]\");"
   ]
  },
  {
   "cell_type": "markdown",
   "id": "f153f3e9",
   "metadata": {},
   "source": [
    "### Beide Beispiele zusammen\n",
    "\n",
    "1. Bezeichnung über `label`=\n",
    "2. Legende anzeigen mit `plt.legend()`"
   ]
  },
  {
   "cell_type": "code",
   "execution_count": null,
   "id": "cbdf87db",
   "metadata": {},
   "outputs": [],
   "source": [
    "plt.plot(L,umax1,label=\"Beispiel 1\");\n",
    "plt.plot(L,umax2,label=\"Beispiel 2\");\n",
    "plt.legend();\n",
    "plt.xlabel(\"Länge [mm]\");\n",
    "plt.ylabel(\"maximale Verschiebung [mm]\");"
   ]
  },
  {
   "cell_type": "markdown",
   "id": "ebe4b093",
   "metadata": {},
   "source": [
    "### stylistische Anpassungen\n",
    "\n",
    "**Stil zurücksetzen**: <br>\n",
    "wichtig um den Stil nicht ungewollt auf die nächsten Plots zu übertragen <br>\n",
    "- `plt.style.use('default')`\n",
    "\n",
    "**Schrift**: <br>\n",
    "muss vor `plt.plot()` kommen <br>\n",
    "- Schriftgröße: `plt.rcParams.update({'font.size': 20})`\n",
    "- Schriftart: `plt.rcParams['font.family'] = 'STIXGeneral'` <br>STIXGeneral = LaTeX Schrift\n",
    "\n",
    "**Bildgröße**: <br>\n",
    "- für alle Texte `plt.figure(figsize=(8,5))`\n",
    "muss vor `plt.plot()` kommen <br>\n",
    "Größe in inces (Default: 6,4) <br>\n",
    "- individuell z.B. in Title, Legende, Achsenbeschriftung `fontsize=18`\n",
    "\n",
    "**Gitter**: <br>\n",
    "- `plt.grid()`\n",
    "\n",
    "**Titel**: <br>\n",
    "- `plt.title(\"Beispieltitel\")`\n",
    "\n",
    "**Linien**: <br>\n",
    "in `plt.plot()`<br>\n",
    "[Übersicht über alle Stile (matplotlib Cheat Sheet)](https://github.com/matplotlib/cheatsheets/blob/master/cheatsheets.pdf)\n",
    "- Linienfarbe: `plt.plot(color=\"red\")`\n",
    "- Liniendicke: `plt.plot(lw=2)` (lw = linewidth)\n",
    "- Linienstil: `plt.plot(ls=\"--\")` (ls = linestyle) <br>\n"
   ]
  },
  {
   "cell_type": "code",
   "execution_count": null,
   "id": "27eea405",
   "metadata": {},
   "outputs": [],
   "source": [
    "#stil zurücksetzen\n",
    "plt.style.use('default')\n",
    "\n",
    "plt.figure(figsize=(8,5))\n",
    "plt.rcParams['font.family'] = 'STIXGeneral'\n",
    "plt.rcParams['font.size'] = 18;\n",
    "plt.plot(L,umax1,label=\"Beispiel 1\",color=\"red\", lw=2, ls=\"-\");\n",
    "plt.plot(L,umax2,label=\"Beispiel 2\",color=\"blue\", lw=2, ls=\"--\");\n",
    "plt.legend(fontsize=16);\n",
    "plt.grid();\n",
    "plt.title(\"Vergleich beider Modelle\", fontsize=16)\n",
    "plt.xlabel(\"Länge [mm]\");\n",
    "plt.ylabel(\"maximale Verschiebung [mm]\");"
   ]
  },
  {
   "cell_type": "markdown",
   "id": "e5be9c7c",
   "metadata": {},
   "source": [
    "wenn wir den Stil jetzt nicht zurücksetzen `plt.style.use('default')` wird dieser automatisch in dem nächsten plot verwendet.\n",
    "\n",
    "Nun stellen wir nur den vorderen Bereich der Länge von  `L=0` bis `L=200mm` dar: <br>\n",
    "\n",
    "`plt.xlim(0,200)`\n",
    "\n",
    "für y-Achse analog:\n",
    "\n",
    "`plt.ylim(0,0.1)`\n"
   ]
  },
  {
   "cell_type": "code",
   "execution_count": null,
   "id": "1030adaa",
   "metadata": {},
   "outputs": [],
   "source": [
    "plt.xlim(0,200);\n",
    "plt.ylim(0,0.1);\n",
    "plt.plot(L,umax1,label=\"Beispiel 1\",color=\"red\", lw=2, ls=\"-\");\n",
    "plt.plot(L,umax2,label=\"Beispiel 2\",color=\"blue\", lw=2, ls=\"--\");\n",
    "plt.xlabel(\"Länge [mm]\");\n",
    "plt.ylabel(\"maximale Verschiebung [mm]\");\n",
    "plt.grid();\n",
    "plt.legend(fontsize=16);"
   ]
  },
  {
   "cell_type": "markdown",
   "id": "ec81b764",
   "metadata": {},
   "source": [
    "### Datei speichern\n",
    "\n",
    "mit `plt.savefig('Dateiname.png', bbox_inches='tight', dpi=150)`\n",
    "\n",
    "- `bbox_inches='tight'` sorgt dafür das die Beschriftungen immer mit im Bild gespeichert werden (können sonst manchmal abgeschnitten sein)\n",
    "- `dpi` regelt die Größe des Pixelbildes (dots per inch)"
   ]
  },
  {
   "cell_type": "code",
   "execution_count": null,
   "id": "94847471",
   "metadata": {},
   "outputs": [],
   "source": [
    "plt.xlim(0,200);\n",
    "plt.ylim(0,0.1);\n",
    "plt.plot(L,umax1,label=\"Beispiel 1\",color=\"red\", lw=2, ls=\"-\");\n",
    "plt.plot(L,umax2,label=\"Beispiel 2\",color=\"blue\", lw=2, ls=\"--\");\n",
    "plt.xlabel(\"Länge [mm]\");\n",
    "plt.ylabel(\"maximale Verschiebung [mm]\");\n",
    "plt.grid();\n",
    "plt.legend(fontsize=16);\n",
    "plt.savefig('Uebung1_detail.png', bbox_inches='tight', dpi=150)"
   ]
  },
  {
   "cell_type": "code",
   "execution_count": null,
   "id": "32785ad0",
   "metadata": {},
   "outputs": [],
   "source": [
    "plt.plot(L,umax1,label=\"Beispiel 1\",color=\"red\", lw=2, ls=\"-\");\n",
    "plt.plot(L,umax2,label=\"Beispiel 2\",color=\"blue\", lw=2, ls=\"--\");\n",
    "plt.xlabel(\"Länge [mm]\");\n",
    "plt.ylabel(\"maximale Verschiebung [mm]\");\n",
    "plt.grid();\n",
    "plt.legend(fontsize=16);\n",
    "plt.savefig('Uebung1_alles.png', bbox_inches='tight', dpi=150)"
   ]
  }
 ],
 "metadata": {
  "kernelspec": {
   "display_name": "Python 3",
   "language": "python",
   "name": "python3"
  },
  "language_info": {
   "codemirror_mode": {
    "name": "ipython",
    "version": 3
   },
   "file_extension": ".py",
   "mimetype": "text/x-python",
   "name": "python",
   "nbconvert_exporter": "python",
   "pygments_lexer": "ipython3",
   "version": "3.8.5"
  }
 },
 "nbformat": 4,
 "nbformat_minor": 5
}
