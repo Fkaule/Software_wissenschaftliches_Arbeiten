{
 "cells": [
  {
   "cell_type": "markdown",
   "id": "ad301359",
   "metadata": {},
   "source": [
    "Darunter liegende Zeile ausführen (für Kontrolle der Lösung + Hinweise + Lösung )"
   ]
  },
  {
   "cell_type": "code",
   "execution_count": 1,
   "id": "ccbc8928",
   "metadata": {},
   "outputs": [],
   "source": [
    "import os\n",
    "import sys\n",
    "sys.path.insert(0, os.path.abspath('../'))\n",
    "from learntools.core import binder;binder.bind(globals())\n",
    "from learntools import *\n",
    "from learntools_HTWK.python.ex2 import *"
   ]
  },
  {
   "cell_type": "markdown",
   "id": "41ae602b",
   "metadata": {},
   "source": [
    "# Kraft-Weg Messungen\n",
    "\n",
    "## Aufgabe a) Kraft-Weg-Verlauf\n",
    "\n",
    "**Aufgabe a)**: Erstellen Sie jeweils einen `numpy array` aus den in der Tabelle dargestellten Werten:\n",
    "- Weg\n",
    "- Kraft_Probe1\n",
    "- Kraft_Probe2\n",
    "\n",
    "\n",
    "|    |   Weg [mm] |   Kraft (Probe1) [N] |   Kraft (Probe2) [N] |\n",
    "|---:|-----------:|---------------------:|---------------------:|\n",
    "|  0 |          0 |                   10 |                    0 |\n",
    "|  1 |         10 |                   18 |                   10 |\n",
    "|  2 |         20 |                   24 |                   20 |\n",
    "|  3 |         30 |                   28 |                   30 |\n",
    "|  4 |         40 |                   30 |                   40 |\n"
   ]
  },
  {
   "cell_type": "code",
   "execution_count": 3,
   "id": "a381401c",
   "metadata": {},
   "outputs": [
    {
     "data": {
      "application/javascript": [
       "parent.postMessage({\"jupyterEvent\": \"custom.exercise_interaction\", \"data\": {\"outcomeType\": 1, \"valueTowardsCompletion\": 1.0, \"interactionType\": 1, \"questionType\": 1, \"questionId\": \"0_Daten\", \"learnToolsVersion\": \"0.3.4\", \"failureMessage\": \"\", \"exceptionClass\": \"\", \"trace\": \"\"}}, \"*\")"
      ],
      "text/plain": [
       "<IPython.core.display.Javascript object>"
      ]
     },
     "metadata": {},
     "output_type": "display_data"
    },
    {
     "data": {
      "text/markdown": [
       "<span style=\"color:#33cc33\">Correct</span>"
      ],
      "text/plain": [
       "Correct"
      ]
     },
     "metadata": {},
     "output_type": "display_data"
    }
   ],
   "source": [
    "import numpy as np\n",
    "# Lösung hier\n",
    "Weg = np.array([0,10,20,30,40])\n",
    "Kraft_Probe1 = np.array([10,18,24,28,30])\n",
    "Kraft_Probe2 = np.array([0,10,20,30,40])\n",
    "\n",
    "# Kontrolle der Lösung\n",
    "q0.check()"
   ]
  },
  {
   "cell_type": "markdown",
   "id": "52e79231",
   "metadata": {},
   "source": [
    "**Aufgabe b)**: Stellen Sie die nun übertragenen Daten mit `plt.plot()` dar"
   ]
  },
  {
   "cell_type": "code",
   "execution_count": null,
   "id": "aff9814b",
   "metadata": {},
   "outputs": [],
   "source": [
    "import matplotlib\n",
    "# Lösung hier\n",
    "plt.plot();\n",
    "plt.plot();"
   ]
  },
  {
   "cell_type": "markdown",
   "id": "db70c6cc",
   "metadata": {},
   "source": [
    "## Aufgabe b) Differenz zwischen Probe1 und Probe2\n",
    "**Aufgabe b)**: Stellen Sie nun die Differenz aus beiden Kraftmessungen dar"
   ]
  },
  {
   "cell_type": "code",
   "execution_count": null,
   "id": "2da3614f",
   "metadata": {},
   "outputs": [],
   "source": [
    "# Code hier"
   ]
  }
 ],
 "metadata": {
  "kernelspec": {
   "display_name": "Python 3",
   "language": "python",
   "name": "python3"
  },
  "language_info": {
   "codemirror_mode": {
    "name": "ipython",
    "version": 3
   },
   "file_extension": ".py",
   "mimetype": "text/x-python",
   "name": "python",
   "nbconvert_exporter": "python",
   "pygments_lexer": "ipython3",
   "version": "3.8.5"
  }
 },
 "nbformat": 4,
 "nbformat_minor": 5
}
