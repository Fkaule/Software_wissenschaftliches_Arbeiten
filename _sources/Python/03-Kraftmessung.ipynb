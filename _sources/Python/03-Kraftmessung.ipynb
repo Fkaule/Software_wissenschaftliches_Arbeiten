{
 "cells": [
  {
   "cell_type": "markdown",
   "id": "84c82c72",
   "metadata": {},
   "source": [
    "Darunter liegende Zeile ausführen (für Kontrolle der Lösung + Hinweise + Lösung )"
   ]
  },
  {
   "cell_type": "code",
   "execution_count": null,
   "id": "917fbe6e",
   "metadata": {},
   "outputs": [],
   "source": [
    "import os\n",
    "import sys\n",
    "sys.path.insert(0, os.path.abspath('../'))\n",
    "from learntools.core import binder;binder.bind(globals())\n",
    "from learntools import *\n",
    "from learntools_HTWK.python.ex2 import *"
   ]
  },
  {
   "cell_type": "markdown",
   "id": "3d992470",
   "metadata": {},
   "source": [
    "# Kraft-Weg Messungen \n",
    "\n",
    "## `q1`) Kraft-Weg-Verlauf Daten\n",
    "\n",
    "<div class=\"alert alert-block alert-info\">\n",
    "<b>q1)</b> Erstellen Sie jeweils einen `numpy array` aus den in der Tabelle dargestellten Werten: <br/><br/>\n",
    "- Weg<br/>\n",
    "- Kraft_Probe1<br/>\n",
    "- Kraft_Probe2\n",
    "</div>\n",
    "\n",
    "\n",
    "\n",
    "\n",
    "|    |   Weg [mm] |   Kraft (Probe1) [N] |   Kraft (Probe2) [N] |\n",
    "|---:|-----------:|---------------------:|---------------------:|\n",
    "|  0 |          0 |                   10 |                    0 |\n",
    "|  1 |         10 |                   18 |                   10 |\n",
    "|  2 |         20 |                   24 |                   20 |\n",
    "|  3 |         30 |                   28 |                   30 |\n",
    "|  4 |         40 |                   30 |                   40 |\n"
   ]
  },
  {
   "cell_type": "code",
   "execution_count": null,
   "id": "e6d3146c",
   "metadata": {},
   "outputs": [],
   "source": [
    "import numpy as np\n",
    "\n",
    "# Lösung hier\n",
    "Weg = np.array([])\n",
    "Kraft_Probe1 = np.array([])\n",
    "Kraft_Probe2 = np.array([])\n",
    "\n",
    "# Kontrolle der Lösung\n",
    "q1.check()\n",
    "#q1.hint()\n",
    "q1.solution()"
   ]
  },
  {
   "cell_type": "markdown",
   "id": "9b52c342",
   "metadata": {},
   "source": [
    "## `q2`) Kraft-Weg-Verlauf Plot\n",
    "\n",
    "<div class=\"alert alert-block alert-info\">\n",
    "<b>q2)</b> Stellen Sie die beiden Kraftverläufe als Liniendiagramm mit <b>plt.plot()</b> dar. Beschriften Sie die Achsen (mit Einheiten!) und verwenden Sie eine Legende\n",
    "</div>\n",
    "\n"
   ]
  },
  {
   "cell_type": "code",
   "execution_count": null,
   "id": "3a259593",
   "metadata": {},
   "outputs": [],
   "source": [
    "import matplotlib.pyplot as plt\n",
    "\n",
    "# Lösung hier\n",
    "\n",
    "\n",
    "# Kontrolle der Lösung\n",
    "q2.check()\n",
    "#q2.hint()\n",
    "#q2.solution()"
   ]
  },
  {
   "cell_type": "markdown",
   "id": "8aba4554",
   "metadata": {},
   "source": [
    "## `q3`) Kraft-Weg-Verlauf Plot Differenz [N]\n",
    "\n",
    "<div class=\"alert alert-block alert-info\">\n",
    "<b>q3)</b> Stellen Sie nun die Differenz der Kraft aus Probe1 zu Probe2 in <b>N</b> dar\n",
    "</div>\n"
   ]
  },
  {
   "cell_type": "code",
   "execution_count": null,
   "id": "40ae2162",
   "metadata": {},
   "outputs": [],
   "source": [
    "import matplotlib.pyplot as plt\n",
    "\n",
    "# Lösung hier\n",
    "\n",
    "\n",
    "# Kontrolle der Lösung\n",
    "q3.check()\n",
    "#q3.hint()\n",
    "#q3.solution()\n"
   ]
  },
  {
   "cell_type": "markdown",
   "id": "148370ca",
   "metadata": {},
   "source": [
    "## `q4`) Kraft-Weg-Verlauf Plot Differenz [%]\n",
    "<div class=\"alert alert-block alert-info\">\n",
    "<b>q4)</b> Stellen Sie nun die Differenz der Kraft aus Probe1 zu Probe2 in <b>%</b> dar\n",
    "</div>"
   ]
  },
  {
   "cell_type": "code",
   "execution_count": null,
   "id": "4bae8624",
   "metadata": {},
   "outputs": [],
   "source": [
    "import matplotlib.pyplot as plt\n",
    "\n",
    "# Lösung hier\n",
    "\n",
    "\n",
    "# Kontrolle der Lösung\n",
    "q4.check()\n",
    "#q4.hint()\n",
    "#q4.solution()\n"
   ]
  }
 ],
 "metadata": {
  "kernelspec": {
   "display_name": "Python 3",
   "language": "python",
   "name": "python3"
  },
  "language_info": {
   "codemirror_mode": {
    "name": "ipython",
    "version": 3
   },
   "file_extension": ".py",
   "mimetype": "text/x-python",
   "name": "python",
   "nbconvert_exporter": "python",
   "pygments_lexer": "ipython3",
   "version": "3.8.5"
  }
 },
 "nbformat": 4,
 "nbformat_minor": 5
}
