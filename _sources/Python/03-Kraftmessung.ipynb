{
 "cells": [
  {
   "cell_type": "markdown",
   "id": "e09edfe9",
   "metadata": {},
   "source": [
    "# Übungsaufgaben: Kraft-Weg Messungen \n",
    "\n",
    "*Dies sind Übungsaufgaben zur Datenvisualsierung mit händisch eingetragenen Daten*\n",
    "\n",
    "## `q1`) Kraft-Weg-Verlauf Daten\n",
    "\n",
    "<div class=\"alert alert-block alert-info\">\n",
    "<b>q1)</b> Erstellen Sie jeweils einen `numpy array` aus den in der Tabelle dargestellten Werten: <br/><br/>\n",
    "- Weg<br/>\n",
    "- Kraft_Probe1<br/>\n",
    "- Kraft_Probe2\n",
    "</div>\n",
    "\n",
    "\n",
    "\n",
    "\n",
    "|    |   Weg [mm] |   Kraft (Probe1) [N] |   Kraft (Probe2) [N] |\n",
    "|---:|-----------:|---------------------:|---------------------:|\n",
    "|  0 |          0 |                   10 |                    0 |\n",
    "|  1 |         10 |                   18 |                   10 |\n",
    "|  2 |         20 |                   24 |                   20 |\n",
    "|  3 |         30 |                   28 |                   30 |\n",
    "|  4 |         40 |                   30 |                   40 |\n"
   ]
  },
  {
   "cell_type": "code",
   "execution_count": null,
   "id": "a674ac06",
   "metadata": {},
   "outputs": [],
   "source": [
    "import numpy as np\n",
    "\n",
    "# Lösung hier\n",
    "Weg = np.array([])\n",
    "Kraft_Probe1 = np.array([])\n",
    "Kraft_Probe2 = np.array([])"
   ]
  },
  {
   "cell_type": "markdown",
   "id": "badf190b",
   "metadata": {},
   "source": [
    "## `q2`) Kraft-Weg-Verlauf Plot\n",
    "\n",
    "<div class=\"alert alert-block alert-info\">\n",
    "<b>q2)</b> Stellen Sie die beiden Kraftverläufe als Liniendiagramm mit <b>plt.plot()</b> dar. Beschriften Sie die Achsen (mit Einheiten!) und verwenden Sie eine Legende\n",
    "</div>\n",
    "\n"
   ]
  },
  {
   "cell_type": "code",
   "execution_count": null,
   "id": "e3c5b743",
   "metadata": {},
   "outputs": [],
   "source": [
    "import matplotlib.pyplot as plt\n",
    "\n",
    "# Lösung hier\n"
   ]
  },
  {
   "cell_type": "markdown",
   "id": "1e1abf18",
   "metadata": {},
   "source": [
    "## `q3`) Kraft-Weg-Verlauf Plot Differenz [N]\n",
    "\n",
    "<div class=\"alert alert-block alert-info\">\n",
    "<b>q3)</b> Stellen Sie nun die Differenz der Kraft aus Probe1 zu Probe2 in <b>N</b> dar\n",
    "</div>\n"
   ]
  },
  {
   "cell_type": "code",
   "execution_count": null,
   "id": "929e861c",
   "metadata": {},
   "outputs": [],
   "source": [
    "import matplotlib.pyplot as plt\n",
    "\n",
    "# Lösung hier\n"
   ]
  },
  {
   "cell_type": "markdown",
   "id": "7393426c",
   "metadata": {},
   "source": [
    "## `q4`) Kraft-Weg-Verlauf Plot Differenz [%]\n",
    "<div class=\"alert alert-block alert-info\">\n",
    "<b>q4)</b> Stellen Sie nun die Differenz der Kraft aus Probe1 zu Probe2 in <b>%</b> dar\n",
    "</div>"
   ]
  },
  {
   "cell_type": "code",
   "execution_count": null,
   "id": "b0d8c237",
   "metadata": {},
   "outputs": [],
   "source": [
    "import matplotlib.pyplot as plt\n",
    "\n",
    "# Lösung hier\n",
    "\n"
   ]
  }
 ],
 "metadata": {
  "kernelspec": {
   "display_name": "Python 3",
   "language": "python",
   "name": "python3"
  },
  "language_info": {
   "codemirror_mode": {
    "name": "ipython",
    "version": 3
   },
   "file_extension": ".py",
   "mimetype": "text/x-python",
   "name": "python",
   "nbconvert_exporter": "python",
   "pygments_lexer": "ipython3",
   "version": "3.8.5"
  }
 },
 "nbformat": 4,
 "nbformat_minor": 5
}
