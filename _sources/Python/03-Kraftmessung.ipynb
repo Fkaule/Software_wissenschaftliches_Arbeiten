{
 "cells": [
  {
   "cell_type": "markdown",
   "id": "02cec2a5",
   "metadata": {},
   "source": [
    "# Kraft-Weg Messungen\n",
    "\n",
    "## Aufgabe a) Kraft-Weg-Verlauf\n",
    "\n",
    "**Aufgabe a)**: Stellen Sie die die Kräfte von Probe 1 und Probe 2 über die Weg in einer Abbildung dar\n",
    "\n",
    "\n",
    "|    |   Weg [mm] |   Kraft (Probe1) [N] |   Kraft (Probe2) [N] |\n",
    "|---:|-----------:|---------------------:|---------------------:|\n",
    "|  0 |          0 |                   10 |                    0 |\n",
    "|  1 |         10 |                   18 |                   10 |\n",
    "|  2 |         20 |                   24 |                   20 |\n",
    "|  3 |         30 |                   28 |                   30 |\n",
    "|  4 |         40 |                   30 |                   40 |\n"
   ]
  },
  {
   "cell_type": "code",
   "execution_count": null,
   "id": "86710495",
   "metadata": {},
   "outputs": [],
   "source": [
    "# Code hier"
   ]
  },
  {
   "cell_type": "markdown",
   "id": "e2b3e3f2",
   "metadata": {},
   "source": [
    "## Aufgabe b) Differenz zwischen Probe1 und Probe2\n",
    "**Aufgabe b)**: Stellen Sie nun die Differenz aus beiden Kraftmessungen dar"
   ]
  },
  {
   "cell_type": "code",
   "execution_count": null,
   "id": "be82b691",
   "metadata": {},
   "outputs": [],
   "source": [
    "# Code hier"
   ]
  }
 ],
 "metadata": {
  "kernelspec": {
   "display_name": "Python 3",
   "language": "python",
   "name": "python3"
  },
  "language_info": {
   "codemirror_mode": {
    "name": "ipython",
    "version": 3
   },
   "file_extension": ".py",
   "mimetype": "text/x-python",
   "name": "python",
   "nbconvert_exporter": "python",
   "pygments_lexer": "ipython3",
   "version": "3.8.5"
  }
 },
 "nbformat": 4,
 "nbformat_minor": 5
}
