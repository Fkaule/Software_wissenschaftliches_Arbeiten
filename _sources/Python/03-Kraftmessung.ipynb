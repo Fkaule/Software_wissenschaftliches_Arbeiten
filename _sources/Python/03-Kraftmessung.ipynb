{
 "cells": [
  {
   "cell_type": "markdown",
   "id": "56ee0d67",
   "metadata": {},
   "source": [
    "Darunter liegende Zeile ausführen (für Kontrolle der Lösung + Hinweise + Lösung )"
   ]
  },
  {
   "cell_type": "code",
   "execution_count": null,
   "id": "45345b19",
   "metadata": {},
   "outputs": [],
   "source": [
    "import os\n",
    "import sys\n",
    "sys.path.insert(0, os.path.abspath('../'))\n",
    "from learntools.core import binder;binder.bind(globals())\n",
    "from learntools import *\n",
    "from learntools_HTWK.python.ex2 import *"
   ]
  },
  {
   "cell_type": "markdown",
   "id": "98f635a5",
   "metadata": {},
   "source": [
    "# Kraft-Weg Messungen \n",
    "\n",
    "## `q1`) Kraft-Weg-Verlauf Daten\n",
    "\n",
    "Erstellen Sie jeweils einen `numpy array` aus den in der Tabelle dargestellten Werten:\n",
    "- Weg\n",
    "- Kraft_Probe1\n",
    "- Kraft_Probe2\n",
    "\n",
    "\n",
    "|    |   Weg [mm] |   Kraft (Probe1) [N] |   Kraft (Probe2) [N] |\n",
    "|---:|-----------:|---------------------:|---------------------:|\n",
    "|  0 |          0 |                   10 |                    0 |\n",
    "|  1 |         10 |                   18 |                   10 |\n",
    "|  2 |         20 |                   24 |                   20 |\n",
    "|  3 |         30 |                   28 |                   30 |\n",
    "|  4 |         40 |                   30 |                   40 |\n"
   ]
  },
  {
   "cell_type": "code",
   "execution_count": null,
   "id": "25b4bdb8",
   "metadata": {},
   "outputs": [],
   "source": [
    "import numpy as np\n",
    "\n",
    "# Lösung hier\n",
    "Weg = np.array([])\n",
    "Kraft_Probe1 = np.array([])\n",
    "Kraft_Probe2 = np.array([])\n",
    "\n",
    "# Kontrolle der Lösung\n",
    "q1.check()\n",
    "#q1.hint()\n",
    "#q1.solution()"
   ]
  },
  {
   "cell_type": "markdown",
   "id": "ca032a5e",
   "metadata": {},
   "source": [
    "## `q2`) Kraft-Weg-Verlauf Plot\n",
    "\n",
    "Stellen Sie die beiden Kraftverläufe als Liniendiagramm mit `plt.plot()` dar. Beschriften Sie die Achsen (mit Einheiten!) und verwenden Sie eine Legende"
   ]
  },
  {
   "cell_type": "code",
   "execution_count": null,
   "id": "89bae16c",
   "metadata": {},
   "outputs": [],
   "source": [
    "import matplotlib.pyplot as plt\n",
    "\n",
    "# Lösung hier\n",
    "\n",
    "\n",
    "# Kontrolle der Lösung\n",
    "q2.check()\n",
    "#q2.hint()\n",
    "#q2.solution()"
   ]
  },
  {
   "cell_type": "markdown",
   "id": "e335a910",
   "metadata": {},
   "source": [
    "## `q3`) Kraft-Weg-Verlauf Plot Differenz [N]\n",
    "Stellen Sie nun die Differenz der Kraft aus Probe1 zu Probe2 in **N** dar"
   ]
  },
  {
   "cell_type": "code",
   "execution_count": null,
   "id": "47dc21f9",
   "metadata": {},
   "outputs": [],
   "source": [
    "import matplotlib.pyplot as plt\n",
    "\n",
    "# Lösung hier\n",
    "\n",
    "\n",
    "# Kontrolle der Lösung\n",
    "q3.check()\n",
    "#q3.hint()\n",
    "#q3.solution()\n"
   ]
  },
  {
   "cell_type": "markdown",
   "id": "12be4766",
   "metadata": {},
   "source": [
    "## `q4`) Kraft-Weg-Verlauf Plot Differenz [%]\n",
    "Stellen Sie nun die Differenz der Kraft aus Probe1 zu Probe2 in **%** dar"
   ]
  },
  {
   "cell_type": "code",
   "execution_count": null,
   "id": "d497e777",
   "metadata": {},
   "outputs": [],
   "source": [
    "import matplotlib.pyplot as plt\n",
    "\n",
    "# Lösung hier\n",
    "\n",
    "\n",
    "# Kontrolle der Lösung\n",
    "q4.check()\n",
    "#q4.hint()\n",
    "#q4.solution()\n"
   ]
  }
 ],
 "metadata": {
  "kernelspec": {
   "display_name": "Python 3",
   "language": "python",
   "name": "python3"
  },
  "language_info": {
   "codemirror_mode": {
    "name": "ipython",
    "version": 3
   },
   "file_extension": ".py",
   "mimetype": "text/x-python",
   "name": "python",
   "nbconvert_exporter": "python",
   "pygments_lexer": "ipython3",
   "version": "3.8.5"
  }
 },
 "nbformat": 4,
 "nbformat_minor": 5
}
