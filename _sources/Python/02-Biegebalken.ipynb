{
 "cells": [
  {
   "cell_type": "markdown",
   "id": "c013b444",
   "metadata": {},
   "source": [
    "# Erste Berechnungen und Visualiserung\n",
    "\n",
    "*In diesem Teil wird an zwei einfacheb mechanischem Beispielen eine Berechnung mit Python und die Möglichkeit der Visualiserung der erzeugten Daten aufgezeigt.*\n",
    "<br><br>\n",
    "**verwendete Bibliotheken**: \n",
    "- `numpy` (Datenspeicherung und Berechnung) \n",
    "- `matplotlib` (Datenvisualisierung)"
   ]
  },
  {
   "cell_type": "markdown",
   "id": "7b90a121",
   "metadata": {},
   "source": [
    "## Beispiel 1: zweiseitig gelagerter Balken mit Linienlast\n",
    "\n",
    "**Aufgabe**: Berechnen Sie die maximale Durchbiegung"
   ]
  },
  {
   "cell_type": "markdown",
   "id": "48be4604",
   "metadata": {},
   "source": [
    "![](images/Balkenbiegung1.png)\n",
    "\n",
    "- Länge: $L = 1000\\,\\mathrm{mm}$\n",
    "- Breite: $b = 30\\,\\mathrm{mm}$\n",
    "- Höhe: $h = 30\\,\\mathrm{mm}$\n",
    "- Linienlast: $q_0=1000\\,\\mathrm{N}$\n",
    "- E-Modul: $E=200000\\,\\mathrm{MPa}$"
   ]
  },
  {
   "cell_type": "code",
   "execution_count": null,
   "id": "d1a744d3",
   "metadata": {},
   "outputs": [],
   "source": [
    "# Variablen\n",
    "# Beispiel1: zweiseitig gelagerter Balken mit Linienlast\n",
    "L = 1000.0 # mm\n",
    "b = 30.0 # mm\n",
    "h = 30.0 # mm\n",
    "q = 1000.0 # N\n",
    "E = 200000.0 # MPa -> N/mm^2"
   ]
  },
  {
   "cell_type": "markdown",
   "id": "83f4d4a0",
   "metadata": {},
   "source": [
    "**Berechnung des Flächenträgheitsmoments**:\n",
    "\n",
    "$$I=\\frac{b\\,h^3}{12}$$"
   ]
  },
  {
   "cell_type": "code",
   "execution_count": null,
   "id": "5deca687",
   "metadata": {},
   "outputs": [],
   "source": [
    "# Lösung hier eintragen\n",
    "I = "
   ]
  },
  {
   "cell_type": "markdown",
   "id": "376de27f",
   "metadata": {},
   "source": [
    "**Berechnung der maximalen Durchbiegung**\n",
    "\n",
    "$$ u_{max}=\\frac{5\\,q\\,L^3}{384\\,E\\,I} $$"
   ]
  },
  {
   "cell_type": "code",
   "execution_count": null,
   "id": "a4071baf",
   "metadata": {},
   "outputs": [],
   "source": [
    "# Lösung hier eintragen\n",
    "umax = "
   ]
  },
  {
   "cell_type": "markdown",
   "id": "fff854a9",
   "metadata": {},
   "source": [
    "## Beispiel 2: einseitig eingespannter Balken mit Einzelkraft"
   ]
  },
  {
   "cell_type": "markdown",
   "id": "c38b5e35",
   "metadata": {},
   "source": [
    "**Aufgabe**: Berechnen Sie die maximale Durchbiegung\n",
    "\n",
    "![](images/Balkenbiegung2.png)\n",
    "\n",
    "\n",
    "- Länge: $L = 1000\\,\\mathrm{mm}$\n",
    "- Breite: $b = 30\\,\\mathrm{mm}$\n",
    "- Höhe: $h = 60\\,\\mathrm{mm}$  *Wert anders als im ersten Beispiel*\n",
    "- Kraft: $F=1000\\,\\mathrm{N}$ *neuer Parameter*\n",
    "- E-Modul: $E=200000\\,\\mathrm{MPa}$ *Wert anders als im ersten Beispiel*"
   ]
  },
  {
   "cell_type": "code",
   "execution_count": null,
   "id": "79834e2e",
   "metadata": {},
   "outputs": [],
   "source": [
    "# Variablen\n",
    "# Beispiel2: einseitig eingespannter Balken mit Einzelkraft\n",
    "L = 1000.0 # mm\n",
    "b = 30.0 # mm\n",
    "h = 60.0 # mm\n",
    "F = 1000.0 # N\n",
    "E = 70000.0 # MPa -> N/mm^2"
   ]
  },
  {
   "cell_type": "markdown",
   "id": "c41e8edf",
   "metadata": {},
   "source": [
    "**Berechnung des Flächenträgheitsmoments**:\n",
    "\n",
    "$$I=\\frac{b\\,h^3}{12}$$"
   ]
  },
  {
   "cell_type": "code",
   "execution_count": null,
   "id": "61f859d6",
   "metadata": {},
   "outputs": [],
   "source": [
    "I = (b*h**3)/12\n",
    "print(I)"
   ]
  },
  {
   "cell_type": "markdown",
   "id": "f9b69961",
   "metadata": {},
   "source": [
    "**Berechnung der maximalen Durchbiegung**\n",
    "\n",
    "$$ u_{max}=\\frac{F\\,L^3}{3\\,E\\,I} $$"
   ]
  },
  {
   "cell_type": "code",
   "execution_count": null,
   "id": "5bf3350d",
   "metadata": {},
   "outputs": [],
   "source": [
    "# Lösung hier eintragen\n",
    "umax = "
   ]
  },
  {
   "cell_type": "markdown",
   "id": "528491b6",
   "metadata": {},
   "source": [
    "## Darstellung der Durchbiegung in Abhängigkeit der Länge\n",
    "\n",
    "**Aufgabe**: Stellen Sie die maximale Durchbiegung in Abhängigkeit der Länge für beide Beispiele dar"
   ]
  },
  {
   "cell_type": "markdown",
   "id": "319db77e",
   "metadata": {},
   "source": [
    "### Beispiel 1: zweiseitig gelagerter Balken mit Linienlast\n",
    "\n",
    "![](images/Balkenbiegung1.png)\n"
   ]
  },
  {
   "cell_type": "markdown",
   "id": "21f50808",
   "metadata": {},
   "source": [
    "Wir wollen also statt einem Wert wie vorher gleich mehrere Werte berechnen. Dafür holen wir zunächst wieder die Parameter für das Beispiel:\n",
    "\n",
    "<div class=\"alert alert-block alert-success\">\n",
    "    <b>Info:</b> Wir speichern die Durchbiegung diesmal als Parameter umax<b>1</b> ab, damit wir den Parameter für unser zweites Beispiel nicht überschreiben (da benutzen wir dann umax<b>2</b>)\n",
    "</div>"
   ]
  },
  {
   "cell_type": "code",
   "execution_count": null,
   "id": "d2e2c079",
   "metadata": {},
   "outputs": [],
   "source": [
    "# Variablen\n",
    "# Beispiel1: zweiseitig gelagerter Balken mit Linienlast\n",
    "L = 1000.0 # mm\n",
    "b = 30.0 # mm\n",
    "h1 = 30.0 # mm\n",
    "q0 = 1000.0 # N\n",
    "E = 200000.0 # MPa -> N/mm^2\n",
    "I = (b*h1**3)/12\n",
    "umax1 = (5*q0*L**3)/(384*E*I)\n",
    "print(umax1)"
   ]
  },
  {
   "cell_type": "markdown",
   "id": "cccc31bc",
   "metadata": {},
   "source": [
    "Nun erstellen wir für die Länge ein Array aus Werten mit Hilfe der numpy Bibliothek und dem Befehl `np.array` (Liste aus Werten)"
   ]
  },
  {
   "cell_type": "code",
   "execution_count": null,
   "id": "a2068700",
   "metadata": {},
   "outputs": [],
   "source": [
    "import numpy as np\n",
    "L = np.array([0,250,500,750,1000]) # mm\n",
    "print(L)"
   ]
  },
  {
   "cell_type": "markdown",
   "id": "95e20a35",
   "metadata": {},
   "source": [
    "Führen wir nun die Berechnung von oben erneut aus, wird durch die Verwendung einer Liste für den Parameter `L`, unser Ergebnis (also `umax1`) auch als Liste ausgegeben"
   ]
  },
  {
   "cell_type": "code",
   "execution_count": null,
   "id": "04859fc4",
   "metadata": {},
   "outputs": [],
   "source": [
    "umax1 = (5*q0*L**3)/(384*E*I)\n",
    "print(umax1)"
   ]
  },
  {
   "cell_type": "markdown",
   "id": "8b895405",
   "metadata": {},
   "source": [
    "Zum plotten benutzen wir nun `matplotlib` und plotten mit `plt.plot()` und beschriften die Label mit `plt.xlabel()` und `plt.ylabel()`"
   ]
  },
  {
   "cell_type": "code",
   "execution_count": null,
   "id": "aa6bcc71",
   "metadata": {},
   "outputs": [],
   "source": [
    "import matplotlib.pyplot as plt\n",
    "plt.plot(L,umax1);\n",
    "plt.xlabel(\"Länge [mm]\");\n",
    "plt.ylabel(\"maximale Verschiebung [mm]\");"
   ]
  },
  {
   "cell_type": "markdown",
   "id": "94285dcb",
   "metadata": {},
   "source": [
    "Um die Werte zusätzlich als Punkte einzublenden kann:\n",
    "\n",
    "`plt.plot(marker=\"s\",ms=10)`\n",
    "- marker: \"s\" = square\n",
    "- ms = markersize (Größe der Punkte)\n",
    "\n",
    "[Übersicht über alle Stile (matplotlib Cheat Sheet)](https://github.com/matplotlib/cheatsheets/blob/master/cheatsheets.pdf)\n"
   ]
  },
  {
   "cell_type": "code",
   "execution_count": null,
   "id": "069ef53a",
   "metadata": {},
   "outputs": [],
   "source": [
    "plt.plot(L,umax1, marker=\"s\",ms=10);\n",
    "plt.xlabel(\"Länge [mm]\");\n",
    "plt.ylabel(\"maximale Verschiebung [mm]\");"
   ]
  },
  {
   "cell_type": "markdown",
   "id": "c7286184",
   "metadata": {},
   "source": [
    "Um den Verlauf zu glätten sind mehr Punkte einzugeben, dafür ist `np.linspace()` sehr praktisch (in unserem Fall erstellen wir 20 Werte zwischen 0 und 1000)"
   ]
  },
  {
   "cell_type": "code",
   "execution_count": null,
   "id": "99161f8e",
   "metadata": {},
   "outputs": [],
   "source": [
    "L = np.linspace(0,1000,20) # mm\n",
    "print(L)"
   ]
  },
  {
   "cell_type": "markdown",
   "id": "a3e5a7e0",
   "metadata": {},
   "source": [
    "Nun müssen wir `umax1` erneut berechnen, da sich die Liste `L` ja geändert hat. Danach plotten wir erneut:\n",
    "\n",
    "<div class=\"alert alert-block alert-success\">\n",
    "    <b>Info:</b> Durch die Erhöhung der Anzahl der Datenpunkte es ist sinnvoll die <b>marker</b> (Befehl marker=\"s\") wieder zu entfernen, da man sonst die Linie nicht mehr erkennt\n",
    "</div>"
   ]
  },
  {
   "cell_type": "code",
   "execution_count": null,
   "id": "51f5a034",
   "metadata": {},
   "outputs": [],
   "source": [
    "L = np.linspace(0,1000,20) # mm\n",
    "umax1 = (5*q0*L**3)/(384*E*I)\n",
    "\n",
    "plt.plot(L,umax1);\n",
    "plt.xlabel(\"Länge [mm]\");\n",
    "plt.ylabel(\"maximale Verschiebung [mm]\");"
   ]
  },
  {
   "cell_type": "markdown",
   "id": "1c3e16a2",
   "metadata": {},
   "source": [
    "### Beispiel 2: einseitig eingespannter Balken mit Einzelkraft\n",
    "\n",
    "![](images/Balkenbiegung2.png)\n"
   ]
  },
  {
   "cell_type": "markdown",
   "id": "31584bea",
   "metadata": {},
   "source": [
    "Nun nehmen wir das zweite Beispiel und berechnen hier nun die Durchbiegung als `umax2` damit wir später beide Parameter verwenden können und diese nicht überschrieben werden. Diesmal verwenden wir gleich `np.linspace()` für `L` um eine Liste von Werten für `umax2` zu bekommen"
   ]
  },
  {
   "cell_type": "code",
   "execution_count": null,
   "id": "919d4c95",
   "metadata": {},
   "outputs": [],
   "source": [
    "# Variablen\n",
    "# Beispiel2: einseitig eingespannter Balken mit Einzelkraft\n",
    "L = np.linspace(0,1000,20) # mm\n",
    "b = 30.0 # mm\n",
    "h = 60.0 # mm\n",
    "F = 1000.0 # N\n",
    "E = 70000.0 # MPa -> N/mm^2\n",
    "I = (b*h**3)/12\n",
    "umax2=(F*L**3)/(3*E*I)\n",
    "print(umax2)"
   ]
  },
  {
   "cell_type": "markdown",
   "id": "8c554f6e",
   "metadata": {},
   "source": [
    "Nun stellen wir dies erneut dar:"
   ]
  },
  {
   "cell_type": "code",
   "execution_count": null,
   "id": "82f0d41e",
   "metadata": {},
   "outputs": [],
   "source": [
    "plt.plot(L,umax2);\n",
    "plt.xlabel(\"Länge [mm]\");\n",
    "plt.ylabel(\"maximale Verschiebung [mm]\");"
   ]
  },
  {
   "cell_type": "markdown",
   "id": "019a4eca",
   "metadata": {},
   "source": [
    "### Beide Beispiele zusammen\n",
    "\n",
    "Um beide zusammen darzustellen verwenden wir den Befehl `plt.plot()` einfach zweimal und benutzen den Parameter `label=` zur Bezeichnung und führen mit `plt.legend()` eine Legende ein\n",
    "\n",
    "1. Bezeichnung über `label`=\n",
    "2. Legende anzeigen mit `plt.legend()`"
   ]
  },
  {
   "cell_type": "code",
   "execution_count": null,
   "id": "320150e8",
   "metadata": {},
   "outputs": [],
   "source": [
    "plt.plot(L,umax1,label=\"Beispiel 1\");\n",
    "plt.plot(L,umax2,label=\"Beispiel 2\");\n",
    "plt.legend();\n",
    "plt.xlabel(\"Länge [mm]\");\n",
    "plt.ylabel(\"maximale Verschiebung [mm]\");"
   ]
  }
 ],
 "metadata": {
  "kernelspec": {
   "display_name": "base",
   "language": "python",
   "name": "python3"
  },
  "language_info": {
   "codemirror_mode": {
    "name": "ipython",
    "version": 3
   },
   "file_extension": ".py",
   "mimetype": "text/x-python",
   "name": "python",
   "nbconvert_exporter": "python",
   "pygments_lexer": "ipython3",
   "version": "3.9.12 (main, Apr  5 2022, 01:53:17) \n[Clang 12.0.0 ]"
  },
  "vscode": {
   "interpreter": {
    "hash": "02dae6dbcd560d64b152f4cb0777ff7c8a95367b866449847752fa1cd9c68dfc"
   }
  }
 },
 "nbformat": 4,
 "nbformat_minor": 5
}
