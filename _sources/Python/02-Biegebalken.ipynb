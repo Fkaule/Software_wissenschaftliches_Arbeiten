{
 "cells": [
  {
   "cell_type": "markdown",
   "id": "1ce3b759",
   "metadata": {},
   "source": [
    "Darunter liegende Zeile ausführen (für Kontrolle der Lösung + Hinweise + Lösung )"
   ]
  },
  {
   "cell_type": "code",
   "execution_count": null,
   "id": "1744eadf",
   "metadata": {},
   "outputs": [],
   "source": [
    "import os\n",
    "import sys\n",
    "sys.path.insert(0, os.path.abspath('../'))\n",
    "from learntools.core import binder;binder.bind(globals())\n",
    "from learntools import *\n",
    "from learntools_HTWK.python.ex1 import *"
   ]
  },
  {
   "cell_type": "markdown",
   "id": "cd67182c",
   "metadata": {},
   "source": [
    "# Berechnungen und erste grafische Darstellung am Beispiel von Biegebalken"
   ]
  },
  {
   "cell_type": "markdown",
   "id": "c110324b",
   "metadata": {},
   "source": [
    "## Beispiel 1: zweiseitig gelagerter Balken mit Linienlast\n",
    "\n",
    "**Aufgabe**: Berechnen Sie die maximale Durchbiegung"
   ]
  },
  {
   "cell_type": "markdown",
   "id": "17712137",
   "metadata": {},
   "source": [
    "![](images/Balkenbiegung1.png)\n",
    "\n",
    "- Länge: $L = 1000\\,\\mathrm{mm}$\n",
    "- Breite: $b = 30\\,\\mathrm{mm}$\n",
    "- Höhe: $h = 30\\,\\mathrm{mm}$\n",
    "- Linienlast: $q_0=1000\\,\\mathrm{N}$\n",
    "- E-Modul: $E=200000\\,\\mathrm{MPa}$"
   ]
  },
  {
   "cell_type": "code",
   "execution_count": null,
   "id": "49264a4c",
   "metadata": {},
   "outputs": [],
   "source": [
    "# Variablen\n",
    "# Beispiel1: zweiseitig gelagerter Balken mit Linienlast\n",
    "L = 1000.0 # mm\n",
    "b = 30.0 # mm\n",
    "h = 30.0 # mm\n",
    "q = 1000.0 # N\n",
    "E = 200000.0 # MPa -> N/mm^2"
   ]
  },
  {
   "cell_type": "markdown",
   "id": "cc8c5eb8",
   "metadata": {},
   "source": [
    "**Berechnung des Flächenträgheitsmoments**:\n",
    "\n",
    "$$I=\\frac{b\\,h^3}{12}$$"
   ]
  },
  {
   "cell_type": "code",
   "execution_count": null,
   "id": "0a9171af",
   "metadata": {},
   "outputs": [],
   "source": [
    "# Lösung hier eintragen\n",
    "I = \n",
    "print(I)\n",
    "# Überprüfung der Lösung\n",
    "q1.check()"
   ]
  },
  {
   "cell_type": "code",
   "execution_count": null,
   "id": "563883ed",
   "metadata": {},
   "outputs": [],
   "source": [
    "# Kommentar entfernen und ausführen um Hinweis oder Lösung zu bekommen\n",
    "#q1.hint()\n",
    "#q1.solution()"
   ]
  },
  {
   "cell_type": "markdown",
   "id": "b645b5ce",
   "metadata": {},
   "source": [
    "**Berechnung der maximalen Durchbiegung**\n",
    "\n",
    "$$ u_{max}=\\frac{5\\,q\\,L^3}{384\\,E\\,I} $$"
   ]
  },
  {
   "cell_type": "code",
   "execution_count": null,
   "id": "83637ee9",
   "metadata": {},
   "outputs": [],
   "source": [
    "# Lösung hier eintragen\n",
    "umax = \n",
    "print(umax)\n",
    "# Überprüfung der Lösung\n",
    "q2.check()"
   ]
  },
  {
   "cell_type": "code",
   "execution_count": null,
   "id": "89867f73",
   "metadata": {},
   "outputs": [],
   "source": [
    "# Kommentar entfernen und ausführen um Hinweis oder Lösung zu bekommen\n",
    "#q2.hint()\n",
    "#q2.solution()"
   ]
  },
  {
   "cell_type": "markdown",
   "id": "4ab4d240",
   "metadata": {},
   "source": [
    "## Beispiel 2: einseitig eingespannter Balken mit Einzelkraft"
   ]
  },
  {
   "cell_type": "markdown",
   "id": "03db0b62",
   "metadata": {},
   "source": [
    "**Aufgabe**: Berechnen Sie die maximale Durchbiegung\n",
    "\n",
    "![](images/Balkenbiegung2.png)\n",
    "\n",
    "\n",
    "- Länge: $L = 1000\\,\\mathrm{mm}$\n",
    "- Breite: $b = 30\\,\\mathrm{mm}$\n",
    "- Höhe: $h = 60\\,\\mathrm{mm}$  *Wert anders als im ersten Beispiel*\n",
    "- Kraft: $F=1000\\,\\mathrm{N}$ *neuer Parameter*\n",
    "- E-Modul: $E=200000\\,\\mathrm{MPa}$ *Wert anders als im ersten Beispiel*"
   ]
  },
  {
   "cell_type": "code",
   "execution_count": null,
   "id": "16e2c908",
   "metadata": {},
   "outputs": [],
   "source": [
    "# Variablen\n",
    "# Beispiel2: einseitig eingespannter Balken mit Einzelkraft\n",
    "L = 1000.0 # mm\n",
    "b = 30.0 # mm\n",
    "h = 60.0 # mm\n",
    "F = 1000.0 # N\n",
    "E = 70000.0 # MPa -> N/mm^2"
   ]
  },
  {
   "cell_type": "markdown",
   "id": "db46f53b",
   "metadata": {},
   "source": [
    "**Berechnung des Flächenträgheitsmoments**:\n",
    "\n",
    "$$I=\\frac{b\\,h^3}{12}$$"
   ]
  },
  {
   "cell_type": "code",
   "execution_count": null,
   "id": "8d18677f",
   "metadata": {},
   "outputs": [],
   "source": [
    "I = (b*h**3)/12\n",
    "print(I)"
   ]
  },
  {
   "cell_type": "markdown",
   "id": "09b58cdb",
   "metadata": {},
   "source": [
    "**Berechnung der maximalen Durchbiegung**\n",
    "\n",
    "$$ u_{max}=\\frac{F\\,L^3}{3\\,E\\,I} $$"
   ]
  },
  {
   "cell_type": "code",
   "execution_count": null,
   "id": "cc7b4f8e",
   "metadata": {},
   "outputs": [],
   "source": [
    "# Lösung hier eintragen\n",
    "umax = \n",
    "# Überprüfung der Lösung\n",
    "q3.check()"
   ]
  },
  {
   "cell_type": "code",
   "execution_count": null,
   "id": "2ec1ef21",
   "metadata": {},
   "outputs": [],
   "source": [
    "# Kommentar entfernen und ausführen um Hinweis oder Lösung zu bekommen\n",
    "#q3.hint()\n",
    "#q3.solution()"
   ]
  },
  {
   "cell_type": "markdown",
   "id": "50f273df",
   "metadata": {},
   "source": [
    "## Darstellung der Durchbiegung in Abhängigkeit der Länge\n",
    "\n",
    "**Aufgabe**: Stellen Sie die maximale Durchbiegung in Abhängigkeit der Länge für beide Beispiele dar"
   ]
  },
  {
   "cell_type": "markdown",
   "id": "9f281560",
   "metadata": {},
   "source": [
    "### Beispiel 1: zweiseitig gelagerter Balken mit Linienlast\n",
    "\n",
    "![](images/Balkenbiegung1.png)\n"
   ]
  },
  {
   "cell_type": "markdown",
   "id": "31f94a52",
   "metadata": {},
   "source": [
    "Wir wollen also statt einem Wert wie vorher gleich mehrere Werte berechnen. Dafür holen wir zunächst wieder die Parameter für das Beispiel:\n",
    "\n",
    "<div class=\"alert alert-block alert-success\">\n",
    "    <b>Info:</b> Wir speichern die Durchbiegung diesmal als Parameter umax<b>1</b> ab, damit wir den Parameter für unser zweites Beispiel nicht überschreiben (da benutzen wir dann umax<b>2</b>)\n",
    "</div>"
   ]
  },
  {
   "cell_type": "code",
   "execution_count": null,
   "id": "62b37e3c",
   "metadata": {},
   "outputs": [],
   "source": [
    "# Variablen\n",
    "# Beispiel1: zweiseitig gelagerter Balken mit Linienlast\n",
    "L = 1000.0 # mm\n",
    "b = 30.0 # mm\n",
    "h1 = 30.0 # mm\n",
    "q0 = 1000.0 # N\n",
    "E = 200000.0 # MPa -> N/mm^2\n",
    "I = (b*h1**3)/12\n",
    "umax1 = (5*q0*L**3)/(384*E*I)\n",
    "print(umax1)"
   ]
  },
  {
   "cell_type": "markdown",
   "id": "ed8f1cc5",
   "metadata": {},
   "source": [
    "Nun erstellen wir für die Länge ein Array aus Werten mit Hilfe der numpy Bibliothek und dem Befehl `np.array` (Liste aus Werten)"
   ]
  },
  {
   "cell_type": "code",
   "execution_count": null,
   "id": "f6d99929",
   "metadata": {},
   "outputs": [],
   "source": [
    "import numpy as np\n",
    "L = np.array([0,250,500,750,1000]) # mm\n",
    "print(L)"
   ]
  },
  {
   "cell_type": "markdown",
   "id": "2926b1eb",
   "metadata": {},
   "source": [
    "Führen wir nun die Berechnung von oben erneut aus, wird durch die Verwendung einer Liste für den Parameter `L`, unser Ergebnis (also `umax1`) auch als Liste ausgegeben"
   ]
  },
  {
   "cell_type": "code",
   "execution_count": null,
   "id": "8c7d29d5",
   "metadata": {},
   "outputs": [],
   "source": [
    "umax1 = (5*q0*L**3)/(384*E*I)\n",
    "print(umax1)"
   ]
  },
  {
   "cell_type": "markdown",
   "id": "22fb303d",
   "metadata": {},
   "source": [
    "Zum plotten benutzen wir nun `matplotlib` und plotten mit `plt.plot()` und beschriften die Label mit `plt.xlabel()` und `plt.ylabel()`"
   ]
  },
  {
   "cell_type": "code",
   "execution_count": null,
   "id": "4b1b131a",
   "metadata": {},
   "outputs": [],
   "source": [
    "import matplotlib.pyplot as plt\n",
    "plt.plot(L,umax1);\n",
    "plt.xlabel(\"Länge [mm]\");\n",
    "plt.ylabel(\"maximale Verschiebung [mm]\");"
   ]
  },
  {
   "cell_type": "markdown",
   "id": "99fd0040",
   "metadata": {},
   "source": [
    "Um die Werte zusätzlich als Punkte einzublenden kann:\n",
    "\n",
    "`plt.plot(marker=\"s\",ms=10)`\n",
    "- marker: \"s\" = square\n",
    "- ms = markersize (Größe der Punkte)\n",
    "\n",
    "[Übersicht über alle Stile (matplotlib Cheat Sheet)](https://github.com/matplotlib/cheatsheets/blob/master/cheatsheets.pdf)\n"
   ]
  },
  {
   "cell_type": "code",
   "execution_count": null,
   "id": "50cf7084",
   "metadata": {},
   "outputs": [],
   "source": [
    "plt.plot(L,umax1, marker=\"s\",ms=10);\n",
    "plt.xlabel(\"Länge [mm]\");\n",
    "plt.ylabel(\"maximale Verschiebung [mm]\");"
   ]
  },
  {
   "cell_type": "markdown",
   "id": "eb7e139d",
   "metadata": {},
   "source": [
    "Um den Verlauf zu glätten sind mehr Punkte einzugeben, dafür ist `np.linspace()` sehr praktisch (in unserem Fall erstellen wir 20 Werte zwischen 0 und 1000)"
   ]
  },
  {
   "cell_type": "code",
   "execution_count": null,
   "id": "02e8c1bd",
   "metadata": {},
   "outputs": [],
   "source": [
    "L = np.linspace(0,1000,20) # mm\n",
    "print(L)"
   ]
  },
  {
   "cell_type": "markdown",
   "id": "eb8f17cd",
   "metadata": {},
   "source": [
    "Nun müssen wir `umax1` erneut berechnen, da sich die Liste `L` ja geändert hat. Danach plotten wir erneut:\n",
    "\n",
    "<div class=\"alert alert-block alert-success\">\n",
    "    <b>Info:</b> Durch die Erhöhung der Anzahl der Datenpunkte es ist sinnvoll die <b>marker</b> (Befehl marker=\"s\") wieder zu entfernen, da man sonst die Linie nicht mehr erkennt\n",
    "</div>"
   ]
  },
  {
   "cell_type": "code",
   "execution_count": null,
   "id": "7a73c2a0",
   "metadata": {},
   "outputs": [],
   "source": [
    "L = np.linspace(0,1000,20) # mm\n",
    "umax1 = (5*q0*L**3)/(384*E1*I1)\n",
    "\n",
    "plt.plot(L,umax1);\n",
    "plt.xlabel(\"Länge [mm]\");\n",
    "plt.ylabel(\"maximale Verschiebung [mm]\");"
   ]
  },
  {
   "cell_type": "markdown",
   "id": "d004351a",
   "metadata": {},
   "source": [
    "### Beispiel 2: einseitig eingespannter Balken mit Einzelkraft\n",
    "\n",
    "![](images/Balkenbiegung2.png)\n"
   ]
  },
  {
   "cell_type": "markdown",
   "id": "7d279b76",
   "metadata": {},
   "source": [
    "Nun nehmen wir das zweite Beispiel und berechnen hier nun die Durchbiegung als `umax2` damit wir später beide Parameter verwenden können und diese nicht überschrieben werden. Diesmal verwenden wir gleich `np.linspace()` für `L` um eine Liste von Werten für `umax2` zu bekommen"
   ]
  },
  {
   "cell_type": "code",
   "execution_count": null,
   "id": "8abdc9c7",
   "metadata": {},
   "outputs": [],
   "source": [
    "# Variablen\n",
    "# Beispiel2: einseitig eingespannter Balken mit Einzelkraft\n",
    "L = np.linspace(0,1000,20) # mm\n",
    "b = 30.0 # mm\n",
    "h = 60.0 # mm\n",
    "F = 1000.0 # N\n",
    "E = 70000.0 # MPa -> N/mm^2\n",
    "I = (b*h**3)/12\n",
    "umax2=(F*L**3)/(3*E*I)\n",
    "print(umax2)"
   ]
  },
  {
   "cell_type": "markdown",
   "id": "aaaff9d1",
   "metadata": {},
   "source": [
    "Nun stellen wir dies erneut dar:"
   ]
  },
  {
   "cell_type": "code",
   "execution_count": null,
   "id": "3ab273b2",
   "metadata": {},
   "outputs": [],
   "source": [
    "plt.plot(L,umax2);\n",
    "plt.xlabel(\"Länge [mm]\");\n",
    "plt.ylabel(\"maximale Verschiebung [mm]\");"
   ]
  },
  {
   "cell_type": "markdown",
   "id": "6a396409",
   "metadata": {},
   "source": [
    "### Beide Beispiele zusammen\n",
    "\n",
    "Um beide zusammen darzustellen verwenden wir den Befehl `plt.plot()` einfach zweimal und benutzen den Parameter `label=` zur Bezeichnung und führen mit `plt.legend()` eine Legende ein\n",
    "\n",
    "1. Bezeichnung über `label`=\n",
    "2. Legende anzeigen mit `plt.legend()`"
   ]
  },
  {
   "cell_type": "code",
   "execution_count": null,
   "id": "439fd4bb",
   "metadata": {},
   "outputs": [],
   "source": [
    "plt.plot(L,umax1,label=\"Beispiel 1\");\n",
    "plt.plot(L,umax2,label=\"Beispiel 2\");\n",
    "plt.legend();\n",
    "plt.xlabel(\"Länge [mm]\");\n",
    "plt.ylabel(\"maximale Verschiebung [mm]\");"
   ]
  },
  {
   "cell_type": "markdown",
   "id": "34767b52",
   "metadata": {},
   "source": [
    "### stylistische Anpassungen\n",
    "\n",
    "**Stil zurücksetzen**: <br>\n",
    "wichtig um den Stil nicht ungewollt auf die nächsten Plots zu übertragen <br>\n",
    "- `plt.style.use('default')`\n",
    "\n",
    "**Schrift**: <br>\n",
    "muss vor `plt.plot()` kommen <br>\n",
    "- Schriftgröße: `plt.rcParams.update({'font.size': 20})`\n",
    "- Schriftart: `plt.rcParams['font.family'] = 'STIXGeneral'` <br>STIXGeneral = LaTeX Schrift\n",
    "\n",
    "**Bildgröße**: <br>\n",
    "- für alle Texte `plt.figure(figsize=(8,5))`\n",
    "muss vor `plt.plot()` kommen <br>\n",
    "Größe in inces (Default: 6,4) <br>\n",
    "\n",
    "**Gitter**: <br>\n",
    "- `plt.grid()`\n",
    "\n",
    "**Titel**: <br>\n",
    "- `plt.title(\"Beispieltitel\")`\n",
    "\n",
    "**Linien**: <br>\n",
    "in `plt.plot()`<br>\n",
    "[Übersicht über alle Stile (matplotlib Cheat Sheet)](https://github.com/matplotlib/cheatsheets/blob/master/cheatsheets.pdf)\n",
    "- Linienfarbe: `plt.plot(color=\"red\")`\n",
    "- Liniendicke: `plt.plot(lw=2)` (lw = linewidth)\n",
    "- Linienstil: `plt.plot(ls=\"--\")` (ls = linestyle) <br>\n"
   ]
  },
  {
   "cell_type": "code",
   "execution_count": null,
   "id": "1c0f241d",
   "metadata": {},
   "outputs": [],
   "source": [
    "#stil zurücksetzen\n",
    "plt.style.use('default')\n",
    "\n",
    "plt.figure(figsize=(8,5)) # Größe des Plots (in inches)\n",
    "plt.rcParams['font.family'] = 'STIXGeneral' # Schriftart für den gesamten Plot\n",
    "plt.rcParams['font.size'] = 18; # Schriftgröße für den gesamten Plot\n",
    "plt.plot(L,umax1,label=\"Beispiel 1\",color=\"red\", lw=2, ls=\"-\"); # graph1 mit roter durchgezogener Linie\n",
    "plt.plot(L,umax2,label=\"Beispiel 2\",color=\"blue\", lw=2, ls=\"--\"); # graph2 mit blauer gestrichelter Linie \n",
    "plt.legend(); # Legende darstellen \n",
    "plt.grid(); # Raster darstellen\n",
    "plt.title(\"Vergleich beider Modelle\") # Titel hinzufuegen\n",
    "plt.xlabel(\"Länge [mm]\"); # x-Achse beschriften\n",
    "plt.ylabel(\"maximale Verschiebung [mm]\");  # y-Achse beschriften"
   ]
  },
  {
   "cell_type": "markdown",
   "id": "2b623916",
   "metadata": {},
   "source": [
    "wenn wir den Stil jetzt nicht zurücksetzen `plt.style.use('default')` wird dieser automatisch in dem nächsten plot verwendet.\n",
    "\n",
    "Nun stellen wir nur den vorderen Bereich der Länge von  `L=0` bis `L=200mm` dar: <br>\n",
    "\n",
    "`plt.xlim(0,200)`\n",
    "\n",
    "für y-Achse analog:\n",
    "\n",
    "`plt.ylim(0,0.1)`\n"
   ]
  },
  {
   "cell_type": "code",
   "execution_count": null,
   "id": "6e61d60a",
   "metadata": {},
   "outputs": [],
   "source": [
    "plt.xlim(0,200);\n",
    "plt.ylim(0,0.1);\n",
    "plt.plot(L,umax1,label=\"Beispiel 1\",color=\"red\", lw=2, ls=\"-\");\n",
    "plt.plot(L,umax2,label=\"Beispiel 2\",color=\"blue\", lw=2, ls=\"--\");\n",
    "plt.xlabel(\"Länge [mm]\");\n",
    "plt.ylabel(\"maximale Verschiebung [mm]\");\n",
    "plt.grid();\n",
    "plt.legend(fontsize=16);"
   ]
  },
  {
   "cell_type": "markdown",
   "id": "2ee53f01",
   "metadata": {},
   "source": [
    "### Datei speichern\n",
    "\n",
    "mit `plt.savefig('Dateiname.png', bbox_inches='tight', dpi=150)`\n",
    "\n",
    "- `bbox_inches='tight'` sorgt dafür das die Beschriftungen immer mit im Bild gespeichert werden (können sonst manchmal abgeschnitten sein)\n",
    "- `dpi` regelt die Größe des Pixelbildes (dots per inch)"
   ]
  },
  {
   "cell_type": "code",
   "execution_count": null,
   "id": "4f25fe2c",
   "metadata": {},
   "outputs": [],
   "source": [
    "plt.xlim(0,200);\n",
    "plt.ylim(0,0.1);\n",
    "plt.plot(L,umax1,label=\"Beispiel 1\",color=\"red\", lw=2, ls=\"-\");\n",
    "plt.plot(L,umax2,label=\"Beispiel 2\",color=\"blue\", lw=2, ls=\"--\");\n",
    "plt.xlabel(\"Länge [mm]\");\n",
    "plt.ylabel(\"maximale Verschiebung [mm]\");\n",
    "plt.grid();\n",
    "plt.legend(fontsize=16);\n",
    "plt.savefig('Uebung1_detail.png', bbox_inches='tight', dpi=150)"
   ]
  }
 ],
 "metadata": {
  "kernelspec": {
   "display_name": "Python 3",
   "language": "python",
   "name": "python3"
  },
  "language_info": {
   "codemirror_mode": {
    "name": "ipython",
    "version": 3
   },
   "file_extension": ".py",
   "mimetype": "text/x-python",
   "name": "python",
   "nbconvert_exporter": "python",
   "pygments_lexer": "ipython3",
   "version": "3.8.5"
  }
 },
 "nbformat": 4,
 "nbformat_minor": 5
}
