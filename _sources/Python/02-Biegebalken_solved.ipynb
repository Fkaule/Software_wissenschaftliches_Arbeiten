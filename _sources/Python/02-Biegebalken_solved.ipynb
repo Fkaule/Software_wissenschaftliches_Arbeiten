{
 "cells": [
  {
   "cell_type": "code",
   "execution_count": null,
   "id": "5163bb20",
   "metadata": {},
   "outputs": [],
   "source": [
    "import os\n",
    "import sys\n",
    "sys.path.insert(0, os.path.abspath('../'))\n",
    "from learntools_HTWK.core import binder;binder.bind(globals())\n",
    "from learntools_HTWK.python.ex1 import *"
   ]
  },
  {
   "cell_type": "markdown",
   "id": "1ae0a0e6",
   "metadata": {},
   "source": [
    "# Berechnungen und erste grafische Darstellung am Beispiel von Biegebalken"
   ]
  },
  {
   "cell_type": "markdown",
   "id": "546627ab",
   "metadata": {},
   "source": [
    "## Beispiel 1: zweiseitig gelagerter Balken mit Linienlast\n",
    "\n",
    "**Aufgabe**: Berechnen Sie die maximale Durchbiegung"
   ]
  },
  {
   "cell_type": "markdown",
   "id": "4947594d",
   "metadata": {},
   "source": [
    "![](images/Balkenbiegung1.png)\n",
    "\n",
    "- Länge: $L = 1000\\,\\mathrm{mm}$\n",
    "- Breite: $b = 30\\,\\mathrm{mm}$\n",
    "- Höhe: $h = 30\\,\\mathrm{mm}$\n",
    "- Linienlast: $q_0=1000\\,\\mathrm{N}$\n",
    "- E-Modul: $E=200000\\,\\mathrm{MPa}$"
   ]
  },
  {
   "cell_type": "code",
   "execution_count": null,
   "id": "2d5afcac",
   "metadata": {},
   "outputs": [],
   "source": [
    "# Variablen\n",
    "# Beispiel1: zweiseitig gelagerter Balken mit Linienlast\n",
    "L = 1000.0 # mm\n",
    "b = 30.0 # mm\n",
    "h = 30.0 # mm\n",
    "q = 1000.0 # N\n",
    "E = 200000.0 # MPa -> N/mm^2"
   ]
  },
  {
   "cell_type": "markdown",
   "id": "50f17d4f",
   "metadata": {},
   "source": [
    "**Berechnung des Flächenträgheitsmoments**:\n",
    "\n",
    "$$I=\\frac{b\\,h^3}{12}$$"
   ]
  },
  {
   "cell_type": "code",
   "execution_count": null,
   "id": "9383d87b",
   "metadata": {},
   "outputs": [],
   "source": [
    "I = \n",
    "q0.check()"
   ]
  },
  {
   "cell_type": "code",
   "execution_count": null,
   "id": "4731c026",
   "metadata": {},
   "outputs": [],
   "source": [
    "# Kommentar entfernen und ausführen um Hinweis oder Lösung zu bekommen\n",
    "#q0.hint()\n",
    "#q0.solution()"
   ]
  },
  {
   "cell_type": "markdown",
   "id": "258867d0",
   "metadata": {},
   "source": [
    "**Berechnung der maximalen Durchbiegung**\n",
    "\n",
    "$$ u_{max}=\\frac{5\\,q\\,L^4}{384\\,E\\,I} $$"
   ]
  },
  {
   "cell_type": "code",
   "execution_count": null,
   "id": "a2bb218a",
   "metadata": {},
   "outputs": [],
   "source": [
    "umax = \n",
    "q1.check()"
   ]
  },
  {
   "cell_type": "code",
   "execution_count": null,
   "id": "0ded3d98",
   "metadata": {},
   "outputs": [],
   "source": [
    "# Kommentar entfernen und ausführen um Hinweis oder Lösung zu bekommen\n",
    "#q1.hint()\n",
    "#q1.solution()"
   ]
  },
  {
   "cell_type": "markdown",
   "id": "8cf79642",
   "metadata": {},
   "source": [
    "## Beispiel 2: einseitig eingespannter Balken mit Einzelkraft"
   ]
  },
  {
   "cell_type": "markdown",
   "id": "7cbe71c1",
   "metadata": {},
   "source": [
    "**Aufgabe**: Berechnen Sie die maximale Durchbiegung\n",
    "\n",
    "![](images/Balkenbiegung2.png)\n",
    "\n",
    "\n",
    "- Länge: $L = 1000\\,\\mathrm{mm}$\n",
    "- Breite: $b = 30\\,\\mathrm{mm}$\n",
    "- Höhe: $h = 60\\,\\mathrm{mm}$  *Wert anders als im ersten Beispiel*\n",
    "- Kraft: $F=1000\\,\\mathrm{N}$ *neuer Parameter*\n",
    "- E-Modul: $E=200000\\,\\mathrm{MPa}$ *Wert anders als im ersten Beispiel*"
   ]
  },
  {
   "cell_type": "code",
   "execution_count": null,
   "id": "da8f27fb",
   "metadata": {},
   "outputs": [],
   "source": [
    "# Variablen\n",
    "# Beispiel2: einseitig eingespannter Balken mit Einzelkraft\n",
    "L = 1000.0 # mm\n",
    "b = 30.0 # mm\n",
    "h = 60.0 # mm\n",
    "F = 1000.0 # N\n",
    "E = 70000.0 # MPa -> N/mm^2"
   ]
  },
  {
   "cell_type": "markdown",
   "id": "5afd226b",
   "metadata": {},
   "source": [
    "**Berechnung des Flächenträgheitsmoments**:\n",
    "\n",
    "$$I=\\frac{b\\,h^3}{12}$$"
   ]
  },
  {
   "cell_type": "code",
   "execution_count": null,
   "id": "3f21c81d",
   "metadata": {},
   "outputs": [],
   "source": [
    "I = (b*h**3)/12\n",
    "print(I)"
   ]
  },
  {
   "cell_type": "markdown",
   "id": "3722bb06",
   "metadata": {},
   "source": [
    "**Berechnung der maximalen Durchbiegung**\n",
    "\n",
    "$$ u_{max}=\\frac{F\\,L^3}{3\\,E\\,I} $$"
   ]
  },
  {
   "cell_type": "code",
   "execution_count": null,
   "id": "91a9ccb1",
   "metadata": {},
   "outputs": [],
   "source": [
    "umax=(F*L**3)/(3*E*I)\n",
    "q2.check()"
   ]
  },
  {
   "cell_type": "code",
   "execution_count": null,
   "id": "b6115357",
   "metadata": {},
   "outputs": [],
   "source": [
    "# Kommentar entfernen und ausführen um Hinweis oder Lösung zu bekommen\n",
    "#q2.hint()\n",
    "#q2.solution()"
   ]
  },
  {
   "cell_type": "markdown",
   "id": "3102f3c6",
   "metadata": {},
   "source": [
    "## Darstellung der Durchbiegung in Abhängigkeit der Länge\n",
    "\n",
    "**Aufgabe**: Stellen Sie die maximale Durchbiegung in Abhängigkeit der Länge für beide Beispiele dar"
   ]
  },
  {
   "cell_type": "markdown",
   "id": "3fa0a6d0",
   "metadata": {},
   "source": [
    "### Beispiel 1: zweiseitig gelagerter Balken mit Linienlast"
   ]
  },
  {
   "cell_type": "code",
   "execution_count": null,
   "id": "cb5dbe1f",
   "metadata": {},
   "outputs": [],
   "source": [
    "# Variablen\n",
    "# Beispiel1: zweiseitig gelagerter Balken mit Linienlast\n",
    "L = 1000.0 # mm\n",
    "b = 30.0 # mm\n",
    "h1 = 30.0 # mm\n",
    "q0 = 1000.0 # N\n",
    "E1 = 200000.0 # MPa -> N/mm^2\n",
    "I1 = (b*h1**3)/12\n",
    "umax1 = (5*q0*L**3)/(384*E1*I1)\n",
    "print(umax1)"
   ]
  },
  {
   "cell_type": "markdown",
   "id": "3c79177e",
   "metadata": {},
   "source": [
    "Definition der Länge `L` als `np.array` (Liste aus Werten)"
   ]
  },
  {
   "cell_type": "code",
   "execution_count": null,
   "id": "8a006d3c",
   "metadata": {},
   "outputs": [],
   "source": [
    "import numpy as np\n",
    "L = np.array([0,250,500,750,1000]) # mm\n",
    "print(L)"
   ]
  },
  {
   "cell_type": "markdown",
   "id": "7da5c458",
   "metadata": {},
   "source": [
    "Das Ergebnis ist dann automatisch ebenfalls eine Liste"
   ]
  },
  {
   "cell_type": "code",
   "execution_count": null,
   "id": "7029141a",
   "metadata": {},
   "outputs": [],
   "source": [
    "umax1 = (5*q0*L**3)/(384*E1*I1)\n",
    "print(umax1)"
   ]
  },
  {
   "cell_type": "markdown",
   "id": "26d9675c",
   "metadata": {},
   "source": [
    "Zum plotten benutzen wir nun `matplotlib` und plotten mit `plt.plot()` und beschriften die Label mit `plt.xlabel()` und `plt.ylabel()`"
   ]
  },
  {
   "cell_type": "code",
   "execution_count": null,
   "id": "84bed9f8",
   "metadata": {},
   "outputs": [],
   "source": [
    "import matplotlib.pyplot as plt\n",
    "plt.plot(L,umax1);\n",
    "plt.xlabel(\"Länge [mm]\");\n",
    "plt.ylabel(\"maximale Verschiebung [mm]\");"
   ]
  },
  {
   "cell_type": "markdown",
   "id": "a1b45fe6",
   "metadata": {},
   "source": [
    "Um die Werte zusätzlich als Punkte einzublenden kann:\n",
    "\n",
    "`plt.plot(marker=\"s\",ms=10)`\n",
    "- marker: \"s\" = square\n",
    "- ms = markersize (Größe der Punkte)\n",
    "\n",
    "[Übersicht über alle Stile (matplotlib Cheat Sheet)](https://github.com/matplotlib/cheatsheets/blob/master/cheatsheets.pdf)\n"
   ]
  },
  {
   "cell_type": "code",
   "execution_count": null,
   "id": "474425cb",
   "metadata": {},
   "outputs": [],
   "source": [
    "plt.plot(L,umax1, marker=\"s\",ms=10);\n",
    "plt.xlabel(\"Länge [mm]\");\n",
    "plt.ylabel(\"maximale Verschiebung [mm]\");"
   ]
  },
  {
   "cell_type": "markdown",
   "id": "ec74083e",
   "metadata": {},
   "source": [
    "Um den Verlauf zu glätten sind mehr Punkte einzugeben, dafür ist `np.linspace()` sehr praktisch (wieder ohne die Punkte)"
   ]
  },
  {
   "cell_type": "code",
   "execution_count": null,
   "id": "81bbfaf0",
   "metadata": {},
   "outputs": [],
   "source": [
    "L = np.linspace(0,1000,20) # mm\n",
    "print(L)"
   ]
  },
  {
   "cell_type": "code",
   "execution_count": null,
   "id": "65df8c4e",
   "metadata": {},
   "outputs": [],
   "source": [
    "L = np.linspace(0,1000,100) # mm\n",
    "umax1 = (5*q0*L**3)/(384*E1*I1)\n",
    "\n",
    "plt.plot(L,umax1);\n",
    "plt.xlabel(\"Länge [mm]\");\n",
    "plt.ylabel(\"maximale Verschiebung [mm]\");"
   ]
  },
  {
   "cell_type": "markdown",
   "id": "4350ed02",
   "metadata": {},
   "source": [
    "### Beispiel 2: einseitig eingespannter Balken mit Einzelkraft"
   ]
  },
  {
   "cell_type": "code",
   "execution_count": null,
   "id": "ba85ba8a",
   "metadata": {},
   "outputs": [],
   "source": [
    "# Variablen\n",
    "# Beispiel2: einseitig eingespannter Balken mit Einzelkraft\n",
    "L = np.linspace(0,1000,100) # mm\n",
    "b = 30.0 # mm\n",
    "h2 = 60.0 # mm\n",
    "F = 1000.0 # N\n",
    "E2 = 70000.0 # MPa -> N/mm^2\n",
    "I2 = (b*h2**3)/12\n",
    "umax2=(F*L**3)/(3*E2*I2)"
   ]
  },
  {
   "cell_type": "code",
   "execution_count": null,
   "id": "2c22cc28",
   "metadata": {},
   "outputs": [],
   "source": [
    "plt.plot(L,umax2);\n",
    "plt.xlabel(\"Länge [mm]\");\n",
    "plt.ylabel(\"maximale Verschiebung [mm]\");"
   ]
  },
  {
   "cell_type": "markdown",
   "id": "8319b0e7",
   "metadata": {},
   "source": [
    "### Beide Beispiele zusammen\n",
    "\n",
    "1. Bezeichnung über `label`=\n",
    "2. Legende anzeigen mit `plt.legend()`"
   ]
  },
  {
   "cell_type": "code",
   "execution_count": null,
   "id": "204c8083",
   "metadata": {},
   "outputs": [],
   "source": [
    "plt.plot(L,umax1,label=\"Beispiel 1\");\n",
    "plt.plot(L,umax2,label=\"Beispiel 2\");\n",
    "plt.legend();\n",
    "plt.xlabel(\"Länge [mm]\");\n",
    "plt.ylabel(\"maximale Verschiebung [mm]\");"
   ]
  },
  {
   "cell_type": "markdown",
   "id": "bf47d99e",
   "metadata": {},
   "source": [
    "### stylistische Anpassungen\n",
    "\n",
    "**Stil zurücksetzen**: <br>\n",
    "wichtig um den Stil nicht ungewollt auf die nächsten Plots zu übertragen <br>\n",
    "- `plt.style.use('default')`\n",
    "\n",
    "**Schrift**: <br>\n",
    "muss vor `plt.plot()` kommen <br>\n",
    "- Schriftgröße: `plt.rcParams.update({'font.size': 20})`\n",
    "- Schriftart: `plt.rcParams['font.family'] = 'STIXGeneral'` <br>STIXGeneral = LaTeX Schrift\n",
    "\n",
    "**Bildgröße**: <br>\n",
    "- für alle Texte `plt.figure(figsize=(8,5))`\n",
    "muss vor `plt.plot()` kommen <br>\n",
    "Größe in inces (Default: 6,4) <br>\n",
    "- individuell z.B. in Title, Legende, Achsenbeschriftung `fontsize=18`\n",
    "\n",
    "**Gitter**: <br>\n",
    "- `plt.grid()`\n",
    "\n",
    "**Titel**: <br>\n",
    "- `plt.title(\"Beispieltitel\")`\n",
    "\n",
    "**Linien**: <br>\n",
    "in `plt.plot()`<br>\n",
    "[Übersicht über alle Stile (matplotlib Cheat Sheet)](https://github.com/matplotlib/cheatsheets/blob/master/cheatsheets.pdf)\n",
    "- Linienfarbe: `plt.plot(color=\"red\")`\n",
    "- Liniendicke: `plt.plot(lw=2)` (lw = linewidth)\n",
    "- Linienstil: `plt.plot(ls=\"--\")` (ls = linestyle) <br>\n"
   ]
  },
  {
   "cell_type": "code",
   "execution_count": null,
   "id": "d128deed",
   "metadata": {},
   "outputs": [],
   "source": [
    "#stil zurücksetzen\n",
    "plt.style.use('default')\n",
    "\n",
    "plt.figure(figsize=(8,5))\n",
    "plt.rcParams['font.family'] = 'STIXGeneral'\n",
    "plt.rcParams['font.size'] = 18;\n",
    "plt.plot(L,umax1,label=\"Beispiel 1\",color=\"red\", lw=2, ls=\"-\");\n",
    "plt.plot(L,umax2,label=\"Beispiel 2\",color=\"blue\", lw=2, ls=\"--\");\n",
    "plt.legend(fontsize=16);\n",
    "plt.grid();\n",
    "plt.title(\"Vergleich beider Modelle\", fontsize=16)\n",
    "plt.xlabel(\"Länge [mm]\");\n",
    "plt.ylabel(\"maximale Verschiebung [mm]\");"
   ]
  },
  {
   "cell_type": "markdown",
   "id": "24ead854",
   "metadata": {},
   "source": [
    "wenn wir den Stil jetzt nicht zurücksetzen `plt.style.use('default')` wird dieser automatisch in dem nächsten plot verwendet.\n",
    "\n",
    "Nun stellen wir nur den vorderen Bereich der Länge von  `L=0` bis `L=200mm` dar: <br>\n",
    "\n",
    "`plt.xlim(0,200)`\n",
    "\n",
    "für y-Achse analog:\n",
    "\n",
    "`plt.ylim(0,0.1)`\n"
   ]
  },
  {
   "cell_type": "code",
   "execution_count": null,
   "id": "eb68dcdb",
   "metadata": {},
   "outputs": [],
   "source": [
    "plt.xlim(0,200);\n",
    "plt.ylim(0,0.1);\n",
    "plt.plot(L,umax1,label=\"Beispiel 1\",color=\"red\", lw=2, ls=\"-\");\n",
    "plt.plot(L,umax2,label=\"Beispiel 2\",color=\"blue\", lw=2, ls=\"--\");\n",
    "plt.xlabel(\"Länge [mm]\");\n",
    "plt.ylabel(\"maximale Verschiebung [mm]\");\n",
    "plt.grid();\n",
    "plt.legend(fontsize=16);"
   ]
  },
  {
   "cell_type": "markdown",
   "id": "44756c85",
   "metadata": {},
   "source": [
    "### Datei speichern\n",
    "\n",
    "mit `plt.savefig('Dateiname.png', bbox_inches='tight', dpi=150)`\n",
    "\n",
    "- `bbox_inches='tight'` sorgt dafür das die Beschriftungen immer mit im Bild gespeichert werden (können sonst manchmal abgeschnitten sein)\n",
    "- `dpi` regelt die Größe des Pixelbildes (dots per inch)"
   ]
  },
  {
   "cell_type": "code",
   "execution_count": null,
   "id": "117b83c1",
   "metadata": {},
   "outputs": [],
   "source": [
    "plt.xlim(0,200);\n",
    "plt.ylim(0,0.1);\n",
    "plt.plot(L,umax1,label=\"Beispiel 1\",color=\"red\", lw=2, ls=\"-\");\n",
    "plt.plot(L,umax2,label=\"Beispiel 2\",color=\"blue\", lw=2, ls=\"--\");\n",
    "plt.xlabel(\"Länge [mm]\");\n",
    "plt.ylabel(\"maximale Verschiebung [mm]\");\n",
    "plt.grid();\n",
    "plt.legend(fontsize=16);\n",
    "plt.savefig('Uebung1_detail.png', bbox_inches='tight', dpi=150)"
   ]
  }
 ],
 "metadata": {
  "kernelspec": {
   "display_name": "Python 3",
   "language": "python",
   "name": "python3"
  },
  "language_info": {
   "codemirror_mode": {
    "name": "ipython",
    "version": 3
   },
   "file_extension": ".py",
   "mimetype": "text/x-python",
   "name": "python",
   "nbconvert_exporter": "python",
   "pygments_lexer": "ipython3",
   "version": "3.8.5"
  }
 },
 "nbformat": 4,
 "nbformat_minor": 5
}
