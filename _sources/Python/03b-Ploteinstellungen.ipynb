{
 "cells": [
  {
   "cell_type": "markdown",
   "id": "b19ef2de",
   "metadata": {},
   "source": [
    "# Allgemeine Ploteinstellungen"
   ]
  },
  {
   "cell_type": "markdown",
   "id": "219924dd",
   "metadata": {},
   "source": [
    "## Bibliothek einladen und Beispieldaten"
   ]
  },
  {
   "cell_type": "markdown",
   "id": "76f32609",
   "metadata": {},
   "source": [
    "Bibliotheken die man verwenden möchte muss man immer wieder einladen. In unserem Fall ist dies erstmal `numpy` (für Daten) und `matplotlib` (zum plotten) "
   ]
  },
  {
   "cell_type": "code",
   "execution_count": null,
   "id": "25a19ec3",
   "metadata": {},
   "outputs": [],
   "source": [
    "import numpy as np\n",
    "import matplotlib.pyplot as plt"
   ]
  },
  {
   "cell_type": "markdown",
   "id": "d9747d81",
   "metadata": {},
   "source": [
    "Als Beispieldaten verwenden wir erneut die Daten aus unserer Kraftmessung"
   ]
  },
  {
   "cell_type": "code",
   "execution_count": null,
   "id": "00c9ad67",
   "metadata": {},
   "outputs": [],
   "source": [
    "Weg = np.array([0,10,20,30,40])\n",
    "Kraft_Probe1 = np.array([10,18,24,28,30])\n",
    "Kraft_Probe2 = np.array([0,10,20,30,40])"
   ]
  },
  {
   "cell_type": "markdown",
   "id": "fe862811",
   "metadata": {},
   "source": [
    "## Datei speichern\n",
    "\n",
    "mit `plt.savefig('Dateiname.png', bbox_inches='tight', dpi=150)`\n",
    "\n",
    "- `bbox_inches='tight'` sorgt dafür das die Beschriftungen immer mit im Bild gespeichert werden (können sonst manchmal abgeschnitten sein)\n",
    "- `dpi` regelt die Größe des Pixelbildes und damit wie scharf es ist (dots per inch)"
   ]
  },
  {
   "cell_type": "code",
   "execution_count": null,
   "id": "e885dd88",
   "metadata": {},
   "outputs": [],
   "source": [
    "plt.plot(Weg,Kraft_Probe1,marker=\"s\",label=\"Probe1\");\n",
    "plt.plot(Weg,Kraft_Probe2,marker=\"s\",label=\"Probe2\");\n",
    "plt.legend()\n",
    "plt.xlabel(\"Weg [mm]\");\n",
    "plt.ylabel(\"Kraft [N]\");\n",
    "plt.savefig('plot_1.png', bbox_inches='tight', dpi=150)"
   ]
  },
  {
   "cell_type": "markdown",
   "id": "ad18b4a6",
   "metadata": {},
   "source": [
    "## Bildgröße\n",
    "**muss vor `plt.plot()` kommen**\n",
    "\n",
    "`plt.figure(figsize=(8,5))` ... Größe in inces in x,y-Richtung (Default: 6,4)"
   ]
  },
  {
   "cell_type": "code",
   "execution_count": null,
   "id": "d76b89c4",
   "metadata": {},
   "outputs": [],
   "source": [
    "plt.figure(figsize=(8,5))\n",
    "plt.plot(Weg,Kraft_Probe1,marker=\"s\",label=\"Probe1\");\n",
    "plt.plot(Weg,Kraft_Probe2,marker=\"s\",label=\"Probe2\");\n",
    "plt.legend()\n",
    "plt.xlabel(\"Weg [mm]\");\n",
    "plt.ylabel(\"Kraft [N]\");"
   ]
  },
  {
   "cell_type": "markdown",
   "id": "1643946d",
   "metadata": {},
   "source": [
    "## Schriftart und Schriftgröße\n",
    "**muss vor `plt.plot()` kommen**\n",
    "- Schriftgröße: `plt.rcParams.update({'font.size': 20})`\n",
    "- Schriftart: `plt.rcParams['font.family'] = 'STIXGeneral'` <br>STIXGeneral = LaTeX Schrift"
   ]
  },
  {
   "cell_type": "code",
   "execution_count": null,
   "id": "ad4be30c",
   "metadata": {},
   "outputs": [],
   "source": [
    "plt.rcParams.update({'font.size': 20})\n",
    "plt.rcParams['font.family'] = 'STIXGeneral'\n",
    "plt.plot(Weg,Kraft_Probe1,marker=\"s\",label=\"Probe1\");\n",
    "plt.plot(Weg,Kraft_Probe2,marker=\"s\",label=\"Probe2\");\n",
    "plt.legend()\n",
    "plt.xlabel(\"Weg [mm]\");\n",
    "plt.ylabel(\"Kraft [N]\");"
   ]
  },
  {
   "cell_type": "markdown",
   "id": "45324558",
   "metadata": {},
   "source": [
    "## Stile (zurücksetzen und Stilarten)\n",
    "\n",
    "Führen wir nun erneut den plot **ohne die Befehle für Schriftgröße und Schriftart aus**, stellen wir fest, dass diese **Einstellungen trotzdem weiterhin da sind**"
   ]
  },
  {
   "cell_type": "code",
   "execution_count": null,
   "id": "b4cb41c7",
   "metadata": {},
   "outputs": [],
   "source": [
    "plt.plot(Weg,Kraft_Probe1,marker=\"s\",label=\"Probe1\");\n",
    "plt.plot(Weg,Kraft_Probe2,marker=\"s\",label=\"Probe2\");\n",
    "plt.legend()\n",
    "plt.xlabel(\"Weg [mm]\");\n",
    "plt.ylabel(\"Kraft [N]\");"
   ]
  },
  {
   "cell_type": "markdown",
   "id": "41be82e7",
   "metadata": {},
   "source": [
    "Um diese zurückzusetzen kann man den Befehl `plt.style.use('default')` verwenden"
   ]
  },
  {
   "cell_type": "code",
   "execution_count": null,
   "id": "60b17d7d",
   "metadata": {},
   "outputs": [],
   "source": [
    "plt.style.use('default')\n",
    "\n",
    "plt.plot(Weg,Kraft_Probe1,marker=\"s\",label=\"Probe1\");\n",
    "plt.plot(Weg,Kraft_Probe2,marker=\"s\",label=\"Probe2\");\n",
    "plt.legend()\n",
    "plt.xlabel(\"Weg [mm]\");\n",
    "plt.ylabel(\"Kraft [N]\");"
   ]
  },
  {
   "cell_type": "markdown",
   "id": "38357c31",
   "metadata": {},
   "source": [
    "Mit dem Befehl `plt.style.use()` kann man nicht nur mit `default` die Standardeinstellungen herstellen, man kann auch verschiedene Stiltypen verwenden. <br>\n",
    "Die Liste aller Stiltypen erhält man mit `plt.style.available`"
   ]
  },
  {
   "cell_type": "code",
   "execution_count": null,
   "id": "c14085af",
   "metadata": {},
   "outputs": [],
   "source": [
    "plt.style.available"
   ]
  },
  {
   "cell_type": "markdown",
   "id": "1a24c942",
   "metadata": {},
   "source": [
    "**Um zu schauen wie alle stile aussehen verwenden wir eine `for` Schleife in der wir über alle Stile in der Liste `plt.style.available` iterrieren.**"
   ]
  },
  {
   "cell_type": "code",
   "execution_count": null,
   "id": "704c31ea",
   "metadata": {},
   "outputs": [],
   "source": [
    "for style in plt.style.available:\n",
    "    plt.figure(figsize=(6,4))\n",
    "    plt.style.use(style) # style aus Liste verwenden\n",
    "    plt.title(style) # style in Titel verwenden\n",
    "    plt.plot(Weg,Kraft_Probe1,marker=\"s\",label=\"Probe1\");\n",
    "    plt.plot(Weg,Kraft_Probe2,marker=\"s\",label=\"Probe2\");\n",
    "    plt.legend()\n",
    "    plt.xlabel(\"Weg [mm]\");\n",
    "    plt.ylabel(\"Kraft [N]\");\n",
    "    plt.show() # darstellen des plots (sonst werden alle Figures weiterhin im Speicher geöffnet)\n"
   ]
  },
  {
   "cell_type": "markdown",
   "id": "beba5300",
   "metadata": {},
   "source": [
    "## Gitter\n",
    "\n",
    "`plt.grid()` für ein Gitter hinzu\n"
   ]
  },
  {
   "cell_type": "code",
   "execution_count": null,
   "id": "22b3b5e5",
   "metadata": {},
   "outputs": [],
   "source": [
    "plt.style.use('default')\n",
    "\n",
    "plt.plot(Weg,Kraft_Probe1,marker=\"s\",label=\"Probe1\");\n",
    "plt.plot(Weg,Kraft_Probe2,marker=\"s\",label=\"Probe2\");\n",
    "plt.legend()\n",
    "plt.grid()\n",
    "plt.xlabel(\"Weg [mm]\");\n",
    "plt.ylabel(\"Kraft [N]\");"
   ]
  },
  {
   "cell_type": "markdown",
   "id": "2349e553",
   "metadata": {},
   "source": [
    "## Linien & Marker\n",
    "[Übersicht über alle Stile (matplotlib Cheat Sheet)](https://github.com/matplotlib/cheatsheets/)\n",
    "\n",
    "**Marker (Datenpunkte)**\n",
    "in `plt.plot()`<br>\n",
    "- Markertyp: `plt.plot(marker=\"s\")` (Beispiele: `.` , `o` , `s` , `p` , `x` , `*`  ,  . . . )\n",
    "- Markergrößer: `plt.plot(ms=2)` (ms = markersize) ( default: 6 für `plt.style.use('default')` )\n",
    "\n",
    "**Linien**\n",
    "in `plt.plot()`<br>\n",
    "- Linienfarbe: `plt.plot(c=\"red\")` (c = color)\n",
    "- Liniendicke: `plt.plot(lw=2)` (lw = linewidth)\n",
    "- Linienstil: `plt.plot(ls=\"--\")` (ls = linestyle) (Beispiele: `-` , `:` , `-` , `-.`)\n",
    "\n",
    "\n"
   ]
  },
  {
   "cell_type": "code",
   "execution_count": null,
   "id": "22da46bc",
   "metadata": {},
   "outputs": [],
   "source": [
    "plt.style.use('default')\n",
    "\n",
    "plt.plot(Weg,Kraft_Probe1,label=\"Probe1\",marker=\"s\",ms=8,ls=\"--\",lw=2,c=\"red\");\n",
    "plt.plot(Weg,Kraft_Probe2,label=\"Probe2\",marker=\"o\",ms=4,ls=\"-\",lw=1,c=\"blue\");\n",
    "plt.legend()\n",
    "plt.grid()\n",
    "plt.xlabel(\"Weg [mm]\");\n",
    "plt.ylabel(\"Kraft [N]\");"
   ]
  },
  {
   "cell_type": "markdown",
   "id": "edac0341",
   "metadata": {},
   "source": [
    "## Wertebereiche (x,y - Achse) "
   ]
  },
  {
   "cell_type": "markdown",
   "id": "89882c46",
   "metadata": {},
   "source": [
    "mit `plt.xlim()` und `plt.ylim()` werden die Wertebereiche gesetzt:\n",
    "\n",
    "Beispiele:\n",
    "\n",
    "- `plt.xlim(0,20)` - Wertebereiche von 0 bis 20\n",
    "- `plt.xlim(10,)` - Wertebereiche von 10 bis Stamdardwert\n",
    "- `plt.xlim(,20)` - Wertebereiche von Stamdardwert bis 20\n",
    "\n"
   ]
  },
  {
   "cell_type": "markdown",
   "id": "d540c69b",
   "metadata": {},
   "source": [
    "Wir stellen nun die x-Achse so ein, dass Sie nur von 0 bis 20 angezeigt wird:"
   ]
  },
  {
   "cell_type": "code",
   "execution_count": null,
   "id": "9aa12c7c",
   "metadata": {},
   "outputs": [],
   "source": [
    "plt.style.use('default')\n",
    "\n",
    "plt.plot(Weg,Kraft_Probe1,marker=\"s\",label=\"Probe1\");\n",
    "plt.plot(Weg,Kraft_Probe2,marker=\"s\",label=\"Probe2\");\n",
    "plt.legend()\n",
    "plt.grid()\n",
    "plt.xlim(0,20)\n",
    "plt.xlabel(\"Weg [mm]\");\n",
    "plt.ylabel(\"Kraft [N]\");"
   ]
  },
  {
   "cell_type": "markdown",
   "id": "5eee211a",
   "metadata": {},
   "source": [
    "Die y-Achse hat sich nicht geändert, dies müssen wir entsprechend mit `plt.ylim()` vornehmen"
   ]
  },
  {
   "cell_type": "code",
   "execution_count": null,
   "id": "f00b42cd",
   "metadata": {},
   "outputs": [],
   "source": [
    "plt.style.use('default')\n",
    "\n",
    "plt.plot(Weg,Kraft_Probe1,marker=\"s\",label=\"Probe1\");\n",
    "plt.plot(Weg,Kraft_Probe2,marker=\"s\",label=\"Probe2\");\n",
    "plt.legend()\n",
    "plt.grid()\n",
    "plt.xlim(0,20)\n",
    "plt.ylim(0,25)\n",
    "plt.xlabel(\"Weg [mm]\");\n",
    "plt.ylabel(\"Kraft [N]\");\n"
   ]
  },
  {
   "cell_type": "markdown",
   "id": "c69c3e64",
   "metadata": {},
   "source": [
    "## Legende\n",
    "\n",
    "mit `plt.legend()` wird die Legende angezeigt, wobei die Bezeichnung im jeweiligen über `label` ( plt.plot(label=\"\") ) realisiert wird\n",
    "\n",
    "weitere Einstellungen für die Legende:\n",
    "\n",
    "**Position der Legende** mit `loc`: z.B. `upper right`\n",
    "- horizontal+vertikal: `lower` / `center` / `upper` + `left` /  `center` / `right`  \n",
    "- Zentrum: `center`\n",
    "- automatisch:  `best`\n",
    "\n",
    "\n",
    "**Legende außerhalb** mit `bbox_to_anchor`=(x, y) \n",
    "\n",
    "**Legende horizontal** mit `ncol=2` (für zwei Einträge)\n",
    "\n",
    "**weiterführendes Material**:\n",
    "- [matplotlib doc zu legend()](https://matplotlib.org/stable/api/_as_gen/matplotlib.pyplot.legend.html) <br>\n",
    "- [Zusammenfassung vieler Tipps zur Legende von Kimberly Fessel](https://nbviewer.org/github/kimfetti/Videos/blob/master/Matplotlib_Tips/08_legend.ipynb)"
   ]
  },
  {
   "cell_type": "code",
   "execution_count": null,
   "id": "92ed4926",
   "metadata": {},
   "outputs": [],
   "source": [
    "plt.style.use('default')\n",
    "\n",
    "plt.plot(Weg,Kraft_Probe1,marker=\"s\",label=\"Probe1\");\n",
    "plt.plot(Weg,Kraft_Probe2,marker=\"s\",label=\"Probe2\");\n",
    "plt.legend(loc=\"lower center\",bbox_to_anchor=(0.5, 1.0) ,ncol=2)\n",
    "plt.grid()\n",
    "plt.xlabel(\"Weg [mm]\");\n",
    "plt.ylabel(\"Kraft [N]\");\n"
   ]
  }
 ],
 "metadata": {
  "kernelspec": {
   "display_name": "Python 3",
   "language": "python",
   "name": "python3"
  },
  "language_info": {
   "codemirror_mode": {
    "name": "ipython",
    "version": 3
   },
   "file_extension": ".py",
   "mimetype": "text/x-python",
   "name": "python",
   "nbconvert_exporter": "python",
   "pygments_lexer": "ipython3",
   "version": "3.8.5"
  }
 },
 "nbformat": 4,
 "nbformat_minor": 5
}
