{
 "cells": [
  {
   "cell_type": "markdown",
   "id": "faf51312",
   "metadata": {},
   "source": [
    "# Einführung in Jupyter Notebooks"
   ]
  },
  {
   "cell_type": "markdown",
   "id": "eb51e5a7",
   "metadata": {},
   "source": [
    "## Zellaktionen"
   ]
  },
  {
   "cell_type": "markdown",
   "id": "e2fbe6a5",
   "metadata": {},
   "source": [
    "**Zellen ausführen**\n",
    "\n",
    "`Shift` + `Enter` oder `Strg` + `Enter`"
   ]
  },
  {
   "cell_type": "code",
   "execution_count": null,
   "id": "4e2f5a24",
   "metadata": {},
   "outputs": [],
   "source": []
  },
  {
   "cell_type": "markdown",
   "id": "dc1e5dcb",
   "metadata": {},
   "source": [
    "**Zellen hinzufügen**\n",
    "\n",
    "`+` Symbol um eine neue Zeile hinzuzufügen\n",
    "\n",
    "Links neben den Zeileinput (da wo In []: steht) so das diese `blau` markiert ist und drücken Sie dann `a` (insert `a`bove = fügt **darüber** eine Zeile ein)\n",
    "\n",
    "Mit `b` (insert `b`elow = fügt **darunter** eine Zeile ein)"
   ]
  },
  {
   "cell_type": "code",
   "execution_count": null,
   "id": "d2188d07",
   "metadata": {},
   "outputs": [],
   "source": []
  },
  {
   "cell_type": "markdown",
   "id": "44b7548f",
   "metadata": {},
   "source": [
    "**Zelle löschen**\n",
    "\n",
    "Zelle markieren + `d` + `d` (löschen) oder `x` (ausschneiden)"
   ]
  },
  {
   "cell_type": "code",
   "execution_count": null,
   "id": "7979de9d",
   "metadata": {},
   "outputs": [],
   "source": []
  },
  {
   "cell_type": "markdown",
   "id": "a8eaa619",
   "metadata": {},
   "source": [
    "**Mathematische Operationen**\n",
    "\n",
    "Hinweis: für komplexere Operationen (z.B. Wurzel oder logarithmus) sind Bibliotheken wie `numpy` , `SymPy` oder `math` zu verwenden"
   ]
  },
  {
   "cell_type": "markdown",
   "id": "4ef3cb29",
   "metadata": {},
   "source": [
    "Addition: $3 + 2$ = `3+2`"
   ]
  },
  {
   "cell_type": "code",
   "execution_count": null,
   "id": "4b22e0bd",
   "metadata": {},
   "outputs": [],
   "source": [
    "3+2"
   ]
  },
  {
   "cell_type": "markdown",
   "id": "06395697",
   "metadata": {},
   "source": [
    "Subtraktion : $3 - 2$ = `3-2`"
   ]
  },
  {
   "cell_type": "code",
   "execution_count": null,
   "id": "f21406fb",
   "metadata": {},
   "outputs": [],
   "source": [
    "3-2"
   ]
  },
  {
   "cell_type": "markdown",
   "id": "0c1102e4",
   "metadata": {},
   "source": [
    "Multiplikation : $3 - 2$ = `3*2`"
   ]
  },
  {
   "cell_type": "code",
   "execution_count": null,
   "id": "86214f65",
   "metadata": {},
   "outputs": [],
   "source": [
    "3*2"
   ]
  },
  {
   "cell_type": "markdown",
   "id": "3802e216",
   "metadata": {},
   "source": [
    "Division : $\\frac{3}{2}$ = `3/2`"
   ]
  },
  {
   "cell_type": "code",
   "execution_count": null,
   "id": "8be0a4d2",
   "metadata": {},
   "outputs": [],
   "source": [
    "3/2"
   ]
  },
  {
   "cell_type": "markdown",
   "id": "7740bc70",
   "metadata": {},
   "source": [
    "Potenz : $3^2$ = `3**2`"
   ]
  },
  {
   "cell_type": "code",
   "execution_count": null,
   "id": "51c9e1d4",
   "metadata": {},
   "outputs": [],
   "source": [
    "3**2"
   ]
  },
  {
   "cell_type": "markdown",
   "id": "778b01e5",
   "metadata": {},
   "source": [
    "Quadratwurzel: $\\sqrt{9}$ <br>\n",
    "1. importieren von numpy: `import numpy as np` <br>\n",
    "2. `np.sqrt(9)`"
   ]
  },
  {
   "cell_type": "code",
   "execution_count": null,
   "id": "5f2f1d52",
   "metadata": {},
   "outputs": [],
   "source": [
    "np.sqrt(9)"
   ]
  },
  {
   "cell_type": "markdown",
   "id": "c111872a",
   "metadata": {},
   "source": [
    "Logarithmus: $\\log_2(8)$\n",
    "\n",
    "1. importieren von numpy: `import numpy as np` <br>\n",
    "2. `np.log()` : natürlicher Logarithmus (Basis `e`)\n",
    "\n",
    "- `np.log2()` : Logarithmus Basis `2`\n",
    "- `np.log10()` : Logarithmus Basis `10`\n"
   ]
  },
  {
   "cell_type": "code",
   "execution_count": null,
   "id": "d13d02e3",
   "metadata": {},
   "outputs": [],
   "source": [
    "np.log2(8)"
   ]
  },
  {
   "cell_type": "markdown",
   "id": "1422cd59",
   "metadata": {},
   "source": [
    "Trigonometrische Funktionen (Bogenmaß): $\\sin(\\frac{\\pi}{2})$\n",
    "\n",
    "1. importieren von numpy: `import numpy as np` <br>\n",
    "2. `np.sin(np.pi/2)`\n",
    "\n",
    "analog: \n",
    "- Cosinus: `np.cos()`\n",
    "- Tagens: `np.tan()`\n",
    "- Arkussinus : `np.asin()`\n",
    "- Arkuscosinus: `np.acos()`\n",
    "- Arkustangens: `np.atan()`\n",
    "\n",
    "für Grad: `Winkel*np.pi/180`"
   ]
  },
  {
   "cell_type": "code",
   "execution_count": null,
   "id": "18abfa00",
   "metadata": {},
   "outputs": [],
   "source": [
    "np.sin(np.pi/2)"
   ]
  },
  {
   "cell_type": "code",
   "execution_count": null,
   "id": "60d9e7e9",
   "metadata": {},
   "outputs": [],
   "source": [
    "np.sin(np.pi)"
   ]
  },
  {
   "cell_type": "code",
   "execution_count": null,
   "id": "7f312731",
   "metadata": {},
   "outputs": [],
   "source": [
    "np.sin(90*np.pi/180)"
   ]
  },
  {
   "cell_type": "markdown",
   "id": "64b97b6e",
   "metadata": {},
   "source": [
    "**Zelltypen (Code vs. Text)**\n",
    "\n",
    "Typ Code: (standardmäßig) Zelle markieren + `y`\n",
    "\n",
    "Typ Text: Zelle markieren + `m` ->  `Markdown` Syntax"
   ]
  },
  {
   "cell_type": "markdown",
   "id": "62784934",
   "metadata": {},
   "source": [
    "## Markdown Syntax"
   ]
  },
  {
   "cell_type": "markdown",
   "id": "be68d210",
   "metadata": {},
   "source": [
    "### Überschriften\n",
    "\n",
    "(alternativ können Sie die markierte Zelle durch drücken der Tasten `1` , `2` oder `3` eine Überschriftsebene erstellen):\n",
    "\n",
    "`# Überschrift 1. Test` \n",
    "\n",
    "`## Überschrift 1. Test`\n",
    "\n",
    "`### Überschrift 1. Test`\n"
   ]
  },
  {
   "cell_type": "markdown",
   "id": "5e72f44b",
   "metadata": {},
   "source": []
  },
  {
   "cell_type": "markdown",
   "id": "55557365",
   "metadata": {},
   "source": [
    "### Textformatierung\n",
    "\n",
    "`* Kursiv *` * Kursiv * \n",
    "\n",
    "`** Fett **` ** Fett ** \n",
    "\n",
    "`*** Fett+Kursiv ***` *** Fett+Kursiv *** \n",
    "\n"
   ]
  },
  {
   "cell_type": "markdown",
   "id": "8cf5f12f",
   "metadata": {},
   "source": []
  },
  {
   "cell_type": "markdown",
   "id": "6a5101d7",
   "metadata": {},
   "source": [
    "### Nummerierung + Listen\n",
    "\n",
    "`- Liste `\n",
    "\n",
    "`- Liste `\n",
    "\n",
    "- Liste\n",
    "- Liste\n",
    "\n",
    "\n",
    "`1. Nummerierung `\n",
    "\n",
    "`2. Nummerierung`\n",
    "\n",
    "1. Nummerierung\n",
    "2. Nummerierung\n",
    "\n",
    "`[ ] Checkbox` [ ] Checkbox\n",
    "\n",
    "`[x] Checkbox` [x] Checkbox\n",
    "\n"
   ]
  },
  {
   "cell_type": "markdown",
   "id": "858c4ed9",
   "metadata": {},
   "source": []
  },
  {
   "cell_type": "markdown",
   "id": "fc85f4ce",
   "metadata": {},
   "source": [
    "### Mathematische Formeln\n",
    "\n",
    "Verwendug von $LaTeX$ Syntax für Formeln durch einschließen mit dem `$` Symbol\n",
    "\n",
    "Inline: `$e=m c^2$` <br>\n",
    "zentriert: `$$e=m c^2$$`\n",
    "\n",
    "Inline: $e=m c^2$ <br>\n",
    "zentriert: $$e=m c^2$$"
   ]
  },
  {
   "cell_type": "code",
   "execution_count": null,
   "id": "4e1a0744",
   "metadata": {},
   "outputs": [],
   "source": []
  },
  {
   "cell_type": "markdown",
   "id": "4fd62a21",
   "metadata": {},
   "source": [
    "### Tabellen\n",
    "```\n",
    "First Header  | Second Header`\n",
    "  ------------- | -------------`\n",
    "  Content Cell  | Content Cell`\n",
    "  Content Cell  | Content Cell`\n",
    "```\n",
    "\n",
    "\n",
    "  First Header  | Second Header\n",
    "  ------------- | -------------\n",
    "  Content Cell  | Content Cell\n",
    "  Content Cell  | Content Cell"
   ]
  },
  {
   "cell_type": "markdown",
   "id": "5f758b65",
   "metadata": {},
   "source": []
  },
  {
   "cell_type": "markdown",
   "id": "5e193860",
   "metadata": {},
   "source": [
    "### Bilder\n",
    "\n",
    "`![Alternativtext](https://jupyter.org/assets/nav_logo.svg)`\n",
    "\n",
    "![Alternativtext](https://jupyter.org/assets/nav_logo.svg)\n",
    "\n",
    "Alternative mit html:<br>\n",
    "`<img src=\"https://jupyter.org/assets/nav_logo.svg\" width=300/>`\n",
    "\n",
    "<img src=\"https://jupyter.org/assets/nav_logo.svg\" width=300/>\n"
   ]
  },
  {
   "cell_type": "markdown",
   "id": "33488e1a",
   "metadata": {},
   "source": []
  },
  {
   "cell_type": "markdown",
   "id": "51764bab",
   "metadata": {},
   "source": [
    "### Links\n",
    "\n",
    "`[HTWK Leipzig](http://www.htwk-leipzig.de)`\n",
    "\n",
    "[HTWK Leipzig](http://www.htwk-leipzig.de)\n",
    "\n",
    "\n",
    "```\n",
    "Das ist ein Beispieltext mit Referenzen[Ref1][1] . Das ist ein Beispieltext mit Referenzen [Ref2][2].\n",
    "Die Links können dann darunter stehen\n",
    "\n",
    "   [1]: http://www.jupyter.org\n",
    "   [2]: http://www.htwk-leipzig.de\n",
    "```\n",
    "\n",
    "Das ist ein Beispieltext mit Referenzen [Ref1][1] . Das ist ein Beispieltext mit Referenzen [Ref2][2].\n",
    "Die Links können dann darunter stehen\n",
    "\n",
    "   [1]: http://www.jupyter.org\n",
    "   [2]: http://www.htwk-leipzig.de\n"
   ]
  },
  {
   "cell_type": "markdown",
   "id": "144945c1",
   "metadata": {},
   "source": []
  },
  {
   "cell_type": "markdown",
   "id": "03fe9c3e",
   "metadata": {},
   "source": [
    "### Code \n",
    "\n",
    "```\n",
    "Ein Codeelement mit dem Einschluss von Anführungszeichen: also so `Code` dargestellt werden\n",
    "\n",
    "```\n",
    "\n",
    "Ein `Codeelement` der Rest ist Text\n",
    "\n",
    "\n",
    "```\n",
    "Mehrere Codezeilen werden durch drei Anführungszeichen zu Beginn und drei zum Ende definiert\n",
    "```\n",
    "\n",
    " \n",
    "\n"
   ]
  },
  {
   "cell_type": "code",
   "execution_count": null,
   "id": "a346cab8",
   "metadata": {},
   "outputs": [],
   "source": []
  },
  {
   "cell_type": "markdown",
   "id": "1223004b",
   "metadata": {},
   "source": [
    "### Farbige Boxen"
   ]
  },
  {
   "cell_type": "markdown",
   "id": "63d357bd",
   "metadata": {},
   "source": [
    "```\n",
    "<div class=\"alert alert-block alert-info\">\n",
    "<b>Tipp:</b> Blaue Boxen .. \n",
    "</div>\n",
    "```"
   ]
  },
  {
   "cell_type": "markdown",
   "id": "000a7e8a",
   "metadata": {},
   "source": [
    "<div class=\"alert alert-block alert-info\">\n",
    "<b>Tipp:</b> Blaue Boxen (alert-info) \n",
    "</div>"
   ]
  },
  {
   "cell_type": "markdown",
   "id": "97030926",
   "metadata": {},
   "source": [
    "```\n",
    "<div class=\"alert alert-block alert-warning\">\n",
    "<b>Beispiel:</b> Gelbe Boxen (alert-warning)\n",
    "</div>\n",
    "```"
   ]
  },
  {
   "cell_type": "markdown",
   "id": "4a8dc9fa",
   "metadata": {},
   "source": [
    "<div class=\"alert alert-block alert-warning\">\n",
    "<b>Beispiel:</b> Gelbe Boxen (alert-warning)\n",
    "</div>"
   ]
  },
  {
   "cell_type": "markdown",
   "id": "53a50efe",
   "metadata": {},
   "source": [
    "```\n",
    "<div class=\"alert alert-block alert-success\">\n",
    "<b>Erfolg:</b> Grüne Boxen (alert-success)\n",
    "</div>\n",
    "```"
   ]
  },
  {
   "cell_type": "markdown",
   "id": "bde5889d",
   "metadata": {},
   "source": [
    "<div class=\"alert alert-block alert-success\">\n",
    "<b>Erfolg:</b> Grüne Boxen (alert-success)\n",
    "</div>"
   ]
  },
  {
   "cell_type": "markdown",
   "id": "6df1f206",
   "metadata": {},
   "source": [
    "```\n",
    "<div class=\"alert alert-block alert-danger\">\n",
    "<b>Warnung:</b> Rote Boxen (alert-danger)\n",
    "</div>\n",
    "```"
   ]
  },
  {
   "cell_type": "markdown",
   "id": "8b87799f",
   "metadata": {},
   "source": [
    "<div class=\"alert alert-block alert-danger\">\n",
    "<b>Warnung:</b> Rote Boxen (alert-danger)\n",
    "</div>"
   ]
  }
 ],
 "metadata": {
  "kernelspec": {
   "display_name": "Python 3",
   "language": "python",
   "name": "python3"
  },
  "language_info": {
   "codemirror_mode": {
    "name": "ipython",
    "version": 3
   },
   "file_extension": ".py",
   "mimetype": "text/x-python",
   "name": "python",
   "nbconvert_exporter": "python",
   "pygments_lexer": "ipython3",
   "version": "3.8.5"
  }
 },
 "nbformat": 4,
 "nbformat_minor": 5
}
