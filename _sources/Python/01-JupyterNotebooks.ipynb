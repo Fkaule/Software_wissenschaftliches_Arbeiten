{
 "cells": [
  {
   "cell_type": "markdown",
   "id": "45999aef",
   "metadata": {},
   "source": [
    "# Einführung in Jupyter Notebooks"
   ]
  },
  {
   "cell_type": "markdown",
   "id": "8c176ad1",
   "metadata": {},
   "source": [
    "## Zellaktionen"
   ]
  },
  {
   "cell_type": "markdown",
   "id": "03f04db4",
   "metadata": {},
   "source": [
    "**Zellen ausführen**\n",
    "\n",
    "`Shift` + `Enter` oder `Strg` + `Enter`"
   ]
  },
  {
   "cell_type": "code",
   "execution_count": null,
   "id": "2cbb1393",
   "metadata": {},
   "outputs": [],
   "source": []
  },
  {
   "cell_type": "markdown",
   "id": "e93f0da4",
   "metadata": {},
   "source": [
    "**Zellen hinzufügen**\n",
    "\n",
    "`+` Symbol um eine neue Zeile hinzuzufügen\n",
    "\n",
    "Links neben den Zeileinput (da wo In []: steht) so das diese `blau` markiert ist und drücken Sie dann `a` (insert `a`bove = fügt **darüber** eine Zeile ein)\n",
    "\n",
    "Mit `b` (insert `b`elow = fügt **darunter** eine Zeile ein)"
   ]
  },
  {
   "cell_type": "code",
   "execution_count": null,
   "id": "2c02bc09",
   "metadata": {},
   "outputs": [],
   "source": []
  },
  {
   "cell_type": "markdown",
   "id": "ffa18c33",
   "metadata": {},
   "source": [
    "**Zelle löschen**\n",
    "\n",
    "Zelle markieren + `d` + `d` (löschen) oder `x` (ausschneiden)"
   ]
  },
  {
   "cell_type": "code",
   "execution_count": null,
   "id": "b4d09033",
   "metadata": {},
   "outputs": [],
   "source": []
  },
  {
   "cell_type": "markdown",
   "id": "8c9e9676",
   "metadata": {},
   "source": [
    "**Mathematische Operationen**\n",
    "\n",
    "Hinweis: für komplexere Operationen (z.B. Wurzel oder logarithmus) sind Bibliotheken wie `numpy` , `SymPy` oder `math` zu verwenden"
   ]
  },
  {
   "cell_type": "markdown",
   "id": "a0ea782b",
   "metadata": {},
   "source": [
    "Addition: $3 + 2$ = `3+2`"
   ]
  },
  {
   "cell_type": "code",
   "execution_count": 2,
   "id": "ed9de04e",
   "metadata": {},
   "outputs": [
    {
     "data": {
      "text/plain": [
       "5"
      ]
     },
     "execution_count": 2,
     "metadata": {},
     "output_type": "execute_result"
    }
   ],
   "source": [
    "3+2"
   ]
  },
  {
   "cell_type": "markdown",
   "id": "1550bb9d",
   "metadata": {},
   "source": [
    "Subtraktion : $3 - 2$ = `3-2`"
   ]
  },
  {
   "cell_type": "code",
   "execution_count": 3,
   "id": "8a1fc8f7",
   "metadata": {},
   "outputs": [
    {
     "data": {
      "text/plain": [
       "1"
      ]
     },
     "execution_count": 3,
     "metadata": {},
     "output_type": "execute_result"
    }
   ],
   "source": [
    "3-2"
   ]
  },
  {
   "cell_type": "markdown",
   "id": "1dd1c844",
   "metadata": {},
   "source": [
    "Multiplikation : $3 - 2$ = `3*2`"
   ]
  },
  {
   "cell_type": "code",
   "execution_count": 4,
   "id": "4f42f3d5",
   "metadata": {},
   "outputs": [
    {
     "data": {
      "text/plain": [
       "6"
      ]
     },
     "execution_count": 4,
     "metadata": {},
     "output_type": "execute_result"
    }
   ],
   "source": [
    "3*2"
   ]
  },
  {
   "cell_type": "markdown",
   "id": "9d5c302d",
   "metadata": {},
   "source": [
    "Division : $\\frac{3}{2}$ = `3/2`"
   ]
  },
  {
   "cell_type": "code",
   "execution_count": 5,
   "id": "a8f7e410",
   "metadata": {},
   "outputs": [
    {
     "data": {
      "text/plain": [
       "1.5"
      ]
     },
     "execution_count": 5,
     "metadata": {},
     "output_type": "execute_result"
    }
   ],
   "source": [
    "3/2"
   ]
  },
  {
   "cell_type": "markdown",
   "id": "a437a15b",
   "metadata": {},
   "source": [
    "Potenz : $3^2$ = `3**2`"
   ]
  },
  {
   "cell_type": "code",
   "execution_count": 6,
   "id": "3d354f89",
   "metadata": {},
   "outputs": [
    {
     "data": {
      "text/plain": [
       "9"
      ]
     },
     "execution_count": 6,
     "metadata": {},
     "output_type": "execute_result"
    }
   ],
   "source": [
    "3**2"
   ]
  },
  {
   "cell_type": "markdown",
   "id": "c7095a59",
   "metadata": {},
   "source": [
    "Quadratwurzel: $\\sqrt{9}$ <br>\n",
    "1. importieren von numpy: `import numpy as np` <br>\n",
    "2. `np.sqrt(9)`"
   ]
  },
  {
   "cell_type": "code",
   "execution_count": 10,
   "id": "424b8755",
   "metadata": {},
   "outputs": [
    {
     "data": {
      "text/plain": [
       "3.0"
      ]
     },
     "execution_count": 10,
     "metadata": {},
     "output_type": "execute_result"
    }
   ],
   "source": [
    "np.sqrt(9)"
   ]
  },
  {
   "cell_type": "markdown",
   "id": "11dfab2c",
   "metadata": {},
   "source": [
    "Logarithmus: $\\log_2(8)$\n",
    "\n",
    "1. importieren von numpy: `import numpy as np` <br>\n",
    "2. `np.log()` : natürlicher Logarithmus (Basis `e`)\n",
    "\n",
    "- `np.log2()` : Logarithmus Basis `2`\n",
    "- `np.log10()` : Logarithmus Basis `10`\n"
   ]
  },
  {
   "cell_type": "code",
   "execution_count": 15,
   "id": "7e64d364",
   "metadata": {},
   "outputs": [
    {
     "data": {
      "text/plain": [
       "3.0"
      ]
     },
     "execution_count": 15,
     "metadata": {},
     "output_type": "execute_result"
    }
   ],
   "source": [
    "np.log2(8)"
   ]
  },
  {
   "cell_type": "markdown",
   "id": "b0dd0544",
   "metadata": {},
   "source": [
    "Trigonometrische Funktionen (Bogenmaß): $\\sin(\\frac{\\pi}{2})$\n",
    "\n",
    "1. importieren von numpy: `import numpy as np` <br>\n",
    "2. `np.sin(np.pi/2)`\n",
    "\n",
    "analog: \n",
    "- Cosinus: `np.cos()`\n",
    "- Tagens: `np.tan()`\n",
    "- Arkussinus : `np.asin()`\n",
    "- Arkuscosinus: `np.acos()`\n",
    "- Arkustangens: `np.atan()`\n",
    "\n",
    "für Grad: `Winkel*np.pi/180`"
   ]
  },
  {
   "cell_type": "code",
   "execution_count": 22,
   "id": "7b3fe194",
   "metadata": {},
   "outputs": [
    {
     "data": {
      "text/plain": [
       "1.0"
      ]
     },
     "execution_count": 22,
     "metadata": {},
     "output_type": "execute_result"
    }
   ],
   "source": [
    "np.sin(np.pi/2)"
   ]
  },
  {
   "cell_type": "code",
   "execution_count": 21,
   "id": "f7fe791a",
   "metadata": {},
   "outputs": [
    {
     "data": {
      "text/plain": [
       "1.2246467991473532e-16"
      ]
     },
     "execution_count": 21,
     "metadata": {},
     "output_type": "execute_result"
    }
   ],
   "source": [
    "np.sin(np.pi)"
   ]
  },
  {
   "cell_type": "code",
   "execution_count": 24,
   "id": "cd14cba1",
   "metadata": {},
   "outputs": [
    {
     "data": {
      "text/plain": [
       "1.0"
      ]
     },
     "execution_count": 24,
     "metadata": {},
     "output_type": "execute_result"
    }
   ],
   "source": [
    "np.sin(90*np.pi/180)"
   ]
  },
  {
   "cell_type": "markdown",
   "id": "dfc5b76b",
   "metadata": {},
   "source": [
    "**Zelltypen (Code vs. Text)**\n",
    "\n",
    "Typ Code: (standardmäßig) Zelle markieren + `y`\n",
    "\n",
    "Typ Text: Zelle markieren + `m` ->  `Markdown` Syntax"
   ]
  },
  {
   "cell_type": "markdown",
   "id": "e096c91f",
   "metadata": {},
   "source": [
    "## Markdown Syntax"
   ]
  },
  {
   "cell_type": "markdown",
   "id": "ce8325c3",
   "metadata": {},
   "source": [
    "### Überschriften\n",
    "\n",
    "(alternativ können Sie die markierte Zelle durch drücken der Tasten `1` , `2` oder `3` eine Überschriftsebene erstellen):\n",
    "\n",
    "`# Überschrift 1. Test` \n",
    "\n",
    "`## Überschrift 1. Test`\n",
    "\n",
    "`### Überschrift 1. Test`\n"
   ]
  },
  {
   "cell_type": "markdown",
   "id": "addd35c3",
   "metadata": {},
   "source": []
  },
  {
   "cell_type": "markdown",
   "id": "082e2741",
   "metadata": {},
   "source": [
    "### Textformatierung\n",
    "\n",
    "`* Kursiv *` * Kursiv * \n",
    "\n",
    "`** Fett **` ** Fett ** \n",
    "\n",
    "`*** Fett+Kursiv ***` *** Fett+Kursiv *** \n",
    "\n"
   ]
  },
  {
   "cell_type": "markdown",
   "id": "97f98ddf",
   "metadata": {},
   "source": []
  },
  {
   "cell_type": "markdown",
   "id": "593f07c3",
   "metadata": {},
   "source": [
    "### Nummerierung + Listen\n",
    "\n",
    "`- Liste `\n",
    "\n",
    "`- Liste `\n",
    "\n",
    "- Liste\n",
    "- Liste\n",
    "\n",
    "\n",
    "`1. Nummerierung `\n",
    "\n",
    "`2. Nummerierung`\n",
    "\n",
    "1. Nummerierung\n",
    "2. Nummerierung\n",
    "\n",
    "`[ ] Checkbox` [ ] Checkbox\n",
    "\n",
    "`[x] Checkbox` [x] Checkbox\n",
    "\n"
   ]
  },
  {
   "cell_type": "markdown",
   "id": "e6db8759",
   "metadata": {},
   "source": []
  },
  {
   "cell_type": "markdown",
   "id": "fdc87240",
   "metadata": {},
   "source": [
    "### Mathematische Formeln\n",
    "\n",
    "Verwendug von $LaTeX$ Syntax für Formeln durch einschließen mit dem `$` Symbol\n",
    "\n",
    "Inline: `$e=m c^2$` <br>\n",
    "zentriert: `$$e=m c^2$$`\n",
    "\n",
    "Inline: $e=m c^2$ <br>\n",
    "zentriert: $$e=m c^2$$"
   ]
  },
  {
   "cell_type": "code",
   "execution_count": null,
   "id": "7cb0f532",
   "metadata": {},
   "outputs": [],
   "source": []
  },
  {
   "cell_type": "markdown",
   "id": "5368ecec",
   "metadata": {},
   "source": [
    "### Tabellen\n",
    "```\n",
    "First Header  | Second Header`\n",
    "  ------------- | -------------`\n",
    "  Content Cell  | Content Cell`\n",
    "  Content Cell  | Content Cell`\n",
    "```\n",
    "\n",
    "\n",
    "  First Header  | Second Header\n",
    "  ------------- | -------------\n",
    "  Content Cell  | Content Cell\n",
    "  Content Cell  | Content Cell"
   ]
  },
  {
   "cell_type": "markdown",
   "id": "d7bb37df",
   "metadata": {},
   "source": []
  },
  {
   "cell_type": "markdown",
   "id": "70678fcd",
   "metadata": {},
   "source": [
    "### Bilder\n",
    "\n",
    "`![Alternativtext](https://jupyter.org/assets/nav_logo.svg)`\n",
    "\n",
    "![Alternativtext](https://jupyter.org/assets/nav_logo.svg)\n",
    "\n",
    "Alternative mit html:<br>\n",
    "`<img src=\"https://jupyter.org/assets/nav_logo.svg\" width=300/>`\n",
    "\n",
    "<img src=\"https://jupyter.org/assets/nav_logo.svg\" width=300/>\n"
   ]
  },
  {
   "cell_type": "markdown",
   "id": "7c57a6f1",
   "metadata": {},
   "source": []
  },
  {
   "cell_type": "markdown",
   "id": "77671952",
   "metadata": {},
   "source": [
    "### Links\n",
    "\n",
    "`[HTWK Leipzig](http://www.htwk-leipzig.de)`\n",
    "\n",
    "[HTWK Leipzig](http://www.htwk-leipzig.de)\n",
    "\n",
    "\n",
    "```\n",
    "Das ist ein Beispieltext mit Referenzen[Ref1][1] . Das ist ein Beispieltext mit Referenzen [Ref2][2].\n",
    "Die Links können dann darunter stehen\n",
    "\n",
    "   [1]: http://www.jupyter.org\n",
    "   [2]: http://www.htwk-leipzig.de\n",
    "```\n",
    "\n",
    "Das ist ein Beispieltext mit Referenzen [Ref1][1] . Das ist ein Beispieltext mit Referenzen [Ref2][2].\n",
    "Die Links können dann darunter stehen\n",
    "\n",
    "   [1]: http://www.jupyter.org\n",
    "   [2]: http://www.htwk-leipzig.de\n"
   ]
  },
  {
   "cell_type": "markdown",
   "id": "21d35d08",
   "metadata": {},
   "source": []
  },
  {
   "cell_type": "markdown",
   "id": "5e0807a1",
   "metadata": {},
   "source": [
    "### Code \n",
    "\n",
    "```\n",
    "Ein Codeelement mit dem Einschluss von Anführungszeichen: also so `Code` dargestellt werden\n",
    "\n",
    "```\n",
    "\n",
    "Ein `Codeelement` der Rest ist Text\n",
    "\n",
    "\n",
    "```\n",
    "Mehrere Codezeilen werden durch drei Anführungszeichen zu Beginn und drei zum Ende definiert\n",
    "```\n",
    "\n",
    " \n",
    "\n"
   ]
  },
  {
   "cell_type": "code",
   "execution_count": null,
   "id": "878df12f",
   "metadata": {},
   "outputs": [],
   "source": []
  },
  {
   "cell_type": "markdown",
   "id": "8c578a80",
   "metadata": {},
   "source": [
    "### Farbige Boxen"
   ]
  },
  {
   "cell_type": "markdown",
   "id": "3da6e1cd",
   "metadata": {},
   "source": [
    "```\n",
    "<div class=\"alert alert-block alert-info\">\n",
    "<b>Tipp:</b> Blaue Boxen .. \n",
    "</div>\n",
    "```"
   ]
  },
  {
   "cell_type": "markdown",
   "id": "720524c9",
   "metadata": {},
   "source": [
    "<div class=\"alert alert-block alert-info\">\n",
    "<b>Tipp:</b> Blaue Boxen (alert-info) \n",
    "</div>"
   ]
  },
  {
   "cell_type": "markdown",
   "id": "b5c02a04",
   "metadata": {},
   "source": [
    "```\n",
    "<div class=\"alert alert-block alert-warning\">\n",
    "<b>Beispiel:</b> Gelbe Boxen (alert-warning)\n",
    "</div>\n",
    "```"
   ]
  },
  {
   "cell_type": "markdown",
   "id": "fc43799a",
   "metadata": {},
   "source": [
    "<div class=\"alert alert-block alert-warning\">\n",
    "<b>Beispiel:</b> Gelbe Boxen (alert-warning)\n",
    "</div>"
   ]
  },
  {
   "cell_type": "markdown",
   "id": "b03dd3ab",
   "metadata": {},
   "source": [
    "```\n",
    "<div class=\"alert alert-block alert-success\">\n",
    "<b>Erfolg:</b> Grüne Boxen (alert-success)\n",
    "</div>\n",
    "```"
   ]
  },
  {
   "cell_type": "markdown",
   "id": "f99a6952",
   "metadata": {},
   "source": [
    "<div class=\"alert alert-block alert-success\">\n",
    "<b>Erfolg:</b> Grüne Boxen (alert-success)\n",
    "</div>"
   ]
  },
  {
   "cell_type": "markdown",
   "id": "c88075f7",
   "metadata": {},
   "source": [
    "```\n",
    "<div class=\"alert alert-block alert-danger\">\n",
    "<b>Warnung:</b> Rote Boxen (alert-danger)\n",
    "</div>\n",
    "```"
   ]
  },
  {
   "cell_type": "markdown",
   "id": "fc0dc3f6",
   "metadata": {},
   "source": [
    "<div class=\"alert alert-block alert-danger\">\n",
    "<b>Warnung:</b> Rote Boxen (alert-danger)\n",
    "</div>"
   ]
  }
 ],
 "metadata": {
  "kernelspec": {
   "display_name": "Python 3",
   "language": "python",
   "name": "python3"
  },
  "language_info": {
   "codemirror_mode": {
    "name": "ipython",
    "version": 3
   },
   "file_extension": ".py",
   "mimetype": "text/x-python",
   "name": "python",
   "nbconvert_exporter": "python",
   "pygments_lexer": "ipython3",
   "version": "3.8.5"
  }
 },
 "nbformat": 4,
 "nbformat_minor": 5
}
