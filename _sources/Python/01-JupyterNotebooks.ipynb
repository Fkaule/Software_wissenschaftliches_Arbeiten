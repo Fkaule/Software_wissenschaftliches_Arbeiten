{
 "cells": [
  {
   "cell_type": "markdown",
   "id": "f97a0ea3",
   "metadata": {},
   "source": [
    "# Einführung in Jupyter Notebooks"
   ]
  },
  {
   "cell_type": "markdown",
   "id": "4e736964",
   "metadata": {},
   "source": [
    "## Zellaktionen"
   ]
  },
  {
   "cell_type": "markdown",
   "id": "e09f4ffa",
   "metadata": {},
   "source": [
    "**Zellen ausführen**\n",
    "\n",
    "`Shift` + `Enter` oder `Strg` + `Enter`"
   ]
  },
  {
   "cell_type": "code",
   "execution_count": null,
   "id": "66f0e6cf",
   "metadata": {},
   "outputs": [],
   "source": []
  },
  {
   "cell_type": "markdown",
   "id": "10d12163",
   "metadata": {},
   "source": [
    "**Zellen hinzufügen**\n",
    "\n",
    "`+` Symbol um eine neue Zeile hinzuzufügen\n",
    "\n",
    "Links neben den Zeileinput (da wo In []: steht) so das diese `blau` markiert ist und drücken Sie dann `a` (insert `a`bove = fügt **darüber** eine Zeile ein)\n",
    "\n",
    "Mit `b` (insert `b`elow = fügt **darunter** eine Zeile ein)"
   ]
  },
  {
   "cell_type": "code",
   "execution_count": null,
   "id": "7a862ed7",
   "metadata": {},
   "outputs": [],
   "source": []
  },
  {
   "cell_type": "markdown",
   "id": "bc6b05ec",
   "metadata": {},
   "source": [
    "**Zelle löschen**\n",
    "\n",
    "Zelle markieren + `d` + `d` (löschen) oder `x` (ausschneiden)"
   ]
  },
  {
   "cell_type": "code",
   "execution_count": null,
   "id": "76517896",
   "metadata": {},
   "outputs": [],
   "source": []
  },
  {
   "cell_type": "markdown",
   "id": "f1662891",
   "metadata": {},
   "source": [
    "**Mathematische Operationen**\n",
    "\n",
    "Hinweis: für komplexere Operationen (z.B. Wurzel oder logarithmus) sind Bibliotheken wie `numpy` , `SymPy` oder `math` zu verwenden"
   ]
  },
  {
   "cell_type": "markdown",
   "id": "00e2e292",
   "metadata": {},
   "source": [
    "Addition: $3 + 2$ = `3+2`"
   ]
  },
  {
   "cell_type": "code",
   "execution_count": null,
   "id": "b4978f0b",
   "metadata": {},
   "outputs": [],
   "source": [
    "3+2"
   ]
  },
  {
   "cell_type": "markdown",
   "id": "05a01b85",
   "metadata": {},
   "source": [
    "Subtraktion : $3 - 2$ = `3-2`"
   ]
  },
  {
   "cell_type": "code",
   "execution_count": null,
   "id": "38a4ac36",
   "metadata": {},
   "outputs": [],
   "source": [
    "3-2"
   ]
  },
  {
   "cell_type": "markdown",
   "id": "95967ee3",
   "metadata": {},
   "source": [
    "Multiplikation : $3 - 2$ = `3*2`"
   ]
  },
  {
   "cell_type": "code",
   "execution_count": null,
   "id": "9f4e64c9",
   "metadata": {},
   "outputs": [],
   "source": [
    "3*2"
   ]
  },
  {
   "cell_type": "markdown",
   "id": "34a8a792",
   "metadata": {},
   "source": [
    "Division : $\\frac{3}{2}$ = `3/2`"
   ]
  },
  {
   "cell_type": "code",
   "execution_count": null,
   "id": "0e67c2fe",
   "metadata": {},
   "outputs": [],
   "source": [
    "3/2"
   ]
  },
  {
   "cell_type": "markdown",
   "id": "8330e4ee",
   "metadata": {},
   "source": [
    "Potenz : $3^2$ = `3**2`"
   ]
  },
  {
   "cell_type": "code",
   "execution_count": null,
   "id": "e4760892",
   "metadata": {},
   "outputs": [],
   "source": [
    "3**2"
   ]
  },
  {
   "cell_type": "markdown",
   "id": "342dc74b",
   "metadata": {},
   "source": [
    "Quadratwurzel: $\\sqrt{9}$ <br>\n",
    "1. importieren von numpy: `import numpy as np` <br>\n",
    "2. `np.sqrt(9)`"
   ]
  },
  {
   "cell_type": "code",
   "execution_count": null,
   "id": "b7d86299",
   "metadata": {},
   "outputs": [],
   "source": [
    "np.sqrt(9)"
   ]
  },
  {
   "cell_type": "markdown",
   "id": "f23d4458",
   "metadata": {},
   "source": [
    "Logarithmus: $\\log_2(8)$\n",
    "\n",
    "1. importieren von numpy: `import numpy as np` <br>\n",
    "2. `np.log()` : natürlicher Logarithmus (Basis `e`)\n",
    "\n",
    "- `np.log2()` : Logarithmus Basis `2`\n",
    "- `np.log10()` : Logarithmus Basis `10`\n"
   ]
  },
  {
   "cell_type": "code",
   "execution_count": null,
   "id": "9219d2c7",
   "metadata": {},
   "outputs": [],
   "source": [
    "np.log2(8)"
   ]
  },
  {
   "cell_type": "markdown",
   "id": "ad650d86",
   "metadata": {},
   "source": [
    "Trigonometrische Funktionen (Bogenmaß): $\\sin(\\frac{\\pi}{2})$\n",
    "\n",
    "1. importieren von numpy: `import numpy as np` <br>\n",
    "2. `np.sin(np.pi/2)`\n",
    "\n",
    "analog: \n",
    "- Cosinus: `np.cos()`\n",
    "- Tagens: `np.tan()`\n",
    "- Arkussinus : `np.asin()`\n",
    "- Arkuscosinus: `np.acos()`\n",
    "- Arkustangens: `np.atan()`\n",
    "\n",
    "für Grad: `Winkel*np.pi/180`"
   ]
  },
  {
   "cell_type": "code",
   "execution_count": null,
   "id": "921a3e67",
   "metadata": {},
   "outputs": [],
   "source": [
    "np.sin(np.pi/2)"
   ]
  },
  {
   "cell_type": "code",
   "execution_count": null,
   "id": "8d13595e",
   "metadata": {},
   "outputs": [],
   "source": [
    "np.sin(np.pi)"
   ]
  },
  {
   "cell_type": "code",
   "execution_count": null,
   "id": "2518aedc",
   "metadata": {},
   "outputs": [],
   "source": [
    "np.sin(90*np.pi/180)"
   ]
  },
  {
   "cell_type": "markdown",
   "id": "2ce5bb87",
   "metadata": {},
   "source": [
    "**Zelltypen (Code vs. Text)**\n",
    "\n",
    "Typ Code: (standardmäßig) Zelle markieren + `y`\n",
    "\n",
    "Typ Text: Zelle markieren + `m` ->  `Markdown` Syntax"
   ]
  },
  {
   "cell_type": "markdown",
   "id": "dcdd737e",
   "metadata": {},
   "source": [
    "## Markdown Syntax"
   ]
  },
  {
   "cell_type": "markdown",
   "id": "ebe9a5eb",
   "metadata": {},
   "source": [
    "### Überschriften\n",
    "\n",
    "(alternativ können Sie die markierte Zelle durch drücken der Tasten `1` , `2` oder `3` eine Überschriftsebene erstellen):\n",
    "\n",
    "`# Überschrift 1. Test` \n",
    "\n",
    "`## Überschrift 1. Test`\n",
    "\n",
    "`### Überschrift 1. Test`\n"
   ]
  },
  {
   "cell_type": "markdown",
   "id": "adc05c85",
   "metadata": {},
   "source": []
  },
  {
   "cell_type": "markdown",
   "id": "db7f99c3",
   "metadata": {},
   "source": [
    "### Textformatierung\n",
    "\n",
    "`* Kursiv *` * Kursiv * \n",
    "\n",
    "`** Fett **` ** Fett ** \n",
    "\n",
    "`*** Fett+Kursiv ***` *** Fett+Kursiv *** \n",
    "\n"
   ]
  },
  {
   "cell_type": "markdown",
   "id": "ecde9314",
   "metadata": {},
   "source": []
  },
  {
   "cell_type": "markdown",
   "id": "68d8c398",
   "metadata": {},
   "source": [
    "### Nummerierung + Listen\n",
    "\n",
    "`- Liste `\n",
    "\n",
    "`- Liste `\n",
    "\n",
    "- Liste\n",
    "- Liste\n",
    "\n",
    "\n",
    "`1. Nummerierung `\n",
    "\n",
    "`2. Nummerierung`\n",
    "\n",
    "1. Nummerierung\n",
    "2. Nummerierung\n",
    "\n",
    "`[ ] Checkbox` [ ] Checkbox\n",
    "\n",
    "`[x] Checkbox` [x] Checkbox\n",
    "\n"
   ]
  },
  {
   "cell_type": "markdown",
   "id": "2d064187",
   "metadata": {},
   "source": []
  },
  {
   "cell_type": "markdown",
   "id": "d8a2f10f",
   "metadata": {},
   "source": [
    "### Mathematische Formeln\n",
    "\n",
    "Verwendug von $LaTeX$ Syntax für Formeln durch einschließen mit dem `$` Symbol\n",
    "\n",
    "Inline: `$e=m c^2$` <br>\n",
    "zentriert: `$$e=m c^2$$`\n",
    "\n",
    "Inline: $e=m c^2$ <br>\n",
    "zentriert: $$e=m c^2$$"
   ]
  },
  {
   "cell_type": "code",
   "execution_count": null,
   "id": "bb4cac85",
   "metadata": {},
   "outputs": [],
   "source": []
  },
  {
   "cell_type": "markdown",
   "id": "96d3207d",
   "metadata": {},
   "source": [
    "### Tabellen\n",
    "```\n",
    "First Header  | Second Header`\n",
    "  ------------- | -------------`\n",
    "  Content Cell  | Content Cell`\n",
    "  Content Cell  | Content Cell`\n",
    "```\n",
    "\n",
    "\n",
    "  First Header  | Second Header\n",
    "  ------------- | -------------\n",
    "  Content Cell  | Content Cell\n",
    "  Content Cell  | Content Cell"
   ]
  },
  {
   "cell_type": "markdown",
   "id": "a2faccfe",
   "metadata": {},
   "source": []
  },
  {
   "cell_type": "markdown",
   "id": "6d022cf1",
   "metadata": {},
   "source": [
    "### Bilder\n",
    "\n",
    "`![Alternativtext](https://jupyter.org/assets/nav_logo.svg)`\n",
    "\n",
    "![Alternativtext](https://jupyter.org/assets/nav_logo.svg)\n",
    "\n",
    "Alternative mit html:<br>\n",
    "`<img src=\"https://jupyter.org/assets/nav_logo.svg\" width=300/>`\n",
    "\n",
    "<img src=\"https://jupyter.org/assets/nav_logo.svg\" width=300/>\n"
   ]
  },
  {
   "cell_type": "markdown",
   "id": "7ff31c0a",
   "metadata": {},
   "source": []
  },
  {
   "cell_type": "markdown",
   "id": "30abe071",
   "metadata": {},
   "source": [
    "### Links\n",
    "\n",
    "`[HTWK Leipzig](http://www.htwk-leipzig.de)`\n",
    "\n",
    "[HTWK Leipzig](http://www.htwk-leipzig.de)\n",
    "\n",
    "\n",
    "```\n",
    "Das ist ein Beispieltext mit Referenzen[Ref1][1] . Das ist ein Beispieltext mit Referenzen [Ref2][2].\n",
    "Die Links können dann darunter stehen\n",
    "\n",
    "   [1]: http://www.jupyter.org\n",
    "   [2]: http://www.htwk-leipzig.de\n",
    "```\n",
    "\n",
    "Das ist ein Beispieltext mit Referenzen [Ref1][1] . Das ist ein Beispieltext mit Referenzen [Ref2][2].\n",
    "Die Links können dann darunter stehen\n",
    "\n",
    "   [1]: http://www.jupyter.org\n",
    "   [2]: http://www.htwk-leipzig.de\n"
   ]
  },
  {
   "cell_type": "markdown",
   "id": "24375f87",
   "metadata": {},
   "source": []
  },
  {
   "cell_type": "markdown",
   "id": "d3725adb",
   "metadata": {},
   "source": [
    "### Code \n",
    "\n",
    "```\n",
    "Ein Codeelement mit dem Einschluss von Anführungszeichen: also so `Code` dargestellt werden\n",
    "\n",
    "```\n",
    "\n",
    "Ein `Codeelement` der Rest ist Text\n",
    "\n",
    "\n",
    "```\n",
    "Mehrere Codezeilen werden durch drei Anführungszeichen zu Beginn und drei zum Ende definiert\n",
    "```\n",
    "\n",
    " \n",
    "\n"
   ]
  },
  {
   "cell_type": "code",
   "execution_count": null,
   "id": "f927f73b",
   "metadata": {},
   "outputs": [],
   "source": []
  },
  {
   "cell_type": "markdown",
   "id": "e1e9a102",
   "metadata": {},
   "source": [
    "### Farbige Boxen"
   ]
  },
  {
   "cell_type": "markdown",
   "id": "7e3f652d",
   "metadata": {},
   "source": [
    "```\n",
    "<div class=\"alert alert-block alert-info\">\n",
    "<b>Tipp:</b> Blaue Boxen .. \n",
    "</div>\n",
    "```"
   ]
  },
  {
   "cell_type": "markdown",
   "id": "6ab77cff",
   "metadata": {},
   "source": [
    "<div class=\"alert alert-block alert-info\">\n",
    "<b>Tipp:</b> Blaue Boxen (alert-info) \n",
    "</div>"
   ]
  },
  {
   "cell_type": "markdown",
   "id": "ab7d70d4",
   "metadata": {},
   "source": [
    "```\n",
    "<div class=\"alert alert-block alert-warning\">\n",
    "<b>Beispiel:</b> Gelbe Boxen (alert-warning)\n",
    "</div>\n",
    "```"
   ]
  },
  {
   "cell_type": "markdown",
   "id": "72eadc41",
   "metadata": {},
   "source": [
    "<div class=\"alert alert-block alert-warning\">\n",
    "<b>Beispiel:</b> Gelbe Boxen (alert-warning)\n",
    "</div>"
   ]
  },
  {
   "cell_type": "markdown",
   "id": "c4a3255b",
   "metadata": {},
   "source": [
    "```\n",
    "<div class=\"alert alert-block alert-success\">\n",
    "<b>Erfolg:</b> Grüne Boxen (alert-success)\n",
    "</div>\n",
    "```"
   ]
  },
  {
   "cell_type": "markdown",
   "id": "b3a49158",
   "metadata": {},
   "source": [
    "<div class=\"alert alert-block alert-success\">\n",
    "<b>Erfolg:</b> Grüne Boxen (alert-success)\n",
    "</div>"
   ]
  },
  {
   "cell_type": "markdown",
   "id": "009653ab",
   "metadata": {},
   "source": [
    "```\n",
    "<div class=\"alert alert-block alert-danger\">\n",
    "<b>Warnung:</b> Rote Boxen (alert-danger)\n",
    "</div>\n",
    "```"
   ]
  },
  {
   "cell_type": "markdown",
   "id": "52048e3b",
   "metadata": {},
   "source": [
    "<div class=\"alert alert-block alert-danger\">\n",
    "<b>Warnung:</b> Rote Boxen (alert-danger)\n",
    "</div>"
   ]
  }
 ],
 "metadata": {
  "kernelspec": {
   "display_name": "Python 3",
   "language": "python",
   "name": "python3"
  },
  "language_info": {
   "codemirror_mode": {
    "name": "ipython",
    "version": 3
   },
   "file_extension": ".py",
   "mimetype": "text/x-python",
   "name": "python",
   "nbconvert_exporter": "python",
   "pygments_lexer": "ipython3",
   "version": "3.8.5"
  }
 },
 "nbformat": 4,
 "nbformat_minor": 5
}
